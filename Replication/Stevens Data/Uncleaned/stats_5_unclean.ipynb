{
 "cells": [
  {
   "cell_type": "code",
   "execution_count": 1,
   "id": "beab4293",
   "metadata": {},
   "outputs": [],
   "source": [
    "import pandas as pd\n",
    "import numpy as np"
   ]
  },
  {
   "cell_type": "code",
   "execution_count": 2,
   "id": "fd7dc045",
   "metadata": {},
   "outputs": [],
   "source": [
    "def get_direct_link(shared_link):\n",
    "    return 'https://drive.google.com/uc?export=download&id=' + shared_link.split('/')[-2]\n",
    "\n",
    "link = \"https://drive.google.com/file/d/1IGqTjvCbZy5qRVbYRdv_H9av3wg-PLFL/view?usp=drive_link\"\n",
    "direct_link = get_direct_link(link)\n",
    "df = pd.read_csv(direct_link)"
   ]
  },
  {
   "cell_type": "code",
   "execution_count": 3,
   "id": "e24f90e9",
   "metadata": {},
   "outputs": [],
   "source": [
    "df['date'] = pd.to_datetime(df.date)\n",
    "df = df.sort_values(by='Date')"
   ]
  },
  {
   "cell_type": "code",
   "execution_count": 6,
   "id": "8c211a51",
   "metadata": {},
   "outputs": [],
   "source": [
    "df.columns = [column[:-2] if column.endswith('_w_l') else column for column in df.columns]"
   ]
  },
  {
   "cell_type": "code",
   "execution_count": 7,
   "id": "d0331f34",
   "metadata": {},
   "outputs": [],
   "source": [
    "def rankdist(rank_w, rank_l):\n",
    "    if np.isnan(rank_w):\n",
    "        inv_w = 0\n",
    "    else:\n",
    "        inv_w = 1/rank_w\n",
    "    if np.isnan(rank_l):\n",
    "        inv_l = 0\n",
    "    else:\n",
    "        inv_l = 1/rank_l\n",
    "      \n",
    "    rankdist = - (inv_w - inv_l)\n",
    "    \n",
    "    return rankdist\n",
    "\n",
    "df['rankdist_w'] = [rankdist(w,l) for w,l in zip(df['WRank'], df['LRank'])]\n",
    "df['rankdist_l'] = [rankdist(l,w) for w,l in zip(df['WRank'], df['LRank'])]"
   ]
  },
  {
   "cell_type": "code",
   "execution_count": 9,
   "id": "9bdc9d01",
   "metadata": {
    "scrolled": false
   },
   "outputs": [
    {
     "name": "stderr",
     "output_type": "stream",
     "text": [
      "C:\\Users\\Archie Stevens\\AppData\\Local\\Temp\\ipykernel_63440\\1354360755.py:3: RuntimeWarning: divide by zero encountered in log\n",
      "  buzz = np.log(winner_pageviews / winner_median) - np.log(loser_pageviews / loser_median)\n",
      "C:\\Users\\Archie Stevens\\AppData\\Local\\Temp\\ipykernel_63440\\1354360755.py:3: RuntimeWarning: divide by zero encountered in log\n",
      "  buzz = np.log(winner_pageviews / winner_median) - np.log(loser_pageviews / loser_median)\n"
     ]
    }
   ],
   "source": [
    "def wikibuzz(winner_pageviews, winner_median, loser_pageviews, loser_median):\n",
    "    try:\n",
    "        buzz = np.log(winner_pageviews / winner_median) - np.log(loser_pageviews / loser_median)\n",
    "    except ZeroDivisionError:\n",
    "        buzz = 'ZeroDivisionError'\n",
    "    return buzz\n",
    "\n",
    "df['wikibuzz_w'] = [wikibuzz(row[0], row[1], row[2], row[3]) for row in zip(df['wiki_yesterday_w'], df['wiki_med365_w'],\n",
    "                                                                                df['wiki_yesterday_l'], df['wiki_med365_l'])]\n",
    "df['wikibuzz_l'] = [wikibuzz(row[0], row[1], row[2], row[3]) for row in zip(df['wiki_yesterday_l'], df['wiki_med365_l'],\n",
    "                                                                                df['wiki_yesterday_w'], df['wiki_med365_w'])]"
   ]
  },
  {
   "cell_type": "code",
   "execution_count": 11,
   "id": "2826d6c7",
   "metadata": {},
   "outputs": [],
   "source": [
    "df['inverse_bestodds_w'] = [1/x for x in df['MaxW']]\n",
    "df['inverse_bestodds_l'] = [1/x for x in df['MaxL']]\n",
    "df['inverse_avg_w'] = [1/x for x in df['AvgW']]\n",
    "df['inverse_avg_l'] = [1/x for x in df['AvgL']]\n",
    "df['inverse_B365_w'] = [1/x for x in df['B365W']]\n",
    "df['inverse_B365_l'] = [1/x for x in df['B365L']]"
   ]
  },
  {
   "cell_type": "code",
   "execution_count": 12,
   "id": "7d848537",
   "metadata": {},
   "outputs": [],
   "source": [
    "df.Date = pd.to_datetime(df.Date, format='%Y-%m-%d')"
   ]
  },
  {
   "cell_type": "code",
   "execution_count": 14,
   "id": "127c920b",
   "metadata": {},
   "outputs": [],
   "source": [
    "df['match_id'] = df.index\n",
    "\n",
    "df_winners = df[['match_id', 'Winner', 'Date', 'Year', 'rankdist_w', 'wikibuzz_w', 'inverse_B365_w', 'inverse_avg_w', 'inverse_bestodds_w']].copy()\n",
    "df_winners['outcome'] = 1\n",
    "df_losers = df[['match_id', 'Loser', 'Date', 'Year', 'rankdist_l', 'wikibuzz_l', 'inverse_B365_l', 'inverse_avg_l', 'inverse_bestodds_l']].copy()\n",
    "df_losers['outcome'] = 0\n",
    "\n",
    "df_winners.rename({'Winner': 'player', 'rankdist_w': 'rankdist', 'wikibuzz_w': 'wikibuzz',\n",
    "                   'inverse_B365_w': 'inverse_B365', 'inverse_avg_w': 'inverse_avg', 'inverse_bestodds_w': 'inverse_best'}, axis=1, inplace=True)\n",
    "df_losers.rename({'Loser': 'player', 'rankdist_l': 'rankdist', 'wikibuzz_l': 'wikibuzz',\n",
    "                   'inverse_B365_l': 'inverse_B365', 'inverse_avg_l': 'inverse_avg', 'inverse_bestodds_l': 'inverse_best'}, axis=1, inplace=True)"
   ]
  },
  {
   "cell_type": "code",
   "execution_count": 16,
   "id": "9e57dc9b",
   "metadata": {},
   "outputs": [],
   "source": [
    "df = pd.concat([df_winners, df_losers], axis=0)"
   ]
  },
  {
   "cell_type": "code",
   "execution_count": 18,
   "id": "5b475e58",
   "metadata": {},
   "outputs": [],
   "source": [
    "df = df.loc[df[\"wikibuzz\"] != np.inf]\n",
    "df = df.loc[df[\"wikibuzz\"] != -np.inf]\n",
    "df = df.loc[df[\"wikibuzz\"] != 'ZeroDivisionError']\n",
    "\n",
    "df = df[df['wikibuzz'].notna()]\n",
    "df = df[df['rankdist'].notna()]\n",
    "df = df[df['inverse_avg'].notna()]\n",
    "df = df[df['inverse_B365'].notna()]\n",
    "\n",
    "df.sort_values(by='Date', inplace = True)"
   ]
  },
  {
   "cell_type": "code",
   "execution_count": 21,
   "id": "4085953b",
   "metadata": {},
   "outputs": [],
   "source": [
    "df.to_csv('unclean_final.csv', index=False)"
   ]
  }
 ],
 "metadata": {
  "kernelspec": {
   "display_name": "Python 3 (ipykernel)",
   "language": "python",
   "name": "python3"
  },
  "language_info": {
   "codemirror_mode": {
    "name": "ipython",
    "version": 3
   },
   "file_extension": ".py",
   "mimetype": "text/x-python",
   "name": "python",
   "nbconvert_exporter": "python",
   "pygments_lexer": "ipython3",
   "version": "3.9.12"
  }
 },
 "nbformat": 4,
 "nbformat_minor": 5
}
