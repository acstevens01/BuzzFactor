{
 "cells": [
  {
   "cell_type": "code",
   "execution_count": 53,
   "id": "d22647ff",
   "metadata": {},
   "outputs": [],
   "source": [
    "import pandas as pd\n",
    "def get_direct_link(shared_link):\n",
    "    return 'https://drive.google.com/uc?export=download&id=' + shared_link.split('/')[-2]\n",
    "\n",
    "link = \"https://drive.google.com/file/d/1sqMB2aRD2L77BsOiTDNjp-VzZX2NOEeR/view?usp=drive_link\"\n",
    "\n",
    "direct_link = get_direct_link(link)\n",
    "combined_df = pd.read_csv(direct_link, encoding='utf-8')\n",
    "\n",
    "players = pd.DataFrame(pd.concat([combined_df['Winner'],combined_df['Loser']]).unique())\n",
    "players.columns = ['original_names']\n",
    "players['search_query'] = players['original_names'] + \" womens tennis wikipedia\""
   ]
  },
  {
   "cell_type": "code",
   "execution_count": 24,
   "id": "1f5642e1",
   "metadata": {},
   "outputs": [],
   "source": [
    "import requests\n",
    "from bs4 import BeautifulSoup\n",
    "import urllib.parse\n",
    "\n",
    "def get_first_search_result_title(query):\n",
    "    query = urllib.parse.quote_plus(query)\n",
    "    url = f\"https://www.google.com/search?q={query}\"\n",
    "\n",
    "    headers = {\n",
    "        \"User-Agent\": \"Mozilla/5.0 (Windows NT 10.0; Win64; x64) AppleWebKit/537.36 (KHTML, like Gecko) Chrome/91.0.4472.124 Safari/537.36\",\n",
    "        'Accept-Language': 'en-US,en;q=0.5'\n",
    "    }\n",
    "    \n",
    "    response = requests.get(url, headers=headers)\n",
    "    soup = BeautifulSoup(response.text, \"html.parser\")\n",
    "    first_result = soup.find(\"div\", {\"class\": \"yuRUbf\"})\n",
    "    if first_result:\n",
    "        title = first_result.find(\"h3\").text\n",
    "        return title.strip()\n",
    "\n",
    "    return None\n",
    "\n",
    "# due to limits on requests we use the count value to show which names have been searched\n",
    "count = 0\n",
    "for index, row in players.iterrows():\n",
    "    if index < count:\n",
    "        continue\n",
    "    query = row[\"search_query\"]\n",
    "    result_title = get_first_search_result_title(query)\n",
    "    if not result_title:\n",
    "        print(count,index,row['original_names'])\n",
    "        break\n",
    "    players.at[index, \"wiki_title\"] = result_title if result_title else \"No search results found\""
   ]
  },
  {
   "cell_type": "code",
   "execution_count": 29,
   "id": "83c90caf",
   "metadata": {},
   "outputs": [],
   "source": [
    "players[\"wiki_title\"] = players[\"wiki_title\"].str.replace(' - Wikipedia', '')"
   ]
  },
  {
   "cell_type": "code",
   "execution_count": 32,
   "id": "52a22f78",
   "metadata": {},
   "outputs": [],
   "source": [
    "corrections = {\n",
    "    'Radwanskax U.': 'Urszula Radwańska',\n",
    "    'Zheng S.': 'Zheng Saisai',\n",
    "    'Knapp K.': 'Karin Knapp',\n",
    "    'Allertova D.': 'Denisa Šátralová',\n",
    "    'Chang K.C.': 'Chang Kai-chen',\n",
    "    'Ce G.': 'Gabriela Cé',\n",
    "    'Zhang K-L.': 'Zhang Kailin',\n",
    "    'Zhang K.L.': 'Zhang Kailin',\n",
    "    'King V.': 'Vania King',\n",
    "    'Zhang Yux.': 'Zhang Yuxuan',\n",
    "    'Zhang Yi.': 'Zhang Ying (tennis)',\n",
    "    'Liu F.': 'Liu Fangzhou',\n",
    "    'Krejsova P.': 'Petra Krejsová',\n",
    "    'Wang Y.': 'Wang Yafan',\n",
    "    'Sanchez A.S.': 'Ana Sofía Sánchez',\n",
    "    'Mayr P.': 'Patricia Mayr-Achleitner',\n",
    "    'Perez Garcia M.P.': 'María Paulina Pérez',\n",
    "    'Safarova Z.': 'Zuleykha Safarova',\n",
    "    'Zhang L.': 'Zhang Ling (tennis)',\n",
    "    'Shoshyna A.': 'Anastasiya Shoshyna',\n",
    "    'Pous-T L.': 'Laura Pous Tió',\n",
    "    'Xu S.': 'Xu Shilin',\n",
    "    'Zheng W.': 'Zheng Wushuang',\n",
    "    'Ng K.Y.': 'Ng Kwan-yau',\n",
    "    'Lee S.R.': 'Lee So-ra (tennis)',\n",
    "    'Park S.': 'Park So-hyun (tennis)',\n",
    "    'Bai A.': 'Alison Bai',\n",
    "    'Wang M.': 'Wang Meiling',\n",
    "    'Ma S.': 'Ma Shuyue',\n",
    "    'Bogdan E.': 'Elena Bogdan',  \n",
    "    'Rosca A.': 'Andreea Roșca',\n",
    "    'Alves M.F.': 'Maria Fernanda Alves',\n",
    "    'Patterson T.': 'Tammi Patterson',\n",
    "    'Lee P.C.': 'Lee Pei-chi',\n",
    "    'Mayo A.': 'Alyssa Mayo',\n",
    "    'Choi J-H.': 'Choi Ji-hee',\n",
    "    'Fruhvirtova B.': 'Brenda Fruhvirtová',\n",
    "    'Yu E.': 'Eleana Yu',\n",
    "    'Back D.': 'Back Da-yeon',\n",
    "    'Crawley F.': 'Fiona Crawley',\n",
    "}"
   ]
  },
  {
   "cell_type": "code",
   "execution_count": 33,
   "id": "cdba3d62",
   "metadata": {},
   "outputs": [],
   "source": [
    "players['wiki_title'] = players['original_names'].map(corrections).fillna(players['wiki_title'])"
   ]
  },
  {
   "cell_type": "code",
   "execution_count": 34,
   "id": "5eaabd84",
   "metadata": {},
   "outputs": [],
   "source": [
    "import numpy as np\n",
    "no_pages = ['Benhadi G.', 'El Aouni A.', 'Ewald W.']\n",
    "no_pages_idx = [419, 728, 744]\n",
    "for p in no_pages_idx:\n",
    "    players.loc[p,'wiki_title'] = np.nan"
   ]
  },
  {
   "cell_type": "code",
   "execution_count": 36,
   "id": "51c571d7",
   "metadata": {},
   "outputs": [],
   "source": [
    "players.to_csv(\"wiki_players.csv\", encoding='utf-8', index=False)"
   ]
  }
 ],
 "metadata": {
  "kernelspec": {
   "display_name": "Python 3 (ipykernel)",
   "language": "python",
   "name": "python3"
  },
  "language_info": {
   "codemirror_mode": {
    "name": "ipython",
    "version": 3
   },
   "file_extension": ".py",
   "mimetype": "text/x-python",
   "name": "python",
   "nbconvert_exporter": "python",
   "pygments_lexer": "ipython3",
   "version": "3.9.12"
  }
 },
 "nbformat": 4,
 "nbformat_minor": 5
}
