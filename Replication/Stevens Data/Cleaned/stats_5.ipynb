{
 "cells": [
  {
   "cell_type": "code",
   "execution_count": 1,
   "id": "beab4293",
   "metadata": {},
   "outputs": [],
   "source": [
    "import pandas as pd\n",
    "import numpy as np"
   ]
  },
  {
   "cell_type": "code",
   "execution_count": 2,
   "id": "d1aeaf4b",
   "metadata": {},
   "outputs": [],
   "source": [
    "def get_direct_link(shared_link):\n",
    "    return 'https://drive.google.com/uc?export=download&id=' + shared_link.split('/')[-2]\n",
    "\n",
    "link = \"https://drive.google.com/file/d/1Aw6GPSBIVI1TQDEkEH5nRxBxm0SBfBR4/view?usp=drive_link\"\n",
    "direct_link = get_direct_link(link)\n",
    "df = pd.read_csv(direct_link)"
   ]
  },
  {
   "cell_type": "code",
   "execution_count": 3,
   "id": "e24f90e9",
   "metadata": {},
   "outputs": [],
   "source": [
    "df['date'] = pd.to_datetime(df.date)\n",
    "df = df.sort_values(by='Date')"
   ]
  },
  {
   "cell_type": "code",
   "execution_count": 6,
   "id": "8c211a51",
   "metadata": {},
   "outputs": [],
   "source": [
    "df.columns = [column[:-2] if column.endswith('_w_l') else column for column in df.columns]"
   ]
  },
  {
   "cell_type": "code",
   "execution_count": 7,
   "id": "d0331f34",
   "metadata": {},
   "outputs": [],
   "source": [
    "def rankdist(rank_w, rank_l):\n",
    "    if np.isnan(rank_w):\n",
    "        inv_w = 0\n",
    "    else:\n",
    "        inv_w = 1/rank_w\n",
    "    if np.isnan(rank_l):\n",
    "        inv_l = 0\n",
    "    else:\n",
    "        inv_l = 1/rank_l\n",
    "      \n",
    "    rankdist = - (inv_w - inv_l)\n",
    "    \n",
    "    return rankdist\n",
    "\n",
    "df['rankdist_w'] = [rankdist(w,l) for w,l in zip(df['WRank'], df['LRank'])]\n",
    "df['rankdist_l'] = [rankdist(l,w) for w,l in zip(df['WRank'], df['LRank'])]"
   ]
  },
  {
   "cell_type": "code",
   "execution_count": 8,
   "id": "b898fa38",
   "metadata": {},
   "outputs": [
    {
     "data": {
      "text/plain": [
       "(17550, 28)"
      ]
     },
     "execution_count": 8,
     "metadata": {},
     "output_type": "execute_result"
    }
   ],
   "source": [
    "df.shape"
   ]
  },
  {
   "cell_type": "code",
   "execution_count": 9,
   "id": "9bdc9d01",
   "metadata": {
    "scrolled": false
   },
   "outputs": [
    {
     "name": "stderr",
     "output_type": "stream",
     "text": [
      "C:\\Users\\Archie Stevens\\AppData\\Local\\Temp\\ipykernel_71632\\1354360755.py:3: RuntimeWarning: divide by zero encountered in log\n",
      "  buzz = np.log(winner_pageviews / winner_median) - np.log(loser_pageviews / loser_median)\n",
      "C:\\Users\\Archie Stevens\\AppData\\Local\\Temp\\ipykernel_71632\\1354360755.py:3: RuntimeWarning: divide by zero encountered in log\n",
      "  buzz = np.log(winner_pageviews / winner_median) - np.log(loser_pageviews / loser_median)\n"
     ]
    }
   ],
   "source": [
    "def wikibuzz(winner_pageviews, winner_median, loser_pageviews, loser_median):\n",
    "    try:\n",
    "        buzz = np.log(winner_pageviews / winner_median) - np.log(loser_pageviews / loser_median)\n",
    "    except ZeroDivisionError:\n",
    "        buzz = 'ZeroDivisionError'\n",
    "    return buzz\n",
    "\n",
    "df['wikibuzz_w'] = [wikibuzz(row[0], row[1], row[2], row[3]) for row in zip(df['wiki_yesterday_w'], df['wiki_med365_w'],\n",
    "                                                                                df['wiki_yesterday_l'], df['wiki_med365_l'])]\n",
    "df['wikibuzz_l'] = [wikibuzz(row[0], row[1], row[2], row[3]) for row in zip(df['wiki_yesterday_l'], df['wiki_med365_l'],\n",
    "                                                                                df['wiki_yesterday_w'], df['wiki_med365_w'])]"
   ]
  },
  {
   "cell_type": "code",
   "execution_count": 10,
   "id": "746bf9ac",
   "metadata": {},
   "outputs": [
    {
     "data": {
      "text/plain": [
       "(17550, 30)"
      ]
     },
     "execution_count": 10,
     "metadata": {},
     "output_type": "execute_result"
    }
   ],
   "source": [
    "df.shape"
   ]
  },
  {
   "cell_type": "code",
   "execution_count": 11,
   "id": "2826d6c7",
   "metadata": {},
   "outputs": [],
   "source": [
    "df['inverse_bestodds_w'] = [1/x for x in df['MaxW']]\n",
    "df['inverse_bestodds_l'] = [1/x for x in df['MaxL']]\n",
    "df['inverse_avg_w'] = [1/x for x in df['AvgW']]\n",
    "df['inverse_avg_l'] = [1/x for x in df['AvgL']]\n",
    "df['inverse_B365_w'] = [1/x for x in df['B365W']]\n",
    "df['inverse_B365_l'] = [1/x for x in df['B365L']]"
   ]
  },
  {
   "cell_type": "code",
   "execution_count": 12,
   "id": "7d848537",
   "metadata": {},
   "outputs": [],
   "source": [
    "df.Date = pd.to_datetime(df.Date, format='%Y-%m-%d')"
   ]
  },
  {
   "cell_type": "code",
   "execution_count": 13,
   "id": "3d47b82a",
   "metadata": {},
   "outputs": [
    {
     "data": {
      "text/plain": [
       "(17550, 36)"
      ]
     },
     "execution_count": 13,
     "metadata": {},
     "output_type": "execute_result"
    }
   ],
   "source": [
    "df.shape"
   ]
  },
  {
   "cell_type": "code",
   "execution_count": 14,
   "id": "127c920b",
   "metadata": {},
   "outputs": [],
   "source": [
    "df['match_id'] = df.index\n",
    "\n",
    "df_winners = df[['match_id', 'Winner', 'Date', 'Year', 'rankdist_w', 'wikibuzz_w', 'inverse_B365_w', 'inverse_avg_w', 'inverse_bestodds_w']].copy()\n",
    "df_winners['outcome'] = 1\n",
    "df_losers = df[['match_id', 'Loser', 'Date', 'Year', 'rankdist_l', 'wikibuzz_l', 'inverse_B365_l', 'inverse_avg_l', 'inverse_bestodds_l']].copy()\n",
    "df_losers['outcome'] = 0\n",
    "\n",
    "df_winners.rename({'Winner': 'player', 'rankdist_w': 'rankdist', 'wikibuzz_w': 'wikibuzz',\n",
    "                   'inverse_B365_w': 'inverse_B365', 'inverse_avg_w': 'inverse_avg', 'inverse_bestodds_w': 'inverse_best'}, axis=1, inplace=True)\n",
    "df_losers.rename({'Loser': 'player', 'rankdist_l': 'rankdist', 'wikibuzz_l': 'wikibuzz',\n",
    "                   'inverse_B365_l': 'inverse_B365', 'inverse_avg_l': 'inverse_avg', 'inverse_bestodds_l': 'inverse_best'}, axis=1, inplace=True)"
   ]
  },
  {
   "cell_type": "code",
   "execution_count": 15,
   "id": "dc2709ef",
   "metadata": {},
   "outputs": [
    {
     "data": {
      "text/html": [
       "<div>\n",
       "<style scoped>\n",
       "    .dataframe tbody tr th:only-of-type {\n",
       "        vertical-align: middle;\n",
       "    }\n",
       "\n",
       "    .dataframe tbody tr th {\n",
       "        vertical-align: top;\n",
       "    }\n",
       "\n",
       "    .dataframe thead th {\n",
       "        text-align: right;\n",
       "    }\n",
       "</style>\n",
       "<table border=\"1\" class=\"dataframe\">\n",
       "  <thead>\n",
       "    <tr style=\"text-align: right;\">\n",
       "      <th></th>\n",
       "      <th>match_id</th>\n",
       "      <th>player</th>\n",
       "      <th>Date</th>\n",
       "      <th>Year</th>\n",
       "      <th>rankdist</th>\n",
       "      <th>wikibuzz</th>\n",
       "      <th>inverse_B365</th>\n",
       "      <th>inverse_avg</th>\n",
       "      <th>inverse_best</th>\n",
       "      <th>outcome</th>\n",
       "    </tr>\n",
       "  </thead>\n",
       "  <tbody>\n",
       "    <tr>\n",
       "      <th>3460</th>\n",
       "      <td>3460</td>\n",
       "      <td>Mattek-Sands B.</td>\n",
       "      <td>2015-07-01</td>\n",
       "      <td>2015</td>\n",
       "      <td>0.136528</td>\n",
       "      <td>NaN</td>\n",
       "      <td>0.250000</td>\n",
       "      <td>0.255102</td>\n",
       "      <td>0.239234</td>\n",
       "      <td>1</td>\n",
       "    </tr>\n",
       "    <tr>\n",
       "      <th>16330</th>\n",
       "      <td>16330</td>\n",
       "      <td>Azarenka V.</td>\n",
       "      <td>2015-07-01</td>\n",
       "      <td>2015</td>\n",
       "      <td>-0.031250</td>\n",
       "      <td>ZeroDivisionError</td>\n",
       "      <td>0.925926</td>\n",
       "      <td>0.934579</td>\n",
       "      <td>0.909091</td>\n",
       "      <td>1</td>\n",
       "    </tr>\n",
       "    <tr>\n",
       "      <th>1485</th>\n",
       "      <td>1485</td>\n",
       "      <td>Petkovic A.</td>\n",
       "      <td>2015-07-01</td>\n",
       "      <td>2015</td>\n",
       "      <td>-0.061328</td>\n",
       "      <td>NaN</td>\n",
       "      <td>0.909091</td>\n",
       "      <td>0.900901</td>\n",
       "      <td>0.892857</td>\n",
       "      <td>1</td>\n",
       "    </tr>\n",
       "    <tr>\n",
       "      <th>3200</th>\n",
       "      <td>3200</td>\n",
       "      <td>Bencic B.</td>\n",
       "      <td>2015-07-01</td>\n",
       "      <td>2015</td>\n",
       "      <td>-0.033960</td>\n",
       "      <td>NaN</td>\n",
       "      <td>0.862069</td>\n",
       "      <td>0.869565</td>\n",
       "      <td>0.854701</td>\n",
       "      <td>1</td>\n",
       "    </tr>\n",
       "    <tr>\n",
       "      <th>6682</th>\n",
       "      <td>6682</td>\n",
       "      <td>Kulichkova E.</td>\n",
       "      <td>2015-07-01</td>\n",
       "      <td>2015</td>\n",
       "      <td>0.002189</td>\n",
       "      <td>NaN</td>\n",
       "      <td>0.444444</td>\n",
       "      <td>0.444444</td>\n",
       "      <td>0.416667</td>\n",
       "      <td>1</td>\n",
       "    </tr>\n",
       "    <tr>\n",
       "      <th>...</th>\n",
       "      <td>...</td>\n",
       "      <td>...</td>\n",
       "      <td>...</td>\n",
       "      <td>...</td>\n",
       "      <td>...</td>\n",
       "      <td>...</td>\n",
       "      <td>...</td>\n",
       "      <td>...</td>\n",
       "      <td>...</td>\n",
       "      <td>...</td>\n",
       "    </tr>\n",
       "    <tr>\n",
       "      <th>2437</th>\n",
       "      <td>2437</td>\n",
       "      <td>Rus A.</td>\n",
       "      <td>2023-07-29</td>\n",
       "      <td>2023</td>\n",
       "      <td>-0.011836</td>\n",
       "      <td>3.307854</td>\n",
       "      <td>0.735294</td>\n",
       "      <td>0.735294</td>\n",
       "      <td>0.699301</td>\n",
       "      <td>1</td>\n",
       "    </tr>\n",
       "    <tr>\n",
       "      <th>6471</th>\n",
       "      <td>6471</td>\n",
       "      <td>Cocciaretto E.</td>\n",
       "      <td>2023-07-29</td>\n",
       "      <td>2023</td>\n",
       "      <td>-0.017358</td>\n",
       "      <td>ZeroDivisionError</td>\n",
       "      <td>0.636943</td>\n",
       "      <td>0.632911</td>\n",
       "      <td>0.595238</td>\n",
       "      <td>1</td>\n",
       "    </tr>\n",
       "    <tr>\n",
       "      <th>7632</th>\n",
       "      <td>7632</td>\n",
       "      <td>Swiatek I.</td>\n",
       "      <td>2023-07-30</td>\n",
       "      <td>2023</td>\n",
       "      <td>-0.990826</td>\n",
       "      <td>-0.460734</td>\n",
       "      <td>0.961538</td>\n",
       "      <td>0.970874</td>\n",
       "      <td>0.952381</td>\n",
       "      <td>1</td>\n",
       "    </tr>\n",
       "    <tr>\n",
       "      <th>7633</th>\n",
       "      <td>7633</td>\n",
       "      <td>Swiatek I.</td>\n",
       "      <td>2023-07-30</td>\n",
       "      <td>2023</td>\n",
       "      <td>-0.993464</td>\n",
       "      <td>-1.590987</td>\n",
       "      <td>0.952381</td>\n",
       "      <td>0.961538</td>\n",
       "      <td>0.952381</td>\n",
       "      <td>1</td>\n",
       "    </tr>\n",
       "    <tr>\n",
       "      <th>6472</th>\n",
       "      <td>6472</td>\n",
       "      <td>Cocciaretto E.</td>\n",
       "      <td>2023-07-30</td>\n",
       "      <td>2023</td>\n",
       "      <td>-0.011905</td>\n",
       "      <td>ZeroDivisionError</td>\n",
       "      <td>0.578035</td>\n",
       "      <td>0.564972</td>\n",
       "      <td>0.546448</td>\n",
       "      <td>1</td>\n",
       "    </tr>\n",
       "  </tbody>\n",
       "</table>\n",
       "<p>17550 rows × 10 columns</p>\n",
       "</div>"
      ],
      "text/plain": [
       "       match_id           player       Date  Year  rankdist  \\\n",
       "3460       3460  Mattek-Sands B. 2015-07-01  2015  0.136528   \n",
       "16330     16330      Azarenka V. 2015-07-01  2015 -0.031250   \n",
       "1485       1485      Petkovic A. 2015-07-01  2015 -0.061328   \n",
       "3200       3200        Bencic B. 2015-07-01  2015 -0.033960   \n",
       "6682       6682    Kulichkova E. 2015-07-01  2015  0.002189   \n",
       "...         ...              ...        ...   ...       ...   \n",
       "2437       2437           Rus A. 2023-07-29  2023 -0.011836   \n",
       "6471       6471   Cocciaretto E. 2023-07-29  2023 -0.017358   \n",
       "7632       7632       Swiatek I. 2023-07-30  2023 -0.990826   \n",
       "7633       7633       Swiatek I. 2023-07-30  2023 -0.993464   \n",
       "6472       6472   Cocciaretto E. 2023-07-30  2023 -0.011905   \n",
       "\n",
       "                wikibuzz  inverse_B365  inverse_avg  inverse_best  outcome  \n",
       "3460                 NaN      0.250000     0.255102      0.239234        1  \n",
       "16330  ZeroDivisionError      0.925926     0.934579      0.909091        1  \n",
       "1485                 NaN      0.909091     0.900901      0.892857        1  \n",
       "3200                 NaN      0.862069     0.869565      0.854701        1  \n",
       "6682                 NaN      0.444444     0.444444      0.416667        1  \n",
       "...                  ...           ...          ...           ...      ...  \n",
       "2437            3.307854      0.735294     0.735294      0.699301        1  \n",
       "6471   ZeroDivisionError      0.636943     0.632911      0.595238        1  \n",
       "7632           -0.460734      0.961538     0.970874      0.952381        1  \n",
       "7633           -1.590987      0.952381     0.961538      0.952381        1  \n",
       "6472   ZeroDivisionError      0.578035     0.564972      0.546448        1  \n",
       "\n",
       "[17550 rows x 10 columns]"
      ]
     },
     "execution_count": 15,
     "metadata": {},
     "output_type": "execute_result"
    }
   ],
   "source": [
    "df_winners"
   ]
  },
  {
   "cell_type": "code",
   "execution_count": 16,
   "id": "9e57dc9b",
   "metadata": {},
   "outputs": [],
   "source": [
    "df = pd.concat([df_winners, df_losers], axis=0)"
   ]
  },
  {
   "cell_type": "code",
   "execution_count": 17,
   "id": "6afdc36a",
   "metadata": {},
   "outputs": [
    {
     "data": {
      "text/plain": [
       "(35100, 10)"
      ]
     },
     "execution_count": 17,
     "metadata": {},
     "output_type": "execute_result"
    }
   ],
   "source": [
    "df.shape"
   ]
  },
  {
   "cell_type": "code",
   "execution_count": 18,
   "id": "5b475e58",
   "metadata": {},
   "outputs": [],
   "source": [
    "df = df.loc[df[\"wikibuzz\"] != np.inf]\n",
    "df = df.loc[df[\"wikibuzz\"] != -np.inf]\n",
    "df = df.loc[df[\"wikibuzz\"] != 'ZeroDivisionError']\n",
    "\n",
    "df = df[df['wikibuzz'].notna()]\n",
    "df = df[df['rankdist'].notna()]\n",
    "df = df[df['inverse_avg'].notna()]\n",
    "df = df[df['inverse_B365'].notna()]\n",
    "\n",
    "df.sort_values(by='Date', inplace = True)"
   ]
  },
  {
   "cell_type": "code",
   "execution_count": 19,
   "id": "66ddbb6b",
   "metadata": {},
   "outputs": [
    {
     "data": {
      "text/plain": [
       "(32226, 10)"
      ]
     },
     "execution_count": 19,
     "metadata": {},
     "output_type": "execute_result"
    }
   ],
   "source": [
    "df.shape"
   ]
  },
  {
   "cell_type": "code",
   "execution_count": 20,
   "id": "2ebb588b",
   "metadata": {},
   "outputs": [
    {
     "data": {
      "text/html": [
       "<div>\n",
       "<style scoped>\n",
       "    .dataframe tbody tr th:only-of-type {\n",
       "        vertical-align: middle;\n",
       "    }\n",
       "\n",
       "    .dataframe tbody tr th {\n",
       "        vertical-align: top;\n",
       "    }\n",
       "\n",
       "    .dataframe thead th {\n",
       "        text-align: right;\n",
       "    }\n",
       "</style>\n",
       "<table border=\"1\" class=\"dataframe\">\n",
       "  <thead>\n",
       "    <tr style=\"text-align: right;\">\n",
       "      <th></th>\n",
       "      <th>match_id</th>\n",
       "      <th>player</th>\n",
       "      <th>Date</th>\n",
       "      <th>Year</th>\n",
       "      <th>rankdist</th>\n",
       "      <th>wikibuzz</th>\n",
       "      <th>inverse_B365</th>\n",
       "      <th>inverse_avg</th>\n",
       "      <th>inverse_best</th>\n",
       "      <th>outcome</th>\n",
       "    </tr>\n",
       "  </thead>\n",
       "  <tbody>\n",
       "    <tr>\n",
       "      <th>9107</th>\n",
       "      <td>9107</td>\n",
       "      <td>Pliskova K.</td>\n",
       "      <td>2015-07-02</td>\n",
       "      <td>2015</td>\n",
       "      <td>0.032537</td>\n",
       "      <td>-2.164335</td>\n",
       "      <td>0.250000</td>\n",
       "      <td>0.242131</td>\n",
       "      <td>0.215054</td>\n",
       "      <td>1</td>\n",
       "    </tr>\n",
       "    <tr>\n",
       "      <th>15520</th>\n",
       "      <td>15520</td>\n",
       "      <td>Duan Y.Y.</td>\n",
       "      <td>2015-07-02</td>\n",
       "      <td>2015</td>\n",
       "      <td>0.004274</td>\n",
       "      <td>1.140344</td>\n",
       "      <td>0.363636</td>\n",
       "      <td>0.369004</td>\n",
       "      <td>0.347222</td>\n",
       "      <td>0</td>\n",
       "    </tr>\n",
       "    <tr>\n",
       "      <th>4324</th>\n",
       "      <td>4324</td>\n",
       "      <td>Svitolina E.</td>\n",
       "      <td>2015-07-02</td>\n",
       "      <td>2015</td>\n",
       "      <td>-0.042430</td>\n",
       "      <td>2.274586</td>\n",
       "      <td>0.546448</td>\n",
       "      <td>0.526316</td>\n",
       "      <td>0.487805</td>\n",
       "      <td>0</td>\n",
       "    </tr>\n",
       "    <tr>\n",
       "      <th>12904</th>\n",
       "      <td>12904</td>\n",
       "      <td>Cornet A.</td>\n",
       "      <td>2015-07-02</td>\n",
       "      <td>2015</td>\n",
       "      <td>-0.028840</td>\n",
       "      <td>2.163103</td>\n",
       "      <td>0.602410</td>\n",
       "      <td>0.595238</td>\n",
       "      <td>0.568182</td>\n",
       "      <td>0</td>\n",
       "    </tr>\n",
       "    <tr>\n",
       "      <th>4156</th>\n",
       "      <td>4156</td>\n",
       "      <td>Allertova D.</td>\n",
       "      <td>2015-07-02</td>\n",
       "      <td>2015</td>\n",
       "      <td>0.187952</td>\n",
       "      <td>0.993304</td>\n",
       "      <td>0.111111</td>\n",
       "      <td>0.115607</td>\n",
       "      <td>0.105263</td>\n",
       "      <td>0</td>\n",
       "    </tr>\n",
       "    <tr>\n",
       "      <th>...</th>\n",
       "      <td>...</td>\n",
       "      <td>...</td>\n",
       "      <td>...</td>\n",
       "      <td>...</td>\n",
       "      <td>...</td>\n",
       "      <td>...</td>\n",
       "      <td>...</td>\n",
       "      <td>...</td>\n",
       "      <td>...</td>\n",
       "      <td>...</td>\n",
       "    </tr>\n",
       "    <tr>\n",
       "      <th>10391</th>\n",
       "      <td>10391</td>\n",
       "      <td>Stefanini L.</td>\n",
       "      <td>2023-07-29</td>\n",
       "      <td>2023</td>\n",
       "      <td>-0.002723</td>\n",
       "      <td>-1.355923</td>\n",
       "      <td>0.454545</td>\n",
       "      <td>0.446429</td>\n",
       "      <td>0.418410</td>\n",
       "      <td>0</td>\n",
       "    </tr>\n",
       "    <tr>\n",
       "      <th>7633</th>\n",
       "      <td>7633</td>\n",
       "      <td>Swiatek I.</td>\n",
       "      <td>2023-07-30</td>\n",
       "      <td>2023</td>\n",
       "      <td>-0.993464</td>\n",
       "      <td>-1.590987</td>\n",
       "      <td>0.952381</td>\n",
       "      <td>0.961538</td>\n",
       "      <td>0.952381</td>\n",
       "      <td>1</td>\n",
       "    </tr>\n",
       "    <tr>\n",
       "      <th>7632</th>\n",
       "      <td>7632</td>\n",
       "      <td>Swiatek I.</td>\n",
       "      <td>2023-07-30</td>\n",
       "      <td>2023</td>\n",
       "      <td>-0.990826</td>\n",
       "      <td>-0.460734</td>\n",
       "      <td>0.961538</td>\n",
       "      <td>0.970874</td>\n",
       "      <td>0.952381</td>\n",
       "      <td>1</td>\n",
       "    </tr>\n",
       "    <tr>\n",
       "      <th>7632</th>\n",
       "      <td>7632</td>\n",
       "      <td>Wickmayer Y.</td>\n",
       "      <td>2023-07-30</td>\n",
       "      <td>2023</td>\n",
       "      <td>0.990826</td>\n",
       "      <td>0.460734</td>\n",
       "      <td>0.076923</td>\n",
       "      <td>0.078247</td>\n",
       "      <td>0.054855</td>\n",
       "      <td>0</td>\n",
       "    </tr>\n",
       "    <tr>\n",
       "      <th>7633</th>\n",
       "      <td>7633</td>\n",
       "      <td>Siegemund L.</td>\n",
       "      <td>2023-07-30</td>\n",
       "      <td>2023</td>\n",
       "      <td>0.993464</td>\n",
       "      <td>1.590987</td>\n",
       "      <td>0.090909</td>\n",
       "      <td>0.081833</td>\n",
       "      <td>0.060901</td>\n",
       "      <td>0</td>\n",
       "    </tr>\n",
       "  </tbody>\n",
       "</table>\n",
       "<p>32226 rows × 10 columns</p>\n",
       "</div>"
      ],
      "text/plain": [
       "       match_id        player       Date  Year  rankdist  wikibuzz  \\\n",
       "9107       9107   Pliskova K. 2015-07-02  2015  0.032537 -2.164335   \n",
       "15520     15520     Duan Y.Y. 2015-07-02  2015  0.004274  1.140344   \n",
       "4324       4324  Svitolina E. 2015-07-02  2015 -0.042430  2.274586   \n",
       "12904     12904     Cornet A. 2015-07-02  2015 -0.028840  2.163103   \n",
       "4156       4156  Allertova D. 2015-07-02  2015  0.187952  0.993304   \n",
       "...         ...           ...        ...   ...       ...       ...   \n",
       "10391     10391  Stefanini L. 2023-07-29  2023 -0.002723 -1.355923   \n",
       "7633       7633    Swiatek I. 2023-07-30  2023 -0.993464 -1.590987   \n",
       "7632       7632    Swiatek I. 2023-07-30  2023 -0.990826 -0.460734   \n",
       "7632       7632  Wickmayer Y. 2023-07-30  2023  0.990826  0.460734   \n",
       "7633       7633  Siegemund L. 2023-07-30  2023  0.993464  1.590987   \n",
       "\n",
       "       inverse_B365  inverse_avg  inverse_best  outcome  \n",
       "9107       0.250000     0.242131      0.215054        1  \n",
       "15520      0.363636     0.369004      0.347222        0  \n",
       "4324       0.546448     0.526316      0.487805        0  \n",
       "12904      0.602410     0.595238      0.568182        0  \n",
       "4156       0.111111     0.115607      0.105263        0  \n",
       "...             ...          ...           ...      ...  \n",
       "10391      0.454545     0.446429      0.418410        0  \n",
       "7633       0.952381     0.961538      0.952381        1  \n",
       "7632       0.961538     0.970874      0.952381        1  \n",
       "7632       0.076923     0.078247      0.054855        0  \n",
       "7633       0.090909     0.081833      0.060901        0  \n",
       "\n",
       "[32226 rows x 10 columns]"
      ]
     },
     "execution_count": 20,
     "metadata": {},
     "output_type": "execute_result"
    }
   ],
   "source": [
    "df"
   ]
  },
  {
   "cell_type": "code",
   "execution_count": 21,
   "id": "4085953b",
   "metadata": {},
   "outputs": [],
   "source": [
    "df.to_csv(data_dir + 'final.csv', index=False)"
   ]
  }
 ],
 "metadata": {
  "kernelspec": {
   "display_name": "Python 3 (ipykernel)",
   "language": "python",
   "name": "python3"
  },
  "language_info": {
   "codemirror_mode": {
    "name": "ipython",
    "version": 3
   },
   "file_extension": ".py",
   "mimetype": "text/x-python",
   "name": "python",
   "nbconvert_exporter": "python",
   "pygments_lexer": "ipython3",
   "version": "3.9.12"
  }
 },
 "nbformat": 4,
 "nbformat_minor": 5
}
