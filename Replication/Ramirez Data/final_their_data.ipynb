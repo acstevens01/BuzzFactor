{
 "cells": [
  {
   "cell_type": "code",
   "execution_count": 1,
   "id": "74845620",
   "metadata": {},
   "outputs": [],
   "source": [
    "import pandas as pd\n",
    "import numpy as np\n",
    "import statsmodels.api as sm\n",
    "import matplotlib.pyplot as plt\n",
    "\n",
    "import warnings\n",
    "warnings.filterwarnings(\"ignore\", category=UnicodeWarning)\n",
    "warnings.filterwarnings(\"ignore\", category=RuntimeWarning)"
   ]
  },
  {
   "cell_type": "code",
   "execution_count": 2,
   "id": "bde2f225",
   "metadata": {},
   "outputs": [],
   "source": [
    "def get_direct_link(shared_link):\n",
    "    return 'https://drive.google.com/uc?export=download&id=' + shared_link.split('/')[-2]\n",
    "\n",
    "link = \"https://drive.google.com/file/d/1Uaj-eE2SNav93r_dQDGUYsDnFeUK9rt1/view?usp=drive_link\"\n",
    "\n",
    "direct_link = get_direct_link(link)\n",
    "df = pd.read_csv(direct_link, encoding='utf-8')"
   ]
  },
  {
   "cell_type": "code",
   "execution_count": 3,
   "id": "f2c39b3b",
   "metadata": {
    "scrolled": true
   },
   "outputs": [],
   "source": [
    "train_df = df[~(df['date'] > '2019-01-00')].copy()\n",
    "test_df = df[(df['date'] > '2019-01-00')].copy()\n",
    "\n",
    "test_df.reset_index(inplace=True)"
   ]
  },
  {
   "cell_type": "code",
   "execution_count": 4,
   "id": "8787b03a",
   "metadata": {},
   "outputs": [],
   "source": [
    "def build_training_data(features):\n",
    "    x = np.array(train_df[features])\n",
    "    y = np.array(train_df['outcome'])\n",
    "    x = sm.add_constant(x)\n",
    "    x = x.astype(float)\n",
    "    return x, y\n",
    "\n",
    "def train_regression(features):\n",
    "    x, y = build_training_data(features)\n",
    "    model = sm.OLS(y, x).fit()\n",
    "    return model.params\n",
    "\n",
    "def train_model(rank=True, wiki=True):\n",
    "    features = ['inverse_avg']\n",
    "    if rank:\n",
    "        features.append('rankdist')\n",
    "    if wiki:\n",
    "        features.append('wikibuzz')\n",
    "    return train_regression(features)\n",
    "\n",
    "def model_prob(coef, inv_odds, rankdist=None, wikibuzz=None):\n",
    "    prob = coef[0] + coef[1] * inv_odds  \n",
    "    if rankdist is not None:\n",
    "        prob += coef[2] * rankdist\n",
    "    if wikibuzz is not None:\n",
    "        prob += coef[-1] * wikibuzz\n",
    "    return prob\n",
    "\n",
    "def kelly(implied_prob, predicted_prob):\n",
    "    return max(predicted_prob - ((1 - predicted_prob) / ((1 / implied_prob) - 1)), 0)\n",
    "\n",
    "def profit(stake, implied_prob, outcome):\n",
    "    return stake * (1 / implied_prob - 1) if outcome == 1 else -stake\n",
    "\n",
    "def estimate_probabilities(test_data, coef, odds_provider, use_rank=True, use_wiki=True):\n",
    "    if use_rank and use_wiki:\n",
    "        test_data['est_prob'] = test_data.apply(lambda row: model_prob(coef, row['inverse_avg'], row['rankdist'], row['wikibuzz']), axis=1)\n",
    "    elif use_rank:\n",
    "        test_data['est_prob'] = test_data.apply(lambda row: model_prob(coef, row['inverse_avg'], rankdist=row['rankdist']), axis=1)\n",
    "    elif use_wiki:\n",
    "        test_data['est_prob'] = test_data.apply(lambda row: model_prob(coef, row['inverse_avg'], wikibuzz=row['wikibuzz']), axis=1)\n",
    "    else:\n",
    "        test_data['est_prob'] = test_data['inverse_avg'].apply(lambda x: model_prob(coef, x))\n",
    "\n",
    "    return test_data\n",
    "\n",
    "def display_results(test_data, odds_provider):\n",
    "    bet_considered = len(test_data[test_data[f'inverse_{odds_provider}'].notna()])\n",
    "    bets_placed = len(test_data.loc[(test_data[\"profit\"].notna()) & (test_data[\"profit\"] != 0)])\n",
    "    mean_overround = ((test_data.sort_values(by=\"match_id\")[f\"inverse_{odds_provider}\"].rolling(2).sum().iloc[1::2].mean() - 1) * 100)\n",
    "    total_stake = test_data['stake'].sum()\n",
    "    total_return = test_data['profit'].sum()\n",
    "    roi = (((total_return + total_stake) / total_stake) - 1) * 100\n",
    "    \n",
    "    results = {\n",
    "        'Bets considered (2 * Matches)': bet_considered,\n",
    "        'Number of bets placed': bets_placed,\n",
    "        'Mean overround (%)': mean_overround,\n",
    "        'Absolute amount bet': total_stake,\n",
    "        'Absolute return': total_return,\n",
    "        'ROI (%)': roi\n",
    "    }\n",
    "    \n",
    "    return results\n",
    "\n",
    "def show_results(test_data, coef, odds_provider, rank=True, wiki=True):\n",
    "    test_data = estimate_probabilities(test_data, coef, odds_provider, rank, wiki)\n",
    "    test_data['stake'] = [kelly(a, b) for a, b in zip(test_data[f'inverse_{odds_provider}'], test_data['est_prob'])]\n",
    "    test_data['profit'] = [profit(a, b, c) for a, b, c in zip(test_data['stake'], test_data[f'inverse_{odds_provider}'], test_data['outcome'])]\n",
    "    \n",
    "    results = display_results(test_data, odds_provider)\n",
    "    print(results)\n",
    "    return results\n",
    "\n",
    "def plot_results(test_df):\n",
    "    test_df['cum_profit'] = test_df['profit'].cumsum()\n",
    "    fig, ax = plt.subplots(1, 1, figsize=(3, 3))\n",
    "    test_df.plot('date', 'cum_profit', ax=ax)\n",
    "    ax.set_ylabel('Absolute Return')\n",
    "    ax.set_xlabel('Date')\n",
    "    plt.show()\n"
   ]
  },
  {
   "cell_type": "code",
   "execution_count": 5,
   "id": "faa17c7e",
   "metadata": {},
   "outputs": [
    {
     "name": "stdout",
     "output_type": "stream",
     "text": [
      "{'Bets considered (2 * Matches)': 5156, 'Number of bets placed': 312, 'Mean overround (%)': 6.4564991249188575, 'Absolute amount bet': 7.151004389194398, 'Absolute return': 1.2360930817859346, 'ROI (%)': 17.285586954103206}\n"
     ]
    },
    {
     "data": {
      "image/png": "[encoded data removed]",
      "text/plain": [
       "<Figure size 216x216 with 1 Axes>"
      ]
     },
     "metadata": {
      "needs_background": "light"
     },
     "output_type": "display_data"
    }
   ],
   "source": [
    "# preferred model on B365\n",
    "coef = train_model()\n",
    "show_results(test_df, coef, 'B365')\n",
    "plot_results(test_df)\n"
   ]
  },
  {
   "cell_type": "code",
   "execution_count": 6,
   "id": "9959c12b",
   "metadata": {},
   "outputs": [
    {
     "data": {
      "text/plain": [
       "array([-0.0414954 ,  1.02512999,  0.05469513,  0.00904175])"
      ]
     },
     "execution_count": 6,
     "metadata": {},
     "output_type": "execute_result"
    }
   ],
   "source": [
    "coef"
   ]
  },
  {
   "cell_type": "code",
   "execution_count": 7,
   "id": "4970d8b5",
   "metadata": {},
   "outputs": [
    {
     "name": "stdout",
     "output_type": "stream",
     "text": [
      "{'Bets considered (2 * Matches)': 5156, 'Number of bets placed': 276, 'Mean overround (%)': 6.4564991249188575, 'Absolute amount bet': 4.987843280939489, 'Absolute return': 1.4372911056210453, 'ROI (%)': 28.815883432294264}\n"
     ]
    },
    {
     "data": {
      "image/png": "[encoded data removed]",
      "text/plain": [
       "<Figure size 216x216 with 1 Axes>"
      ]
     },
     "metadata": {
      "needs_background": "light"
     },
     "output_type": "display_data"
    }
   ],
   "source": [
    "# preferred model on B365\n",
    "coef = train_model(rank=False)\n",
    "show_results(test_df, coef, 'B365', rank=False)\n",
    "plot_results(test_df)"
   ]
  },
  {
   "cell_type": "code",
   "execution_count": 8,
   "id": "7e164a9c",
   "metadata": {},
   "outputs": [
    {
     "name": "stdout",
     "output_type": "stream",
     "text": [
      "{'Bets considered (2 * Matches)': 5189, 'Number of bets placed': 2350, 'Mean overround (%)': -0.2277009070871583, 'Absolute amount bet': 76.62824688935555, 'Absolute return': 2.3407165178958547, 'ROI (%)': 3.054639265433856}\n"
     ]
    },
    {
     "data": {
      "image/png": "[encoded data removed]",
      "text/plain": [
       "<Figure size 216x216 with 1 Axes>"
      ]
     },
     "metadata": {
      "needs_background": "light"
     },
     "output_type": "display_data"
    }
   ],
   "source": [
    "# preferred model on B365\n",
    "coef = train_model()\n",
    "show_results(test_df, coef, 'best')\n",
    "plot_results(test_df)"
   ]
  }
 ],
 "metadata": {
  "kernelspec": {
   "display_name": "Python 3 (ipykernel)",
   "language": "python",
   "name": "python3"
  },
  "language_info": {
   "codemirror_mode": {
    "name": "ipython",
    "version": 3
   },
   "file_extension": ".py",
   "mimetype": "text/x-python",
   "name": "python",
   "nbconvert_exporter": "python",
   "pygments_lexer": "ipython3",
   "version": "3.9.12"
  }
 },
 "nbformat": 4,
 "nbformat_minor": 5
}
