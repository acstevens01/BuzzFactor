{
 "cells": [
  {
   "cell_type": "code",
   "execution_count": 1,
   "id": "d4dc92d5",
   "metadata": {},
   "outputs": [],
   "source": [
    "import pandas as pd\n",
    "import numpy as np\n",
    "\n",
    "import warnings\n",
    "warnings.filterwarnings(\"ignore\", category=UnicodeWarning)\n",
    "warnings.filterwarnings(\"ignore\", category=RuntimeWarning)"
   ]
  },
  {
   "cell_type": "code",
   "execution_count": 3,
   "id": "a5d14fa3",
   "metadata": {},
   "outputs": [],
   "source": [
    "def get_direct_link(shared_link):\n",
    "    return 'https://drive.google.com/uc?export=download&id=' + shared_link.split('/')[-2]\n",
    "\n",
    "link = \"https://drive.google.com/file/d/1DXSKofF4c3YYFXybH1slRyPascey8Bt1/view?usp=drive_link\"\n",
    "\n",
    "direct_link = get_direct_link(link)\n",
    "df = pd.read_stata(direct_link)"
   ]
  },
  {
   "cell_type": "code",
   "execution_count": 40,
   "id": "e1f4e781",
   "metadata": {},
   "outputs": [],
   "source": [
    "df['date'] = pd.to_datetime(df[['year', 'month', 'day']])"
   ]
  },
  {
   "cell_type": "code",
   "execution_count": 8,
   "id": "4d028084",
   "metadata": {},
   "outputs": [],
   "source": [
    "def rankdist(rank_w: int = 0, rank_l: int = 0) -> float:\n",
    "    if np.isnan(rank_w):\n",
    "        inv_w = 0\n",
    "    else:\n",
    "        inv_w = 1/rank_w\n",
    "    if np.isnan(rank_l):\n",
    "        inv_l = 0\n",
    "    else:\n",
    "        inv_l = 1/rank_l\n",
    "      \n",
    "    rankdist = - (inv_w - inv_l)\n",
    "    \n",
    "    return rankdist\n",
    "\n",
    "df['rankdist_w'] = [rankdist(w,l) for w,l in zip(df['wrank'], df['lrank'])]\n",
    "df['rankdist_l'] = [rankdist(l,w) for w,l in zip(df['wrank'], df['lrank'])]"
   ]
  },
  {
   "cell_type": "code",
   "execution_count": 9,
   "id": "3c605cc9",
   "metadata": {},
   "outputs": [],
   "source": [
    "def wikibuzz(winner_pageviews, winner_median, loser_pageviews, loser_median):\n",
    "    try:\n",
    "        buzz = np.log(winner_pageviews / winner_median) - np.log(loser_pageviews / loser_median)\n",
    "    except ZeroDivisionError:\n",
    "        buzz = 'ZeroDivisionError'\n",
    "    return buzz\n",
    "\n",
    "df['wikibuzz_w'] = [wikibuzz(row[0], row[1], row[2], row[3]) for row in zip(df['wiki_yesterday_w'], df['wiki_med365_w'],\n",
    "                                                                                df['wiki_yesterday_l'], df['wiki_med365_l'])]\n",
    "df['wikibuzz_l'] = [wikibuzz(row[0], row[1], row[2], row[3]) for row in zip(df['wiki_yesterday_l'], df['wiki_med365_l'],\n",
    "                                                                                df['wiki_yesterday_w'], df['wiki_med365_w'])]"
   ]
  },
  {
   "cell_type": "code",
   "execution_count": 10,
   "id": "b85501ae",
   "metadata": {},
   "outputs": [],
   "source": [
    "df['inverse_bestodds_w'] = [1/x for x in df['maxw']]\n",
    "df['inverse_bestodds_l'] = [1/x for x in df['maxl']]\n",
    "df['inverse_avg_w'] = [1/x for x in df['avgw']]\n",
    "df['inverse_avg_l'] = [1/x for x in df['avgl']]\n",
    "df['inverse_B365_w'] = [1/x for x in df['b365w']]\n",
    "df['inverse_B365_l'] = [1/x for x in df['b365l']]"
   ]
  },
  {
   "cell_type": "code",
   "execution_count": 11,
   "id": "5f370792",
   "metadata": {},
   "outputs": [],
   "source": [
    "df['match_id'] = df.index\n",
    "\n",
    "df_winners = df[['match_id', 'winner', 'date', 'year', 'rankdist_w', 'wikibuzz_w', 'inverse_B365_w', 'inverse_avg_w', 'inverse_bestodds_w']].copy()\n",
    "df_winners['outcome'] = 1\n",
    "df_losers = df[['match_id', 'loser', 'date', 'year', 'rankdist_l', 'wikibuzz_l', 'inverse_B365_l', 'inverse_avg_l', 'inverse_bestodds_l']].copy()\n",
    "df_losers['outcome'] = 0\n",
    "\n",
    "df_winners.rename({'winner': 'player', 'rankdist_w': 'rankdist', 'wikibuzz_w': 'wikibuzz',\n",
    "                   'inverse_B365_w': 'inverse_B365', 'inverse_avg_w': 'inverse_avg', 'inverse_bestodds_w': 'inverse_best'}, axis=1, inplace=True)\n",
    "df_losers.rename({'loser': 'player', 'rankdist_l': 'rankdist', 'wikibuzz_l': 'wikibuzz',\n",
    "                   'inverse_B365_l': 'inverse_B365', 'inverse_avg_l': 'inverse_avg', 'inverse_bestodds_l': 'inverse_best'}, axis=1, inplace=True)\n",
    "df = pd.concat([df_winners, df_losers], axis=0)"
   ]
  },
  {
   "cell_type": "code",
   "execution_count": 13,
   "id": "66f90c01",
   "metadata": {},
   "outputs": [],
   "source": [
    "df = df.loc[df[\"wikibuzz\"] != np.inf]\n",
    "df = df.loc[df[\"wikibuzz\"] != -np.inf]\n",
    "df = df.loc[df[\"wikibuzz\"] != 'ZeroDivisionError']\n",
    "\n",
    "df = df[df['wikibuzz'].notna()]\n",
    "df = df[df['rankdist'].notna()]\n",
    "df = df[df['inverse_avg'].notna()]\n",
    "\n",
    "df.sort_values(by='date', inplace = True)"
   ]
  },
  {
   "cell_type": "code",
   "execution_count": 16,
   "id": "69ca9903",
   "metadata": {},
   "outputs": [],
   "source": [
    "df.to_csv('their_final_data.csv', index=False)"
   ]
  }
 ],
 "metadata": {
  "kernelspec": {
   "display_name": "Python 3 (ipykernel)",
   "language": "python",
   "name": "python3"
  },
  "language_info": {
   "codemirror_mode": {
    "name": "ipython",
    "version": 3
   },
   "file_extension": ".py",
   "mimetype": "text/x-python",
   "name": "python",
   "nbconvert_exporter": "python",
   "pygments_lexer": "ipython3",
   "version": "3.9.12"
  }
 },
 "nbformat": 4,
 "nbformat_minor": 5
}
