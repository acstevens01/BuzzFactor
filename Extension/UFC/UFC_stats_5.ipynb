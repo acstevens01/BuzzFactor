{
 "cells": [
  {
   "cell_type": "code",
   "execution_count": 1,
   "id": "55c014e3",
   "metadata": {},
   "outputs": [],
   "source": [
    "import pandas as pd\n",
    "import numpy as np"
   ]
  },
  {
   "cell_type": "code",
   "execution_count": null,
   "id": "f5cc0020",
   "metadata": {},
   "outputs": [],
   "source": [
    "def get_direct_link(shared_link):\n",
    "    return 'https://drive.google.com/uc?export=download&id=' + shared_link.split('/')[-2]\n",
    "\n",
    "link = \"https://drive.google.com/file/d/1eTyWC2ED8frOBNy7r2qN_hTpSwZC1jYZ/view?usp=drive_link\"\n",
    "\n",
    "direct_link = get_direct_link(link)\n",
    "df = pd.read_csv(direct_link)"
   ]
  },
  {
   "cell_type": "code",
   "execution_count": 3,
   "id": "c01051ac",
   "metadata": {},
   "outputs": [],
   "source": [
    "df['date'] = pd.to_datetime(df.date)\n",
    "df = df.sort_values(by='date')"
   ]
  },
  {
   "cell_type": "code",
   "execution_count": 8,
   "id": "568bb195",
   "metadata": {},
   "outputs": [
    {
     "name": "stderr",
     "output_type": "stream",
     "text": [
      "C:\\Users\\Archie Stevens\\AppData\\Local\\Temp\\ipykernel_41572\\1175357422.py:3: RuntimeWarning: divide by zero encountered in log\n",
      "  buzz = np.log(winner_pageviews / winner_median) - np.log(loser_pageviews / loser_median)\n",
      "C:\\Users\\Archie Stevens\\AppData\\Local\\Temp\\ipykernel_41572\\1175357422.py:3: RuntimeWarning: divide by zero encountered in log\n",
      "  buzz = np.log(winner_pageviews / winner_median) - np.log(loser_pageviews / loser_median)\n"
     ]
    }
   ],
   "source": [
    "def wikibuzz(winner_pageviews, winner_median, loser_pageviews, loser_median):\n",
    "    try:\n",
    "        buzz = np.log(winner_pageviews / winner_median) - np.log(loser_pageviews / loser_median)\n",
    "    except ZeroDivisionError:\n",
    "        buzz = 'ZeroDivisionError'\n",
    "    return buzz\n",
    "\n",
    "df['wikibuzz_r'] = [wikibuzz(row[0], row[1], row[2], row[3]) for row in zip(df['wiki_yesterday_r'], df['wiki_med365_r'],\n",
    "                                                                                df['wiki_yesterday_b'], df['wiki_med365_b'])]\n",
    "df['wikibuzz_b'] = [wikibuzz(row[0], row[1], row[2], row[3]) for row in zip(df['wiki_yesterday_b'], df['wiki_med365_b'],\n",
    "                                                                                df['wiki_yesterday_r'], df['wiki_med365_r'])]"
   ]
  },
  {
   "cell_type": "code",
   "execution_count": 9,
   "id": "b585ab91",
   "metadata": {},
   "outputs": [],
   "source": [
    "df['inverse_odds_r'] = [1/x for x in df['R_odds']]\n",
    "df['inverse_odds_b'] = [1/x for x in df['B_odds']]"
   ]
  },
  {
   "cell_type": "code",
   "execution_count": 10,
   "id": "2086a929",
   "metadata": {},
   "outputs": [],
   "source": [
    "df.date = pd.to_datetime(df.date, format='%Y-%m-%d')"
   ]
  },
  {
   "cell_type": "code",
   "execution_count": 11,
   "id": "bea17dae",
   "metadata": {},
   "outputs": [],
   "source": [
    "df['match_id'] = df.index\n",
    "\n",
    "df_red = df[['match_id', 'R_fighter', 'date', 'wikibuzz_r', 'inverse_odds_r', 'Winner']].copy()\n",
    "df_blue = df[['match_id', 'B_fighter', 'date', 'wikibuzz_b', 'inverse_odds_b', 'Winner']].copy()"
   ]
  },
  {
   "cell_type": "code",
   "execution_count": 12,
   "id": "685a16f6",
   "metadata": {},
   "outputs": [],
   "source": [
    "outcome_mapping_r = {'Red': 1, 'Blue': 0}\n",
    "outcome_mapping_b = {'Red': 0, 'Blue': 1}"
   ]
  },
  {
   "cell_type": "code",
   "execution_count": 13,
   "id": "1a177c53",
   "metadata": {},
   "outputs": [],
   "source": [
    "df_red['outcome'] = df_red['Winner'].map(outcome_mapping_r)\n",
    "df_blue['outcome'] = df_blue['Winner'].map(outcome_mapping_b)"
   ]
  },
  {
   "cell_type": "code",
   "execution_count": 14,
   "id": "f29f4fa6",
   "metadata": {},
   "outputs": [],
   "source": [
    "df_red.rename({'R_fighter': 'fighter', 'wikibuzz_r': 'wikibuzz','inverse_odds_r': 'inverse_odds'}, axis=1, inplace=True)\n",
    "df_blue.rename({'B_fighter': 'fighter', 'wikibuzz_b': 'wikibuzz','inverse_odds_b': 'inverse_odds'}, axis=1, inplace=True)"
   ]
  },
  {
   "cell_type": "code",
   "execution_count": 15,
   "id": "b7e116a5",
   "metadata": {},
   "outputs": [],
   "source": [
    "df = pd.concat([df_red, df_blue], axis=0)"
   ]
  },
  {
   "cell_type": "code",
   "execution_count": 17,
   "id": "eeb8facd",
   "metadata": {},
   "outputs": [],
   "source": [
    "df = df.loc[df[\"wikibuzz\"] != np.inf]\n",
    "df = df.loc[df[\"wikibuzz\"] != -np.inf]\n",
    "df = df.loc[df[\"wikibuzz\"] != 'ZeroDivisionError']\n",
    "\n",
    "df = df[df['wikibuzz'].notna()]\n",
    "df = df[df['inverse_odds'].notna()]\n",
    "\n",
    "df.sort_values(by='date', inplace = True)"
   ]
  },
  {
   "cell_type": "code",
   "execution_count": 21,
   "id": "d1b42733",
   "metadata": {},
   "outputs": [],
   "source": [
    "df.to_csv('ufc_final.csv', index=False)"
   ]
  }
 ],
 "metadata": {
  "kernelspec": {
   "display_name": "Python 3 (ipykernel)",
   "language": "python",
   "name": "python3"
  },
  "language_info": {
   "codemirror_mode": {
    "name": "ipython",
    "version": 3
   },
   "file_extension": ".py",
   "mimetype": "text/x-python",
   "name": "python",
   "nbconvert_exporter": "python",
   "pygments_lexer": "ipython3",
   "version": "3.9.12"
  }
 },
 "nbformat": 4,
 "nbformat_minor": 5
}
