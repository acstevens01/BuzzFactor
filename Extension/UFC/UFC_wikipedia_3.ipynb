{
 "cells": [
  {
   "cell_type": "code",
   "execution_count": 8,
   "id": "6413548b",
   "metadata": {},
   "outputs": [],
   "source": [
    "import pandas as pd\n",
    "from mwviews.api import PageviewsClient\n",
    "import numpy as np\n",
    "def get_direct_link(shared_link):\n",
    "    return 'https://drive.google.com/uc?export=download&id=' + shared_link.split('/')[-2]\n",
    "\n",
    "link = \"https://drive.google.com/file/d/1scglxYTopRbMg4X_RNoUT16chb8ulThG/view?usp=drive_link\"\n",
    "\n",
    "direct_link = get_direct_link(link)\n",
    "players_df = pd.read_csv(direct_link)\n",
    "\n",
    "end_date = '20211002'"
   ]
  },
  {
   "cell_type": "code",
   "execution_count": 9,
   "id": "e8a39781",
   "metadata": {},
   "outputs": [],
   "source": [
    "def get_player_data(players):\n",
    "    results = pd.DataFrame(columns=['Date', 'wiki', 'Player'])\n",
    "    for player in players:\n",
    "        \n",
    "        if player == 'No Wikipedia page':\n",
    "            nan_data = pd.DataFrame({\n",
    "                'Date': pd.date_range(start='20150104', end=end_date),\n",
    "                'wiki': [np.nan] * len(pd.date_range(start='20150104', end=end_date)),\n",
    "                'Player': [player] * len(pd.date_range(start='20150104', end=end_date))\n",
    "            })\n",
    "            results = pd.concat([results, nan_data])\n",
    "            continue \n",
    "            \n",
    "        try:\n",
    "            data = client.article_views('en.wikipedia', player,\n",
    "                                        granularity='daily',\n",
    "                                        start='20150104',\n",
    "                                        end=end_date)\n",
    "        except Exception as e:\n",
    "            print(f\"Error for player {player}: {str(e)}\")\n",
    "            continue\n",
    "\n",
    "        data_df = pd.DataFrame.from_dict(data, orient='index')\n",
    "        column = data_df.columns[0]\n",
    "        data_df = data_df.reset_index()\n",
    "        data_df.rename(columns={'index' : 'Date',\n",
    "                                 column : 'wiki'}, inplace=True)\n",
    "        data_df['Player'] = player\n",
    "\n",
    "        date_mask = data_df['Date'].isin(results['Date'])\n",
    "        player_mask = data_df['Player'].isin(results['Player'])\n",
    "        dup_mask = date_mask & player_mask\n",
    "        new_data = data_df[~dup_mask]\n",
    "        if new_data.shape[0] == 0:\n",
    "            continue\n",
    "\n",
    "        new_data.fillna(0, inplace=True)\n",
    "        new_data['year'] = new_data['Date'].dt.year\n",
    "        new_data['month'] = new_data['Date'].dt.month\n",
    "        new_data['day'] = new_data['Date'].dt.day\n",
    "        results = pd.concat([results,new_data])\n",
    "\n",
    "    return results"
   ]
  },
  {
   "cell_type": "code",
   "execution_count": 10,
   "id": "18c3a739",
   "metadata": {},
   "outputs": [],
   "source": [
    "def combine_duplicate_players(df):\n",
    "    grouped_players = df.groupby('wiki_title')['original_names'].apply(np.unique).reset_index()\n",
    "\n",
    "    grouped_players['original_names'] = grouped_players['original_names'].apply(tuple)\n",
    "\n",
    "    merged = df.merge(grouped_players, on='wiki_title', how='left')\n",
    "\n",
    "    merged.drop(columns='original_names_x', inplace=True)\n",
    "    merged.rename(columns={'original_names_y': 'original_names'}, inplace=True)\n",
    "\n",
    "    merged.drop_duplicates(inplace=True)\n",
    "\n",
    "    return merged\n"
   ]
  },
  {
   "cell_type": "code",
   "execution_count": 11,
   "id": "c807a7b8",
   "metadata": {},
   "outputs": [],
   "source": [
    "players = list(players_df['wiki_title'].dropna().unique())"
   ]
  },
  {
   "cell_type": "code",
   "execution_count": 13,
   "id": "e3f88e8e",
   "metadata": {},
   "outputs": [
    {
     "name": "stdout",
     "output_type": "stream",
     "text": [
      "ERROR while fetching and parsing ['https://wikimedia.org/api/rest_v1/metrics/pageviews/per-article/en.wikipedia/all-access/all-agents/John_Casta%C3%B1eda/daily/2015010400/2021100200']\n",
      "Error for player John Castañeda: The pageview API returned nothing useful at: ['https://wikimedia.org/api/rest_v1/metrics/pageviews/per-article/en.wikipedia/all-access/all-agents/John_Casta%C3%B1eda/daily/2015010400/2021100200']\n"
     ]
    },
    {
     "name": "stderr",
     "output_type": "stream",
     "text": [
      "Traceback (most recent call last):\n",
      "  File \"C:\\Users\\Archie Stevens\\Documents\\Anaconda\\lib\\site-packages\\mwviews\\api\\pageviews.py\", line 146, in article_views\n",
      "    raise Exception(\n",
      "Exception: The pageview API returned nothing useful at: ['https://wikimedia.org/api/rest_v1/metrics/pageviews/per-article/en.wikipedia/all-access/all-agents/John_Casta%C3%B1eda/daily/2015010400/2021100200']\n"
     ]
    },
    {
     "name": "stdout",
     "output_type": "stream",
     "text": [
      "ERROR while fetching and parsing ['https://wikimedia.org/api/rest_v1/metrics/pageviews/per-article/en.wikipedia/all-access/all-agents/Gloria_de_Paula/daily/2015010400/2021100200']\n",
      "Error for player Gloria de Paula: The pageview API returned nothing useful at: ['https://wikimedia.org/api/rest_v1/metrics/pageviews/per-article/en.wikipedia/all-access/all-agents/Gloria_de_Paula/daily/2015010400/2021100200']\n"
     ]
    },
    {
     "name": "stderr",
     "output_type": "stream",
     "text": [
      "Traceback (most recent call last):\n",
      "  File \"C:\\Users\\Archie Stevens\\Documents\\Anaconda\\lib\\site-packages\\mwviews\\api\\pageviews.py\", line 146, in article_views\n",
      "    raise Exception(\n",
      "Exception: The pageview API returned nothing useful at: ['https://wikimedia.org/api/rest_v1/metrics/pageviews/per-article/en.wikipedia/all-access/all-agents/Gloria_de_Paula/daily/2015010400/2021100200']\n"
     ]
    },
    {
     "name": "stdout",
     "output_type": "stream",
     "text": [
      "ERROR while fetching and parsing ['https://wikimedia.org/api/rest_v1/metrics/pageviews/per-article/en.wikipedia/all-access/all-agents/Filip_Peji%C4%87/daily/2015010400/2021100200']\n",
      "Error for player Filip Pejić: The pageview API returned nothing useful at: ['https://wikimedia.org/api/rest_v1/metrics/pageviews/per-article/en.wikipedia/all-access/all-agents/Filip_Peji%C4%87/daily/2015010400/2021100200']\n"
     ]
    },
    {
     "name": "stderr",
     "output_type": "stream",
     "text": [
      "Traceback (most recent call last):\n",
      "  File \"C:\\Users\\Archie Stevens\\Documents\\Anaconda\\lib\\site-packages\\mwviews\\api\\pageviews.py\", line 146, in article_views\n",
      "    raise Exception(\n",
      "Exception: The pageview API returned nothing useful at: ['https://wikimedia.org/api/rest_v1/metrics/pageviews/per-article/en.wikipedia/all-access/all-agents/Filip_Peji%C4%87/daily/2015010400/2021100200']\n"
     ]
    },
    {
     "name": "stdout",
     "output_type": "stream",
     "text": [
      "ERROR while fetching and parsing ['https://wikimedia.org/api/rest_v1/metrics/pageviews/per-article/en.wikipedia/all-access/all-agents/John_Allan_%28fighter%29/daily/2015010400/2021100200']\n",
      "Error for player John Allan (fighter): The pageview API returned nothing useful at: ['https://wikimedia.org/api/rest_v1/metrics/pageviews/per-article/en.wikipedia/all-access/all-agents/John_Allan_%28fighter%29/daily/2015010400/2021100200']\n"
     ]
    },
    {
     "name": "stderr",
     "output_type": "stream",
     "text": [
      "Traceback (most recent call last):\n",
      "  File \"C:\\Users\\Archie Stevens\\Documents\\Anaconda\\lib\\site-packages\\mwviews\\api\\pageviews.py\", line 146, in article_views\n",
      "    raise Exception(\n",
      "Exception: The pageview API returned nothing useful at: ['https://wikimedia.org/api/rest_v1/metrics/pageviews/per-article/en.wikipedia/all-access/all-agents/John_Allan_%28fighter%29/daily/2015010400/2021100200']\n"
     ]
    },
    {
     "name": "stdout",
     "output_type": "stream",
     "text": [
      "ERROR while fetching and parsing ['https://wikimedia.org/api/rest_v1/metrics/pageviews/per-article/en.wikipedia/all-access/all-agents/Marcin_Wrzosek/daily/2015010400/2021100200']\n",
      "Error for player Marcin Wrzosek: The pageview API returned nothing useful at: ['https://wikimedia.org/api/rest_v1/metrics/pageviews/per-article/en.wikipedia/all-access/all-agents/Marcin_Wrzosek/daily/2015010400/2021100200']\n"
     ]
    },
    {
     "name": "stderr",
     "output_type": "stream",
     "text": [
      "Traceback (most recent call last):\n",
      "  File \"C:\\Users\\Archie Stevens\\Documents\\Anaconda\\lib\\site-packages\\mwviews\\api\\pageviews.py\", line 146, in article_views\n",
      "    raise Exception(\n",
      "Exception: The pageview API returned nothing useful at: ['https://wikimedia.org/api/rest_v1/metrics/pageviews/per-article/en.wikipedia/all-access/all-agents/Marcin_Wrzosek/daily/2015010400/2021100200']\n"
     ]
    },
    {
     "name": "stdout",
     "output_type": "stream",
     "text": [
      "ERROR while fetching and parsing ['https://wikimedia.org/api/rest_v1/metrics/pageviews/per-article/en.wikipedia/all-access/all-agents/Don_Madge/daily/2015010400/2021100200']\n",
      "Error for player Don Madge: The pageview API returned nothing useful at: ['https://wikimedia.org/api/rest_v1/metrics/pageviews/per-article/en.wikipedia/all-access/all-agents/Don_Madge/daily/2015010400/2021100200']\n"
     ]
    },
    {
     "name": "stderr",
     "output_type": "stream",
     "text": [
      "Traceback (most recent call last):\n",
      "  File \"C:\\Users\\Archie Stevens\\Documents\\Anaconda\\lib\\site-packages\\mwviews\\api\\pageviews.py\", line 146, in article_views\n",
      "    raise Exception(\n",
      "Exception: The pageview API returned nothing useful at: ['https://wikimedia.org/api/rest_v1/metrics/pageviews/per-article/en.wikipedia/all-access/all-agents/Don_Madge/daily/2015010400/2021100200']\n"
     ]
    },
    {
     "name": "stdout",
     "output_type": "stream",
     "text": [
      "ERROR while fetching and parsing ['https://wikimedia.org/api/rest_v1/metrics/pageviews/per-article/en.wikipedia/all-access/all-agents/Rostem_Akman/daily/2015010400/2021100200']\n",
      "Error for player Rostem Akman: The pageview API returned nothing useful at: ['https://wikimedia.org/api/rest_v1/metrics/pageviews/per-article/en.wikipedia/all-access/all-agents/Rostem_Akman/daily/2015010400/2021100200']\n"
     ]
    },
    {
     "name": "stderr",
     "output_type": "stream",
     "text": [
      "Traceback (most recent call last):\n",
      "  File \"C:\\Users\\Archie Stevens\\Documents\\Anaconda\\lib\\site-packages\\mwviews\\api\\pageviews.py\", line 146, in article_views\n",
      "    raise Exception(\n",
      "Exception: The pageview API returned nothing useful at: ['https://wikimedia.org/api/rest_v1/metrics/pageviews/per-article/en.wikipedia/all-access/all-agents/Rostem_Akman/daily/2015010400/2021100200']\n"
     ]
    },
    {
     "name": "stdout",
     "output_type": "stream",
     "text": [
      "ERROR while fetching and parsing ['https://wikimedia.org/api/rest_v1/metrics/pageviews/per-article/en.wikipedia/all-access/all-agents/Nick_Maximov/daily/2015010400/2021100200']\n",
      "Error for player Nick Maximov: The pageview API returned nothing useful at: ['https://wikimedia.org/api/rest_v1/metrics/pageviews/per-article/en.wikipedia/all-access/all-agents/Nick_Maximov/daily/2015010400/2021100200']\n"
     ]
    },
    {
     "name": "stderr",
     "output_type": "stream",
     "text": [
      "Traceback (most recent call last):\n",
      "  File \"C:\\Users\\Archie Stevens\\Documents\\Anaconda\\lib\\site-packages\\mwviews\\api\\pageviews.py\", line 146, in article_views\n",
      "    raise Exception(\n",
      "Exception: The pageview API returned nothing useful at: ['https://wikimedia.org/api/rest_v1/metrics/pageviews/per-article/en.wikipedia/all-access/all-agents/Nick_Maximov/daily/2015010400/2021100200']\n"
     ]
    },
    {
     "name": "stdout",
     "output_type": "stream",
     "text": [
      "ERROR while fetching and parsing ['https://wikimedia.org/api/rest_v1/metrics/pageviews/per-article/en.wikipedia/all-access/all-agents/Jordan_Williams_%28fighter%29/daily/2015010400/2021100200']\n",
      "Error for player Jordan Williams (fighter): The pageview API returned nothing useful at: ['https://wikimedia.org/api/rest_v1/metrics/pageviews/per-article/en.wikipedia/all-access/all-agents/Jordan_Williams_%28fighter%29/daily/2015010400/2021100200']\n"
     ]
    },
    {
     "name": "stderr",
     "output_type": "stream",
     "text": [
      "Traceback (most recent call last):\n",
      "  File \"C:\\Users\\Archie Stevens\\Documents\\Anaconda\\lib\\site-packages\\mwviews\\api\\pageviews.py\", line 146, in article_views\n",
      "    raise Exception(\n",
      "Exception: The pageview API returned nothing useful at: ['https://wikimedia.org/api/rest_v1/metrics/pageviews/per-article/en.wikipedia/all-access/all-agents/Jordan_Williams_%28fighter%29/daily/2015010400/2021100200']\n"
     ]
    },
    {
     "name": "stdout",
     "output_type": "stream",
     "text": [
      "ERROR while fetching and parsing ['https://wikimedia.org/api/rest_v1/metrics/pageviews/per-article/en.wikipedia/all-access/all-agents/Gabriel_Green_%28fighter%29/daily/2015010400/2021100200']\n",
      "Error for player Gabriel Green (fighter): The pageview API returned nothing useful at: ['https://wikimedia.org/api/rest_v1/metrics/pageviews/per-article/en.wikipedia/all-access/all-agents/Gabriel_Green_%28fighter%29/daily/2015010400/2021100200']\n"
     ]
    },
    {
     "name": "stderr",
     "output_type": "stream",
     "text": [
      "Traceback (most recent call last):\n",
      "  File \"C:\\Users\\Archie Stevens\\Documents\\Anaconda\\lib\\site-packages\\mwviews\\api\\pageviews.py\", line 146, in article_views\n",
      "    raise Exception(\n",
      "Exception: The pageview API returned nothing useful at: ['https://wikimedia.org/api/rest_v1/metrics/pageviews/per-article/en.wikipedia/all-access/all-agents/Gabriel_Green_%28fighter%29/daily/2015010400/2021100200']\n"
     ]
    },
    {
     "name": "stdout",
     "output_type": "stream",
     "text": [
      "ERROR while fetching and parsing ['https://wikimedia.org/api/rest_v1/metrics/pageviews/per-article/en.wikipedia/all-access/all-agents/Fabio_Cherant/daily/2015010400/2021100200']\n",
      "Error for player Fabio Cherant: The pageview API returned nothing useful at: ['https://wikimedia.org/api/rest_v1/metrics/pageviews/per-article/en.wikipedia/all-access/all-agents/Fabio_Cherant/daily/2015010400/2021100200']\n"
     ]
    },
    {
     "name": "stderr",
     "output_type": "stream",
     "text": [
      "Traceback (most recent call last):\n",
      "  File \"C:\\Users\\Archie Stevens\\Documents\\Anaconda\\lib\\site-packages\\mwviews\\api\\pageviews.py\", line 146, in article_views\n",
      "    raise Exception(\n",
      "Exception: The pageview API returned nothing useful at: ['https://wikimedia.org/api/rest_v1/metrics/pageviews/per-article/en.wikipedia/all-access/all-agents/Fabio_Cherant/daily/2015010400/2021100200']\n"
     ]
    },
    {
     "name": "stdout",
     "output_type": "stream",
     "text": [
      "ERROR while fetching and parsing ['https://wikimedia.org/api/rest_v1/metrics/pageviews/per-article/en.wikipedia/all-access/all-agents/Shavkat_Rakhmonov/daily/2015010400/2021100200']\n",
      "Error for player Shavkat Rakhmonov: The pageview API returned nothing useful at: ['https://wikimedia.org/api/rest_v1/metrics/pageviews/per-article/en.wikipedia/all-access/all-agents/Shavkat_Rakhmonov/daily/2015010400/2021100200']\n"
     ]
    },
    {
     "name": "stderr",
     "output_type": "stream",
     "text": [
      "Traceback (most recent call last):\n",
      "  File \"C:\\Users\\Archie Stevens\\Documents\\Anaconda\\lib\\site-packages\\mwviews\\api\\pageviews.py\", line 146, in article_views\n",
      "    raise Exception(\n",
      "Exception: The pageview API returned nothing useful at: ['https://wikimedia.org/api/rest_v1/metrics/pageviews/per-article/en.wikipedia/all-access/all-agents/Shavkat_Rakhmonov/daily/2015010400/2021100200']\n"
     ]
    },
    {
     "name": "stdout",
     "output_type": "stream",
     "text": [
      "ERROR while fetching and parsing ['https://wikimedia.org/api/rest_v1/metrics/pageviews/per-article/en.wikipedia/all-access/all-agents/Lisa_Ellis_%28martial_artist%29/daily/2015010400/2021100200']\n",
      "Error for player Lisa Ellis (martial artist): The pageview API returned nothing useful at: ['https://wikimedia.org/api/rest_v1/metrics/pageviews/per-article/en.wikipedia/all-access/all-agents/Lisa_Ellis_%28martial_artist%29/daily/2015010400/2021100200']\n"
     ]
    },
    {
     "name": "stderr",
     "output_type": "stream",
     "text": [
      "Traceback (most recent call last):\n",
      "  File \"C:\\Users\\Archie Stevens\\Documents\\Anaconda\\lib\\site-packages\\mwviews\\api\\pageviews.py\", line 146, in article_views\n",
      "    raise Exception(\n",
      "Exception: The pageview API returned nothing useful at: ['https://wikimedia.org/api/rest_v1/metrics/pageviews/per-article/en.wikipedia/all-access/all-agents/Lisa_Ellis_%28martial_artist%29/daily/2015010400/2021100200']\n"
     ]
    },
    {
     "name": "stdout",
     "output_type": "stream",
     "text": [
      "ERROR while fetching and parsing ['https://wikimedia.org/api/rest_v1/metrics/pageviews/per-article/en.wikipedia/all-access/all-agents/Joselyne_Edwards/daily/2015010400/2021100200']\n",
      "Error for player Joselyne Edwards: The pageview API returned nothing useful at: ['https://wikimedia.org/api/rest_v1/metrics/pageviews/per-article/en.wikipedia/all-access/all-agents/Joselyne_Edwards/daily/2015010400/2021100200']\n"
     ]
    },
    {
     "name": "stderr",
     "output_type": "stream",
     "text": [
      "Traceback (most recent call last):\n",
      "  File \"C:\\Users\\Archie Stevens\\Documents\\Anaconda\\lib\\site-packages\\mwviews\\api\\pageviews.py\", line 146, in article_views\n",
      "    raise Exception(\n",
      "Exception: The pageview API returned nothing useful at: ['https://wikimedia.org/api/rest_v1/metrics/pageviews/per-article/en.wikipedia/all-access/all-agents/Joselyne_Edwards/daily/2015010400/2021100200']\n"
     ]
    },
    {
     "name": "stdout",
     "output_type": "stream",
     "text": [
      "ERROR while fetching and parsing ['https://wikimedia.org/api/rest_v1/metrics/pageviews/per-article/en.wikipedia/all-access/all-agents/Rafael_Alves_%28fighter%29/daily/2015010400/2021100200']\n",
      "Error for player Rafael Alves (fighter): The pageview API returned nothing useful at: ['https://wikimedia.org/api/rest_v1/metrics/pageviews/per-article/en.wikipedia/all-access/all-agents/Rafael_Alves_%28fighter%29/daily/2015010400/2021100200']\n"
     ]
    },
    {
     "name": "stderr",
     "output_type": "stream",
     "text": [
      "Traceback (most recent call last):\n",
      "  File \"C:\\Users\\Archie Stevens\\Documents\\Anaconda\\lib\\site-packages\\mwviews\\api\\pageviews.py\", line 146, in article_views\n",
      "    raise Exception(\n",
      "Exception: The pageview API returned nothing useful at: ['https://wikimedia.org/api/rest_v1/metrics/pageviews/per-article/en.wikipedia/all-access/all-agents/Rafael_Alves_%28fighter%29/daily/2015010400/2021100200']\n"
     ]
    },
    {
     "name": "stdout",
     "output_type": "stream",
     "text": [
      "ERROR while fetching and parsing ['https://wikimedia.org/api/rest_v1/metrics/pageviews/per-article/en.wikipedia/all-access/all-agents/Gregory_Rodrigues/daily/2015010400/2021100200']\n",
      "Error for player Gregory Rodrigues: The pageview API returned nothing useful at: ['https://wikimedia.org/api/rest_v1/metrics/pageviews/per-article/en.wikipedia/all-access/all-agents/Gregory_Rodrigues/daily/2015010400/2021100200']\n"
     ]
    },
    {
     "name": "stderr",
     "output_type": "stream",
     "text": [
      "Traceback (most recent call last):\n",
      "  File \"C:\\Users\\Archie Stevens\\Documents\\Anaconda\\lib\\site-packages\\mwviews\\api\\pageviews.py\", line 146, in article_views\n",
      "    raise Exception(\n",
      "Exception: The pageview API returned nothing useful at: ['https://wikimedia.org/api/rest_v1/metrics/pageviews/per-article/en.wikipedia/all-access/all-agents/Gregory_Rodrigues/daily/2015010400/2021100200']\n"
     ]
    },
    {
     "name": "stdout",
     "output_type": "stream",
     "text": [
      "ERROR while fetching and parsing ['https://wikimedia.org/api/rest_v1/metrics/pageviews/per-article/en.wikipedia/all-access/all-agents/Cody_Durden/daily/2015010400/2021100200']\n",
      "Error for player Cody Durden: The pageview API returned nothing useful at: ['https://wikimedia.org/api/rest_v1/metrics/pageviews/per-article/en.wikipedia/all-access/all-agents/Cody_Durden/daily/2015010400/2021100200']\n"
     ]
    },
    {
     "name": "stderr",
     "output_type": "stream",
     "text": [
      "Traceback (most recent call last):\n",
      "  File \"C:\\Users\\Archie Stevens\\Documents\\Anaconda\\lib\\site-packages\\mwviews\\api\\pageviews.py\", line 146, in article_views\n",
      "    raise Exception(\n",
      "Exception: The pageview API returned nothing useful at: ['https://wikimedia.org/api/rest_v1/metrics/pageviews/per-article/en.wikipedia/all-access/all-agents/Cody_Durden/daily/2015010400/2021100200']\n"
     ]
    },
    {
     "name": "stdout",
     "output_type": "stream",
     "text": [
      "ERROR while fetching and parsing ['https://wikimedia.org/api/rest_v1/metrics/pageviews/per-article/en.wikipedia/all-access/all-agents/Manon_Fiorot/daily/2015010400/2021100200']\n",
      "Error for player Manon Fiorot: The pageview API returned nothing useful at: ['https://wikimedia.org/api/rest_v1/metrics/pageviews/per-article/en.wikipedia/all-access/all-agents/Manon_Fiorot/daily/2015010400/2021100200']\n"
     ]
    },
    {
     "name": "stderr",
     "output_type": "stream",
     "text": [
      "Traceback (most recent call last):\n",
      "  File \"C:\\Users\\Archie Stevens\\Documents\\Anaconda\\lib\\site-packages\\mwviews\\api\\pageviews.py\", line 146, in article_views\n",
      "    raise Exception(\n",
      "Exception: The pageview API returned nothing useful at: ['https://wikimedia.org/api/rest_v1/metrics/pageviews/per-article/en.wikipedia/all-access/all-agents/Manon_Fiorot/daily/2015010400/2021100200']\n"
     ]
    },
    {
     "name": "stdout",
     "output_type": "stream",
     "text": [
      "ERROR while fetching and parsing ['https://wikimedia.org/api/rest_v1/metrics/pageviews/per-article/en.wikipedia/all-access/all-agents/Terrance_McKinney/daily/2015010400/2021100200']\n",
      "Error for player Terrance McKinney: The pageview API returned nothing useful at: ['https://wikimedia.org/api/rest_v1/metrics/pageviews/per-article/en.wikipedia/all-access/all-agents/Terrance_McKinney/daily/2015010400/2021100200']\n"
     ]
    },
    {
     "name": "stderr",
     "output_type": "stream",
     "text": [
      "Traceback (most recent call last):\n",
      "  File \"C:\\Users\\Archie Stevens\\Documents\\Anaconda\\lib\\site-packages\\mwviews\\api\\pageviews.py\", line 146, in article_views\n",
      "    raise Exception(\n",
      "Exception: The pageview API returned nothing useful at: ['https://wikimedia.org/api/rest_v1/metrics/pageviews/per-article/en.wikipedia/all-access/all-agents/Terrance_McKinney/daily/2015010400/2021100200']\n"
     ]
    },
    {
     "name": "stdout",
     "output_type": "stream",
     "text": [
      "ERROR while fetching and parsing ['https://wikimedia.org/api/rest_v1/metrics/pageviews/per-article/en.wikipedia/all-access/all-agents/Far%C3%A8s_Ziam/daily/2015010400/2021100200']\n",
      "Error for player Farès Ziam: The pageview API returned nothing useful at: ['https://wikimedia.org/api/rest_v1/metrics/pageviews/per-article/en.wikipedia/all-access/all-agents/Far%C3%A8s_Ziam/daily/2015010400/2021100200']\n"
     ]
    },
    {
     "name": "stderr",
     "output_type": "stream",
     "text": [
      "Traceback (most recent call last):\n",
      "  File \"C:\\Users\\Archie Stevens\\Documents\\Anaconda\\lib\\site-packages\\mwviews\\api\\pageviews.py\", line 146, in article_views\n",
      "    raise Exception(\n",
      "Exception: The pageview API returned nothing useful at: ['https://wikimedia.org/api/rest_v1/metrics/pageviews/per-article/en.wikipedia/all-access/all-agents/Far%C3%A8s_Ziam/daily/2015010400/2021100200']\n"
     ]
    },
    {
     "name": "stdout",
     "output_type": "stream",
     "text": [
      "ERROR while fetching and parsing ['https://wikimedia.org/api/rest_v1/metrics/pageviews/per-article/en.wikipedia/all-access/all-agents/Jordan_Leavitt/daily/2015010400/2021100200']\n",
      "Error for player Jordan Leavitt: The pageview API returned nothing useful at: ['https://wikimedia.org/api/rest_v1/metrics/pageviews/per-article/en.wikipedia/all-access/all-agents/Jordan_Leavitt/daily/2015010400/2021100200']\n"
     ]
    },
    {
     "name": "stderr",
     "output_type": "stream",
     "text": [
      "Traceback (most recent call last):\n",
      "  File \"C:\\Users\\Archie Stevens\\Documents\\Anaconda\\lib\\site-packages\\mwviews\\api\\pageviews.py\", line 146, in article_views\n",
      "    raise Exception(\n",
      "Exception: The pageview API returned nothing useful at: ['https://wikimedia.org/api/rest_v1/metrics/pageviews/per-article/en.wikipedia/all-access/all-agents/Jordan_Leavitt/daily/2015010400/2021100200']\n"
     ]
    },
    {
     "name": "stdout",
     "output_type": "stream",
     "text": [
      "ERROR while fetching and parsing ['https://wikimedia.org/api/rest_v1/metrics/pageviews/per-article/en.wikipedia/all-access/all-agents/Zarah_Fairn_Dos_Santos/daily/2015010400/2021100200']\n",
      "Error for player Zarah Fairn Dos Santos: The pageview API returned nothing useful at: ['https://wikimedia.org/api/rest_v1/metrics/pageviews/per-article/en.wikipedia/all-access/all-agents/Zarah_Fairn_Dos_Santos/daily/2015010400/2021100200']\n"
     ]
    },
    {
     "name": "stderr",
     "output_type": "stream",
     "text": [
      "Traceback (most recent call last):\n",
      "  File \"C:\\Users\\Archie Stevens\\Documents\\Anaconda\\lib\\site-packages\\mwviews\\api\\pageviews.py\", line 146, in article_views\n",
      "    raise Exception(\n",
      "Exception: The pageview API returned nothing useful at: ['https://wikimedia.org/api/rest_v1/metrics/pageviews/per-article/en.wikipedia/all-access/all-agents/Zarah_Fairn_Dos_Santos/daily/2015010400/2021100200']\n"
     ]
    },
    {
     "name": "stdout",
     "output_type": "stream",
     "text": [
      "ERROR while fetching and parsing ['https://wikimedia.org/api/rest_v1/metrics/pageviews/per-article/en.wikipedia/all-access/all-agents/Jeremiah_Wells/daily/2015010400/2021100200']\n",
      "Error for player Jeremiah Wells: The pageview API returned nothing useful at: ['https://wikimedia.org/api/rest_v1/metrics/pageviews/per-article/en.wikipedia/all-access/all-agents/Jeremiah_Wells/daily/2015010400/2021100200']\n"
     ]
    },
    {
     "name": "stderr",
     "output_type": "stream",
     "text": [
      "Traceback (most recent call last):\n",
      "  File \"C:\\Users\\Archie Stevens\\Documents\\Anaconda\\lib\\site-packages\\mwviews\\api\\pageviews.py\", line 146, in article_views\n",
      "    raise Exception(\n",
      "Exception: The pageview API returned nothing useful at: ['https://wikimedia.org/api/rest_v1/metrics/pageviews/per-article/en.wikipedia/all-access/all-agents/Jeremiah_Wells/daily/2015010400/2021100200']\n"
     ]
    },
    {
     "name": "stdout",
     "output_type": "stream",
     "text": [
      "ERROR while fetching and parsing ['https://wikimedia.org/api/rest_v1/metrics/pageviews/per-article/en.wikipedia/all-access/all-agents/Vanessa_Demopoulos/daily/2015010400/2021100200']\n",
      "Error for player Vanessa Demopoulos: The pageview API returned nothing useful at: ['https://wikimedia.org/api/rest_v1/metrics/pageviews/per-article/en.wikipedia/all-access/all-agents/Vanessa_Demopoulos/daily/2015010400/2021100200']\n"
     ]
    },
    {
     "name": "stderr",
     "output_type": "stream",
     "text": [
      "Traceback (most recent call last):\n",
      "  File \"C:\\Users\\Archie Stevens\\Documents\\Anaconda\\lib\\site-packages\\mwviews\\api\\pageviews.py\", line 146, in article_views\n",
      "    raise Exception(\n",
      "Exception: The pageview API returned nothing useful at: ['https://wikimedia.org/api/rest_v1/metrics/pageviews/per-article/en.wikipedia/all-access/all-agents/Vanessa_Demopoulos/daily/2015010400/2021100200']\n"
     ]
    },
    {
     "name": "stdout",
     "output_type": "stream",
     "text": [
      "ERROR while fetching and parsing ['https://wikimedia.org/api/rest_v1/metrics/pageviews/per-article/en.wikipedia/all-access/all-agents/UFC_277/daily/2015010400/2021100200']\n",
      "Error for player UFC 277: The pageview API returned nothing useful at: ['https://wikimedia.org/api/rest_v1/metrics/pageviews/per-article/en.wikipedia/all-access/all-agents/UFC_277/daily/2015010400/2021100200']\n"
     ]
    },
    {
     "name": "stderr",
     "output_type": "stream",
     "text": [
      "Traceback (most recent call last):\n",
      "  File \"C:\\Users\\Archie Stevens\\Documents\\Anaconda\\lib\\site-packages\\mwviews\\api\\pageviews.py\", line 146, in article_views\n",
      "    raise Exception(\n",
      "Exception: The pageview API returned nothing useful at: ['https://wikimedia.org/api/rest_v1/metrics/pageviews/per-article/en.wikipedia/all-access/all-agents/UFC_277/daily/2015010400/2021100200']\n"
     ]
    },
    {
     "name": "stdout",
     "output_type": "stream",
     "text": [
      "ERROR while fetching and parsing ['https://wikimedia.org/api/rest_v1/metrics/pageviews/per-article/en.wikipedia/all-access/all-agents/Bruno_Silva_%28fighter%29/daily/2015010400/2021100200']\n",
      "Error for player Bruno Silva (fighter): The pageview API returned nothing useful at: ['https://wikimedia.org/api/rest_v1/metrics/pageviews/per-article/en.wikipedia/all-access/all-agents/Bruno_Silva_%28fighter%29/daily/2015010400/2021100200']\n"
     ]
    },
    {
     "name": "stderr",
     "output_type": "stream",
     "text": [
      "Traceback (most recent call last):\n",
      "  File \"C:\\Users\\Archie Stevens\\Documents\\Anaconda\\lib\\site-packages\\mwviews\\api\\pageviews.py\", line 146, in article_views\n",
      "    raise Exception(\n",
      "Exception: The pageview API returned nothing useful at: ['https://wikimedia.org/api/rest_v1/metrics/pageviews/per-article/en.wikipedia/all-access/all-agents/Bruno_Silva_%28fighter%29/daily/2015010400/2021100200']\n"
     ]
    },
    {
     "name": "stdout",
     "output_type": "stream",
     "text": [
      "ERROR while fetching and parsing ['https://wikimedia.org/api/rest_v1/metrics/pageviews/per-article/en.wikipedia/all-access/all-agents/Ricky_Glenn/daily/2015010400/2021100200']\n",
      "Error for player Ricky Glenn: The pageview API returned nothing useful at: ['https://wikimedia.org/api/rest_v1/metrics/pageviews/per-article/en.wikipedia/all-access/all-agents/Ricky_Glenn/daily/2015010400/2021100200']\n"
     ]
    },
    {
     "name": "stderr",
     "output_type": "stream",
     "text": [
      "Traceback (most recent call last):\n",
      "  File \"C:\\Users\\Archie Stevens\\Documents\\Anaconda\\lib\\site-packages\\mwviews\\api\\pageviews.py\", line 146, in article_views\n",
      "    raise Exception(\n",
      "Exception: The pageview API returned nothing useful at: ['https://wikimedia.org/api/rest_v1/metrics/pageviews/per-article/en.wikipedia/all-access/all-agents/Ricky_Glenn/daily/2015010400/2021100200']\n"
     ]
    },
    {
     "name": "stdout",
     "output_type": "stream",
     "text": [
      "ERROR while fetching and parsing ['https://wikimedia.org/api/rest_v1/metrics/pageviews/per-article/en.wikipedia/all-access/all-agents/Dustin_Stoltzfus/daily/2015010400/2021100200']\n",
      "Error for player Dustin Stoltzfus: The pageview API returned nothing useful at: ['https://wikimedia.org/api/rest_v1/metrics/pageviews/per-article/en.wikipedia/all-access/all-agents/Dustin_Stoltzfus/daily/2015010400/2021100200']\n"
     ]
    },
    {
     "name": "stderr",
     "output_type": "stream",
     "text": [
      "Traceback (most recent call last):\n",
      "  File \"C:\\Users\\Archie Stevens\\Documents\\Anaconda\\lib\\site-packages\\mwviews\\api\\pageviews.py\", line 146, in article_views\n",
      "    raise Exception(\n",
      "Exception: The pageview API returned nothing useful at: ['https://wikimedia.org/api/rest_v1/metrics/pageviews/per-article/en.wikipedia/all-access/all-agents/Dustin_Stoltzfus/daily/2015010400/2021100200']\n"
     ]
    },
    {
     "name": "stdout",
     "output_type": "stream",
     "text": [
      "ERROR while fetching and parsing ['https://wikimedia.org/api/rest_v1/metrics/pageviews/per-article/en.wikipedia/all-access/all-agents/Cheyanne_Vlismas/daily/2015010400/2021100200']\n",
      "Error for player Cheyanne Vlismas: The pageview API returned nothing useful at: ['https://wikimedia.org/api/rest_v1/metrics/pageviews/per-article/en.wikipedia/all-access/all-agents/Cheyanne_Vlismas/daily/2015010400/2021100200']\n"
     ]
    },
    {
     "name": "stderr",
     "output_type": "stream",
     "text": [
      "Traceback (most recent call last):\n",
      "  File \"C:\\Users\\Archie Stevens\\Documents\\Anaconda\\lib\\site-packages\\mwviews\\api\\pageviews.py\", line 146, in article_views\n",
      "    raise Exception(\n",
      "Exception: The pageview API returned nothing useful at: ['https://wikimedia.org/api/rest_v1/metrics/pageviews/per-article/en.wikipedia/all-access/all-agents/Cheyanne_Vlismas/daily/2015010400/2021100200']\n"
     ]
    },
    {
     "name": "stdout",
     "output_type": "stream",
     "text": [
      "ERROR while fetching and parsing ['https://wikimedia.org/api/rest_v1/metrics/pageviews/per-article/en.wikipedia/all-access/all-agents/Pat_Sabatini/daily/2015010400/2021100200']\n",
      "Error for player Pat Sabatini: The pageview API returned nothing useful at: ['https://wikimedia.org/api/rest_v1/metrics/pageviews/per-article/en.wikipedia/all-access/all-agents/Pat_Sabatini/daily/2015010400/2021100200']\n"
     ]
    },
    {
     "name": "stderr",
     "output_type": "stream",
     "text": [
      "Traceback (most recent call last):\n",
      "  File \"C:\\Users\\Archie Stevens\\Documents\\Anaconda\\lib\\site-packages\\mwviews\\api\\pageviews.py\", line 146, in article_views\n",
      "    raise Exception(\n",
      "Exception: The pageview API returned nothing useful at: ['https://wikimedia.org/api/rest_v1/metrics/pageviews/per-article/en.wikipedia/all-access/all-agents/Pat_Sabatini/daily/2015010400/2021100200']\n"
     ]
    },
    {
     "name": "stdout",
     "output_type": "stream",
     "text": [
      "ERROR while fetching and parsing ['https://wikimedia.org/api/rest_v1/metrics/pageviews/per-article/en.wikipedia/all-access/all-agents/Tagir_Ulanbekov/daily/2015010400/2021100200']\n",
      "Error for player Tagir Ulanbekov: The pageview API returned nothing useful at: ['https://wikimedia.org/api/rest_v1/metrics/pageviews/per-article/en.wikipedia/all-access/all-agents/Tagir_Ulanbekov/daily/2015010400/2021100200']\n"
     ]
    },
    {
     "name": "stderr",
     "output_type": "stream",
     "text": [
      "Traceback (most recent call last):\n",
      "  File \"C:\\Users\\Archie Stevens\\Documents\\Anaconda\\lib\\site-packages\\mwviews\\api\\pageviews.py\", line 146, in article_views\n",
      "    raise Exception(\n",
      "Exception: The pageview API returned nothing useful at: ['https://wikimedia.org/api/rest_v1/metrics/pageviews/per-article/en.wikipedia/all-access/all-agents/Tagir_Ulanbekov/daily/2015010400/2021100200']\n"
     ]
    },
    {
     "name": "stdout",
     "output_type": "stream",
     "text": [
      "ERROR while fetching and parsing ['https://wikimedia.org/api/rest_v1/metrics/pageviews/per-article/en.wikipedia/all-access/all-agents/Cody_Brundage/daily/2015010400/2021100200']\n",
      "Error for player Cody Brundage: The pageview API returned nothing useful at: ['https://wikimedia.org/api/rest_v1/metrics/pageviews/per-article/en.wikipedia/all-access/all-agents/Cody_Brundage/daily/2015010400/2021100200']\n"
     ]
    },
    {
     "name": "stderr",
     "output_type": "stream",
     "text": [
      "Traceback (most recent call last):\n",
      "  File \"C:\\Users\\Archie Stevens\\Documents\\Anaconda\\lib\\site-packages\\mwviews\\api\\pageviews.py\", line 146, in article_views\n",
      "    raise Exception(\n",
      "Exception: The pageview API returned nothing useful at: ['https://wikimedia.org/api/rest_v1/metrics/pageviews/per-article/en.wikipedia/all-access/all-agents/Cody_Brundage/daily/2015010400/2021100200']\n"
     ]
    },
    {
     "name": "stdout",
     "output_type": "stream",
     "text": [
      "ERROR while fetching and parsing ['https://wikimedia.org/api/rest_v1/metrics/pageviews/per-article/en.wikipedia/all-access/all-agents/Jacob_Malkoun/daily/2015010400/2021100200']\n",
      "Error for player Jacob Malkoun: The pageview API returned nothing useful at: ['https://wikimedia.org/api/rest_v1/metrics/pageviews/per-article/en.wikipedia/all-access/all-agents/Jacob_Malkoun/daily/2015010400/2021100200']\n"
     ]
    },
    {
     "name": "stderr",
     "output_type": "stream",
     "text": [
      "Traceback (most recent call last):\n",
      "  File \"C:\\Users\\Archie Stevens\\Documents\\Anaconda\\lib\\site-packages\\mwviews\\api\\pageviews.py\", line 146, in article_views\n",
      "    raise Exception(\n",
      "Exception: The pageview API returned nothing useful at: ['https://wikimedia.org/api/rest_v1/metrics/pageviews/per-article/en.wikipedia/all-access/all-agents/Jacob_Malkoun/daily/2015010400/2021100200']\n"
     ]
    },
    {
     "name": "stdout",
     "output_type": "stream",
     "text": [
      "ERROR while fetching and parsing ['https://wikimedia.org/api/rest_v1/metrics/pageviews/per-article/en.wikipedia/all-access/all-agents/Andre_Petroski/daily/2015010400/2021100200']\n",
      "Error for player Andre Petroski: The pageview API returned nothing useful at: ['https://wikimedia.org/api/rest_v1/metrics/pageviews/per-article/en.wikipedia/all-access/all-agents/Andre_Petroski/daily/2015010400/2021100200']\n"
     ]
    },
    {
     "name": "stderr",
     "output_type": "stream",
     "text": [
      "Traceback (most recent call last):\n",
      "  File \"C:\\Users\\Archie Stevens\\Documents\\Anaconda\\lib\\site-packages\\mwviews\\api\\pageviews.py\", line 146, in article_views\n",
      "    raise Exception(\n",
      "Exception: The pageview API returned nothing useful at: ['https://wikimedia.org/api/rest_v1/metrics/pageviews/per-article/en.wikipedia/all-access/all-agents/Andre_Petroski/daily/2015010400/2021100200']\n"
     ]
    },
    {
     "name": "stdout",
     "output_type": "stream",
     "text": [
      "ERROR while fetching and parsing ['https://wikimedia.org/api/rest_v1/metrics/pageviews/per-article/en.wikipedia/all-access/all-agents/Luana_Pinheiro/daily/2015010400/2021100200']\n",
      "Error for player Luana Pinheiro: The pageview API returned nothing useful at: ['https://wikimedia.org/api/rest_v1/metrics/pageviews/per-article/en.wikipedia/all-access/all-agents/Luana_Pinheiro/daily/2015010400/2021100200']\n"
     ]
    },
    {
     "name": "stderr",
     "output_type": "stream",
     "text": [
      "Traceback (most recent call last):\n",
      "  File \"C:\\Users\\Archie Stevens\\Documents\\Anaconda\\lib\\site-packages\\mwviews\\api\\pageviews.py\", line 146, in article_views\n",
      "    raise Exception(\n",
      "Exception: The pageview API returned nothing useful at: ['https://wikimedia.org/api/rest_v1/metrics/pageviews/per-article/en.wikipedia/all-access/all-agents/Luana_Pinheiro/daily/2015010400/2021100200']\n"
     ]
    },
    {
     "name": "stdout",
     "output_type": "stream",
     "text": [
      "ERROR while fetching and parsing ['https://wikimedia.org/api/rest_v1/metrics/pageviews/per-article/en.wikipedia/all-access/all-agents/Ramiz_Brahimaj/daily/2015010400/2021100200']\n",
      "Error for player Ramiz Brahimaj: The pageview API returned nothing useful at: ['https://wikimedia.org/api/rest_v1/metrics/pageviews/per-article/en.wikipedia/all-access/all-agents/Ramiz_Brahimaj/daily/2015010400/2021100200']\n"
     ]
    },
    {
     "name": "stderr",
     "output_type": "stream",
     "text": [
      "Traceback (most recent call last):\n",
      "  File \"C:\\Users\\Archie Stevens\\Documents\\Anaconda\\lib\\site-packages\\mwviews\\api\\pageviews.py\", line 146, in article_views\n",
      "    raise Exception(\n",
      "Exception: The pageview API returned nothing useful at: ['https://wikimedia.org/api/rest_v1/metrics/pageviews/per-article/en.wikipedia/all-access/all-agents/Ramiz_Brahimaj/daily/2015010400/2021100200']\n"
     ]
    },
    {
     "name": "stdout",
     "output_type": "stream",
     "text": [
      "ERROR while fetching and parsing ['https://wikimedia.org/api/rest_v1/metrics/pageviews/per-article/en.wikipedia/all-access/all-agents/Umar_Nurmagomedov/daily/2015010400/2021100200']\n",
      "Error for player Umar Nurmagomedov: The pageview API returned nothing useful at: ['https://wikimedia.org/api/rest_v1/metrics/pageviews/per-article/en.wikipedia/all-access/all-agents/Umar_Nurmagomedov/daily/2015010400/2021100200']\n"
     ]
    },
    {
     "name": "stderr",
     "output_type": "stream",
     "text": [
      "Traceback (most recent call last):\n",
      "  File \"C:\\Users\\Archie Stevens\\Documents\\Anaconda\\lib\\site-packages\\mwviews\\api\\pageviews.py\", line 146, in article_views\n",
      "    raise Exception(\n",
      "Exception: The pageview API returned nothing useful at: ['https://wikimedia.org/api/rest_v1/metrics/pageviews/per-article/en.wikipedia/all-access/all-agents/Umar_Nurmagomedov/daily/2015010400/2021100200']\n"
     ]
    },
    {
     "name": "stdout",
     "output_type": "stream",
     "text": [
      "ERROR while fetching and parsing ['https://wikimedia.org/api/rest_v1/metrics/pageviews/per-article/en.wikipedia/all-access/all-agents/Roman_Kopylov/daily/2015010400/2021100200']\n",
      "Error for player Roman Kopylov: The pageview API returned nothing useful at: ['https://wikimedia.org/api/rest_v1/metrics/pageviews/per-article/en.wikipedia/all-access/all-agents/Roman_Kopylov/daily/2015010400/2021100200']\n"
     ]
    },
    {
     "name": "stderr",
     "output_type": "stream",
     "text": [
      "Traceback (most recent call last):\n",
      "  File \"C:\\Users\\Archie Stevens\\Documents\\Anaconda\\lib\\site-packages\\mwviews\\api\\pageviews.py\", line 146, in article_views\n",
      "    raise Exception(\n",
      "Exception: The pageview API returned nothing useful at: ['https://wikimedia.org/api/rest_v1/metrics/pageviews/per-article/en.wikipedia/all-access/all-agents/Roman_Kopylov/daily/2015010400/2021100200']\n"
     ]
    },
    {
     "name": "stdout",
     "output_type": "stream",
     "text": [
      "ERROR while fetching and parsing ['https://wikimedia.org/api/rest_v1/metrics/pageviews/per-article/en.wikipedia/all-access/all-agents/Jai_Herbert/daily/2015010400/2021100200']\n",
      "Error for player Jai Herbert: The pageview API returned nothing useful at: ['https://wikimedia.org/api/rest_v1/metrics/pageviews/per-article/en.wikipedia/all-access/all-agents/Jai_Herbert/daily/2015010400/2021100200']\n"
     ]
    },
    {
     "name": "stderr",
     "output_type": "stream",
     "text": [
      "Traceback (most recent call last):\n",
      "  File \"C:\\Users\\Archie Stevens\\Documents\\Anaconda\\lib\\site-packages\\mwviews\\api\\pageviews.py\", line 146, in article_views\n",
      "    raise Exception(\n",
      "Exception: The pageview API returned nothing useful at: ['https://wikimedia.org/api/rest_v1/metrics/pageviews/per-article/en.wikipedia/all-access/all-agents/Jai_Herbert/daily/2015010400/2021100200']\n"
     ]
    },
    {
     "name": "stdout",
     "output_type": "stream",
     "text": [
      "ERROR while fetching and parsing ['https://wikimedia.org/api/rest_v1/metrics/pageviews/per-article/en.wikipedia/all-access/all-agents/Joanne_Wood/daily/2015010400/2021100200']\n",
      "Error for player Joanne Wood: The pageview API returned nothing useful at: ['https://wikimedia.org/api/rest_v1/metrics/pageviews/per-article/en.wikipedia/all-access/all-agents/Joanne_Wood/daily/2015010400/2021100200']\n"
     ]
    },
    {
     "name": "stderr",
     "output_type": "stream",
     "text": [
      "Traceback (most recent call last):\n",
      "  File \"C:\\Users\\Archie Stevens\\Documents\\Anaconda\\lib\\site-packages\\mwviews\\api\\pageviews.py\", line 146, in article_views\n",
      "    raise Exception(\n",
      "Exception: The pageview API returned nothing useful at: ['https://wikimedia.org/api/rest_v1/metrics/pageviews/per-article/en.wikipedia/all-access/all-agents/Joanne_Wood/daily/2015010400/2021100200']\n"
     ]
    },
    {
     "name": "stdout",
     "output_type": "stream",
     "text": [
      "ERROR while fetching and parsing ['https://wikimedia.org/api/rest_v1/metrics/pageviews/per-article/en.wikipedia/all-access/all-agents/Michelle_Waterson-Gomez/daily/2015010400/2021100200']\n",
      "Error for player Michelle Waterson-Gomez: The pageview API returned nothing useful at: ['https://wikimedia.org/api/rest_v1/metrics/pageviews/per-article/en.wikipedia/all-access/all-agents/Michelle_Waterson-Gomez/daily/2015010400/2021100200']\n"
     ]
    },
    {
     "name": "stderr",
     "output_type": "stream",
     "text": [
      "Traceback (most recent call last):\n",
      "  File \"C:\\Users\\Archie Stevens\\Documents\\Anaconda\\lib\\site-packages\\mwviews\\api\\pageviews.py\", line 146, in article_views\n",
      "    raise Exception(\n",
      "Exception: The pageview API returned nothing useful at: ['https://wikimedia.org/api/rest_v1/metrics/pageviews/per-article/en.wikipedia/all-access/all-agents/Michelle_Waterson-Gomez/daily/2015010400/2021100200']\n"
     ]
    },
    {
     "name": "stdout",
     "output_type": "stream",
     "text": [
      "ERROR while fetching and parsing ['https://wikimedia.org/api/rest_v1/metrics/pageviews/per-article/en.wikipedia/all-access/all-agents/Juan_Puig/daily/2015010400/2021100200']\n",
      "Error for player Juan Puig: The pageview API returned nothing useful at: ['https://wikimedia.org/api/rest_v1/metrics/pageviews/per-article/en.wikipedia/all-access/all-agents/Juan_Puig/daily/2015010400/2021100200']\n"
     ]
    },
    {
     "name": "stderr",
     "output_type": "stream",
     "text": [
      "Traceback (most recent call last):\n",
      "  File \"C:\\Users\\Archie Stevens\\Documents\\Anaconda\\lib\\site-packages\\mwviews\\api\\pageviews.py\", line 146, in article_views\n",
      "    raise Exception(\n",
      "Exception: The pageview API returned nothing useful at: ['https://wikimedia.org/api/rest_v1/metrics/pageviews/per-article/en.wikipedia/all-access/all-agents/Juan_Puig/daily/2015010400/2021100200']\n"
     ]
    },
    {
     "name": "stdout",
     "output_type": "stream",
     "text": [
      "ERROR while fetching and parsing ['https://wikimedia.org/api/rest_v1/metrics/pageviews/per-article/en.wikipedia/all-access/all-agents/Niklas_Stolze/daily/2015010400/2021100200']\n",
      "Error for player Niklas Stolze: The pageview API returned nothing useful at: ['https://wikimedia.org/api/rest_v1/metrics/pageviews/per-article/en.wikipedia/all-access/all-agents/Niklas_Stolze/daily/2015010400/2021100200']\n"
     ]
    },
    {
     "name": "stderr",
     "output_type": "stream",
     "text": [
      "Traceback (most recent call last):\n",
      "  File \"C:\\Users\\Archie Stevens\\Documents\\Anaconda\\lib\\site-packages\\mwviews\\api\\pageviews.py\", line 146, in article_views\n",
      "    raise Exception(\n",
      "Exception: The pageview API returned nothing useful at: ['https://wikimedia.org/api/rest_v1/metrics/pageviews/per-article/en.wikipedia/all-access/all-agents/Niklas_Stolze/daily/2015010400/2021100200']\n"
     ]
    },
    {
     "name": "stdout",
     "output_type": "stream",
     "text": [
      "ERROR while fetching and parsing ['https://wikimedia.org/api/rest_v1/metrics/pageviews/per-article/en.wikipedia/all-access/all-agents/Lupita_Godinez/daily/2015010400/2021100200']\n",
      "Error for player Lupita Godinez: The pageview API returned nothing useful at: ['https://wikimedia.org/api/rest_v1/metrics/pageviews/per-article/en.wikipedia/all-access/all-agents/Lupita_Godinez/daily/2015010400/2021100200']\n"
     ]
    },
    {
     "name": "stderr",
     "output_type": "stream",
     "text": [
      "Traceback (most recent call last):\n",
      "  File \"C:\\Users\\Archie Stevens\\Documents\\Anaconda\\lib\\site-packages\\mwviews\\api\\pageviews.py\", line 146, in article_views\n",
      "    raise Exception(\n",
      "Exception: The pageview API returned nothing useful at: ['https://wikimedia.org/api/rest_v1/metrics/pageviews/per-article/en.wikipedia/all-access/all-agents/Lupita_Godinez/daily/2015010400/2021100200']\n"
     ]
    },
    {
     "name": "stdout",
     "output_type": "stream",
     "text": [
      "ERROR while fetching and parsing ['https://wikimedia.org/api/rest_v1/metrics/pageviews/per-article/en.wikipedia/all-access/all-agents/Carlston_Harris/daily/2015010400/2021100200']\n",
      "Error for player Carlston Harris: The pageview API returned nothing useful at: ['https://wikimedia.org/api/rest_v1/metrics/pageviews/per-article/en.wikipedia/all-access/all-agents/Carlston_Harris/daily/2015010400/2021100200']\n"
     ]
    },
    {
     "name": "stderr",
     "output_type": "stream",
     "text": [
      "Traceback (most recent call last):\n",
      "  File \"C:\\Users\\Archie Stevens\\Documents\\Anaconda\\lib\\site-packages\\mwviews\\api\\pageviews.py\", line 146, in article_views\n",
      "    raise Exception(\n",
      "Exception: The pageview API returned nothing useful at: ['https://wikimedia.org/api/rest_v1/metrics/pageviews/per-article/en.wikipedia/all-access/all-agents/Carlston_Harris/daily/2015010400/2021100200']\n"
     ]
    },
    {
     "name": "stdout",
     "output_type": "stream",
     "text": [
      "ERROR while fetching and parsing ['https://wikimedia.org/api/rest_v1/metrics/pageviews/per-article/en.wikipedia/all-access/all-agents/Johnny_Mu%C3%B1oz_Jr./daily/2015010400/2021100200']\n",
      "Error for player Johnny Muñoz Jr.: The pageview API returned nothing useful at: ['https://wikimedia.org/api/rest_v1/metrics/pageviews/per-article/en.wikipedia/all-access/all-agents/Johnny_Mu%C3%B1oz_Jr./daily/2015010400/2021100200']\n"
     ]
    },
    {
     "name": "stderr",
     "output_type": "stream",
     "text": [
      "Traceback (most recent call last):\n",
      "  File \"C:\\Users\\Archie Stevens\\Documents\\Anaconda\\lib\\site-packages\\mwviews\\api\\pageviews.py\", line 146, in article_views\n",
      "    raise Exception(\n",
      "Exception: The pageview API returned nothing useful at: ['https://wikimedia.org/api/rest_v1/metrics/pageviews/per-article/en.wikipedia/all-access/all-agents/Johnny_Mu%C3%B1oz_Jr./daily/2015010400/2021100200']\n"
     ]
    },
    {
     "name": "stdout",
     "output_type": "stream",
     "text": [
      "ERROR while fetching and parsing ['https://wikimedia.org/api/rest_v1/metrics/pageviews/per-article/en.wikipedia/all-access/all-agents/Hu_Yaozong/daily/2015010400/2021100200']\n",
      "Error for player Hu Yaozong: The pageview API returned nothing useful at: ['https://wikimedia.org/api/rest_v1/metrics/pageviews/per-article/en.wikipedia/all-access/all-agents/Hu_Yaozong/daily/2015010400/2021100200']\n"
     ]
    },
    {
     "name": "stderr",
     "output_type": "stream",
     "text": [
      "Traceback (most recent call last):\n",
      "  File \"C:\\Users\\Archie Stevens\\Documents\\Anaconda\\lib\\site-packages\\mwviews\\api\\pageviews.py\", line 146, in article_views\n",
      "    raise Exception(\n",
      "Exception: The pageview API returned nothing useful at: ['https://wikimedia.org/api/rest_v1/metrics/pageviews/per-article/en.wikipedia/all-access/all-agents/Hu_Yaozong/daily/2015010400/2021100200']\n"
     ]
    },
    {
     "name": "stdout",
     "output_type": "stream",
     "text": [
      "ERROR while fetching and parsing ['https://wikimedia.org/api/rest_v1/metrics/pageviews/per-article/en.wikipedia/all-access/all-agents/Josh_Parisian/daily/2015010400/2021100200']\n",
      "Error for player Josh Parisian: The pageview API returned nothing useful at: ['https://wikimedia.org/api/rest_v1/metrics/pageviews/per-article/en.wikipedia/all-access/all-agents/Josh_Parisian/daily/2015010400/2021100200']\n"
     ]
    },
    {
     "name": "stderr",
     "output_type": "stream",
     "text": [
      "Traceback (most recent call last):\n",
      "  File \"C:\\Users\\Archie Stevens\\Documents\\Anaconda\\lib\\site-packages\\mwviews\\api\\pageviews.py\", line 146, in article_views\n",
      "    raise Exception(\n",
      "Exception: The pageview API returned nothing useful at: ['https://wikimedia.org/api/rest_v1/metrics/pageviews/per-article/en.wikipedia/all-access/all-agents/Josh_Parisian/daily/2015010400/2021100200']\n"
     ]
    },
    {
     "name": "stdout",
     "output_type": "stream",
     "text": [
      "ERROR while fetching and parsing ['https://wikimedia.org/api/rest_v1/metrics/pageviews/per-article/en.wikipedia/all-access/all-agents/Shayilan_Nuerdanbieke/daily/2015010400/2021100200']\n",
      "Error for player Shayilan Nuerdanbieke: The pageview API returned nothing useful at: ['https://wikimedia.org/api/rest_v1/metrics/pageviews/per-article/en.wikipedia/all-access/all-agents/Shayilan_Nuerdanbieke/daily/2015010400/2021100200']\n"
     ]
    },
    {
     "name": "stderr",
     "output_type": "stream",
     "text": [
      "Traceback (most recent call last):\n",
      "  File \"C:\\Users\\Archie Stevens\\Documents\\Anaconda\\lib\\site-packages\\mwviews\\api\\pageviews.py\", line 146, in article_views\n",
      "    raise Exception(\n",
      "Exception: The pageview API returned nothing useful at: ['https://wikimedia.org/api/rest_v1/metrics/pageviews/per-article/en.wikipedia/all-access/all-agents/Shayilan_Nuerdanbieke/daily/2015010400/2021100200']\n"
     ]
    },
    {
     "name": "stdout",
     "output_type": "stream",
     "text": [
      "ERROR while fetching and parsing ['https://wikimedia.org/api/rest_v1/metrics/pageviews/per-article/en.wikipedia/all-access/all-agents/Leah_Letson/daily/2015010400/2021100200']\n",
      "Error for player Leah Letson: The pageview API returned nothing useful at: ['https://wikimedia.org/api/rest_v1/metrics/pageviews/per-article/en.wikipedia/all-access/all-agents/Leah_Letson/daily/2015010400/2021100200']\n"
     ]
    },
    {
     "name": "stderr",
     "output_type": "stream",
     "text": [
      "Traceback (most recent call last):\n",
      "  File \"C:\\Users\\Archie Stevens\\Documents\\Anaconda\\lib\\site-packages\\mwviews\\api\\pageviews.py\", line 146, in article_views\n",
      "    raise Exception(\n",
      "Exception: The pageview API returned nothing useful at: ['https://wikimedia.org/api/rest_v1/metrics/pageviews/per-article/en.wikipedia/all-access/all-agents/Leah_Letson/daily/2015010400/2021100200']\n"
     ]
    },
    {
     "name": "stdout",
     "output_type": "stream",
     "text": [
      "ERROR while fetching and parsing ['https://wikimedia.org/api/rest_v1/metrics/pageviews/per-article/en.wikipedia/all-access/all-agents/Mason_Jones_%28fighter%29/daily/2015010400/2021100200']\n",
      "Error for player Mason Jones (fighter): The pageview API returned nothing useful at: ['https://wikimedia.org/api/rest_v1/metrics/pageviews/per-article/en.wikipedia/all-access/all-agents/Mason_Jones_%28fighter%29/daily/2015010400/2021100200']\n"
     ]
    },
    {
     "name": "stderr",
     "output_type": "stream",
     "text": [
      "Traceback (most recent call last):\n",
      "  File \"C:\\Users\\Archie Stevens\\Documents\\Anaconda\\lib\\site-packages\\mwviews\\api\\pageviews.py\", line 146, in article_views\n",
      "    raise Exception(\n",
      "Exception: The pageview API returned nothing useful at: ['https://wikimedia.org/api/rest_v1/metrics/pageviews/per-article/en.wikipedia/all-access/all-agents/Mason_Jones_%28fighter%29/daily/2015010400/2021100200']\n"
     ]
    },
    {
     "name": "stdout",
     "output_type": "stream",
     "text": [
      "ERROR while fetching and parsing ['https://wikimedia.org/api/rest_v1/metrics/pageviews/per-article/en.wikipedia/all-access/all-agents/Sergey_Khandozhko/daily/2015010400/2021100200']\n",
      "Error for player Sergey Khandozhko: The pageview API returned nothing useful at: ['https://wikimedia.org/api/rest_v1/metrics/pageviews/per-article/en.wikipedia/all-access/all-agents/Sergey_Khandozhko/daily/2015010400/2021100200']\n"
     ]
    },
    {
     "name": "stderr",
     "output_type": "stream",
     "text": [
      "Traceback (most recent call last):\n",
      "  File \"C:\\Users\\Archie Stevens\\Documents\\Anaconda\\lib\\site-packages\\mwviews\\api\\pageviews.py\", line 146, in article_views\n",
      "    raise Exception(\n",
      "Exception: The pageview API returned nothing useful at: ['https://wikimedia.org/api/rest_v1/metrics/pageviews/per-article/en.wikipedia/all-access/all-agents/Sergey_Khandozhko/daily/2015010400/2021100200']\n"
     ]
    },
    {
     "name": "stdout",
     "output_type": "stream",
     "text": [
      "ERROR while fetching and parsing ['https://wikimedia.org/api/rest_v1/metrics/pageviews/per-article/en.wikipedia/all-access/all-agents/Francisco_Figueiredo/daily/2015010400/2021100200']\n",
      "Error for player Francisco Figueiredo: The pageview API returned nothing useful at: ['https://wikimedia.org/api/rest_v1/metrics/pageviews/per-article/en.wikipedia/all-access/all-agents/Francisco_Figueiredo/daily/2015010400/2021100200']\n"
     ]
    },
    {
     "name": "stderr",
     "output_type": "stream",
     "text": [
      "Traceback (most recent call last):\n",
      "  File \"C:\\Users\\Archie Stevens\\Documents\\Anaconda\\lib\\site-packages\\mwviews\\api\\pageviews.py\", line 146, in article_views\n",
      "    raise Exception(\n",
      "Exception: The pageview API returned nothing useful at: ['https://wikimedia.org/api/rest_v1/metrics/pageviews/per-article/en.wikipedia/all-access/all-agents/Francisco_Figueiredo/daily/2015010400/2021100200']\n"
     ]
    },
    {
     "name": "stdout",
     "output_type": "stream",
     "text": [
      "ERROR while fetching and parsing ['https://wikimedia.org/api/rest_v1/metrics/pageviews/per-article/en.wikipedia/all-access/all-agents/Kazula_Vargas/daily/2015010400/2021100200']\n",
      "Error for player Kazula Vargas: The pageview API returned nothing useful at: ['https://wikimedia.org/api/rest_v1/metrics/pageviews/per-article/en.wikipedia/all-access/all-agents/Kazula_Vargas/daily/2015010400/2021100200']\n"
     ]
    },
    {
     "name": "stderr",
     "output_type": "stream",
     "text": [
      "Traceback (most recent call last):\n",
      "  File \"C:\\Users\\Archie Stevens\\Documents\\Anaconda\\lib\\site-packages\\mwviews\\api\\pageviews.py\", line 146, in article_views\n",
      "    raise Exception(\n",
      "Exception: The pageview API returned nothing useful at: ['https://wikimedia.org/api/rest_v1/metrics/pageviews/per-article/en.wikipedia/all-access/all-agents/Kazula_Vargas/daily/2015010400/2021100200']\n"
     ]
    },
    {
     "name": "stdout",
     "output_type": "stream",
     "text": [
      "ERROR while fetching and parsing ['https://wikimedia.org/api/rest_v1/metrics/pageviews/per-article/en.wikipedia/all-access/all-agents/Rafa_Garc%C3%ADa_%28fighter%29/daily/2015010400/2021100200']\n",
      "Error for player Rafa García (fighter): The pageview API returned nothing useful at: ['https://wikimedia.org/api/rest_v1/metrics/pageviews/per-article/en.wikipedia/all-access/all-agents/Rafa_Garc%C3%ADa_%28fighter%29/daily/2015010400/2021100200']\n"
     ]
    },
    {
     "name": "stderr",
     "output_type": "stream",
     "text": [
      "Traceback (most recent call last):\n",
      "  File \"C:\\Users\\Archie Stevens\\Documents\\Anaconda\\lib\\site-packages\\mwviews\\api\\pageviews.py\", line 146, in article_views\n",
      "    raise Exception(\n",
      "Exception: The pageview API returned nothing useful at: ['https://wikimedia.org/api/rest_v1/metrics/pageviews/per-article/en.wikipedia/all-access/all-agents/Rafa_Garc%C3%ADa_%28fighter%29/daily/2015010400/2021100200']\n"
     ]
    },
    {
     "name": "stdout",
     "output_type": "stream",
     "text": [
      "ERROR while fetching and parsing ['https://wikimedia.org/api/rest_v1/metrics/pageviews/per-article/en.wikipedia/all-access/all-agents/Edgar_Garc%C3%ADa_%28mixed_martial_artist%29/daily/2015010400/2021100200']\n",
      "Error for player Edgar García (mixed martial artist): The pageview API returned nothing useful at: ['https://wikimedia.org/api/rest_v1/metrics/pageviews/per-article/en.wikipedia/all-access/all-agents/Edgar_Garc%C3%ADa_%28mixed_martial_artist%29/daily/2015010400/2021100200']\n"
     ]
    },
    {
     "name": "stderr",
     "output_type": "stream",
     "text": [
      "Traceback (most recent call last):\n",
      "  File \"C:\\Users\\Archie Stevens\\Documents\\Anaconda\\lib\\site-packages\\mwviews\\api\\pageviews.py\", line 146, in article_views\n",
      "    raise Exception(\n",
      "Exception: The pageview API returned nothing useful at: ['https://wikimedia.org/api/rest_v1/metrics/pageviews/per-article/en.wikipedia/all-access/all-agents/Edgar_Garc%C3%ADa_%28mixed_martial_artist%29/daily/2015010400/2021100200']\n"
     ]
    },
    {
     "name": "stdout",
     "output_type": "stream",
     "text": [
      "ERROR while fetching and parsing ['https://wikimedia.org/api/rest_v1/metrics/pageviews/per-article/en.wikipedia/all-access/all-agents/Yana_Santos/daily/2015010400/2021100200']\n",
      "Error for player Yana Santos: The pageview API returned nothing useful at: ['https://wikimedia.org/api/rest_v1/metrics/pageviews/per-article/en.wikipedia/all-access/all-agents/Yana_Santos/daily/2015010400/2021100200']\n"
     ]
    },
    {
     "name": "stderr",
     "output_type": "stream",
     "text": [
      "Traceback (most recent call last):\n",
      "  File \"C:\\Users\\Archie Stevens\\Documents\\Anaconda\\lib\\site-packages\\mwviews\\api\\pageviews.py\", line 146, in article_views\n",
      "    raise Exception(\n",
      "Exception: The pageview API returned nothing useful at: ['https://wikimedia.org/api/rest_v1/metrics/pageviews/per-article/en.wikipedia/all-access/all-agents/Yana_Santos/daily/2015010400/2021100200']\n"
     ]
    },
    {
     "name": "stdout",
     "output_type": "stream",
     "text": [
      "ERROR while fetching and parsing ['https://wikimedia.org/api/rest_v1/metrics/pageviews/per-article/en.wikipedia/all-access/all-agents/Tabatha_Ricci/daily/2015010400/2021100200']\n",
      "Error for player Tabatha Ricci: The pageview API returned nothing useful at: ['https://wikimedia.org/api/rest_v1/metrics/pageviews/per-article/en.wikipedia/all-access/all-agents/Tabatha_Ricci/daily/2015010400/2021100200']\n"
     ]
    },
    {
     "name": "stderr",
     "output_type": "stream",
     "text": [
      "Traceback (most recent call last):\n",
      "  File \"C:\\Users\\Archie Stevens\\Documents\\Anaconda\\lib\\site-packages\\mwviews\\api\\pageviews.py\", line 146, in article_views\n",
      "    raise Exception(\n",
      "Exception: The pageview API returned nothing useful at: ['https://wikimedia.org/api/rest_v1/metrics/pageviews/per-article/en.wikipedia/all-access/all-agents/Tabatha_Ricci/daily/2015010400/2021100200']\n"
     ]
    },
    {
     "name": "stdout",
     "output_type": "stream",
     "text": [
      "ERROR while fetching and parsing ['https://wikimedia.org/api/rest_v1/metrics/pageviews/per-article/en.wikipedia/all-access/all-agents/Sergey_Morozov_%28fighter%29/daily/2015010400/2021100200']\n",
      "Error for player Sergey Morozov (fighter): The pageview API returned nothing useful at: ['https://wikimedia.org/api/rest_v1/metrics/pageviews/per-article/en.wikipedia/all-access/all-agents/Sergey_Morozov_%28fighter%29/daily/2015010400/2021100200']\n"
     ]
    },
    {
     "name": "stderr",
     "output_type": "stream",
     "text": [
      "Traceback (most recent call last):\n",
      "  File \"C:\\Users\\Archie Stevens\\Documents\\Anaconda\\lib\\site-packages\\mwviews\\api\\pageviews.py\", line 146, in article_views\n",
      "    raise Exception(\n",
      "Exception: The pageview API returned nothing useful at: ['https://wikimedia.org/api/rest_v1/metrics/pageviews/per-article/en.wikipedia/all-access/all-agents/Sergey_Morozov_%28fighter%29/daily/2015010400/2021100200']\n"
     ]
    },
    {
     "name": "stdout",
     "output_type": "stream",
     "text": [
      "ERROR while fetching and parsing ['https://wikimedia.org/api/rest_v1/metrics/pageviews/per-article/en.wikipedia/all-access/all-agents/Uro%C5%A1_Medi%C4%87/daily/2015010400/2021100200']\n",
      "Error for player Uroš Medić: The pageview API returned nothing useful at: ['https://wikimedia.org/api/rest_v1/metrics/pageviews/per-article/en.wikipedia/all-access/all-agents/Uro%C5%A1_Medi%C4%87/daily/2015010400/2021100200']\n"
     ]
    },
    {
     "name": "stderr",
     "output_type": "stream",
     "text": [
      "Traceback (most recent call last):\n",
      "  File \"C:\\Users\\Archie Stevens\\Documents\\Anaconda\\lib\\site-packages\\mwviews\\api\\pageviews.py\", line 146, in article_views\n",
      "    raise Exception(\n",
      "Exception: The pageview API returned nothing useful at: ['https://wikimedia.org/api/rest_v1/metrics/pageviews/per-article/en.wikipedia/all-access/all-agents/Uro%C5%A1_Medi%C4%87/daily/2015010400/2021100200']\n"
     ]
    },
    {
     "name": "stdout",
     "output_type": "stream",
     "text": [
      "ERROR while fetching and parsing ['https://wikimedia.org/api/rest_v1/metrics/pageviews/per-article/en.wikipedia/all-access/all-agents/Marcin_Bandel/daily/2015010400/2021100200']\n",
      "Error for player Marcin Bandel: The pageview API returned nothing useful at: ['https://wikimedia.org/api/rest_v1/metrics/pageviews/per-article/en.wikipedia/all-access/all-agents/Marcin_Bandel/daily/2015010400/2021100200']\n"
     ]
    },
    {
     "name": "stderr",
     "output_type": "stream",
     "text": [
      "Traceback (most recent call last):\n",
      "  File \"C:\\Users\\Archie Stevens\\Documents\\Anaconda\\lib\\site-packages\\mwviews\\api\\pageviews.py\", line 146, in article_views\n",
      "    raise Exception(\n",
      "Exception: The pageview API returned nothing useful at: ['https://wikimedia.org/api/rest_v1/metrics/pageviews/per-article/en.wikipedia/all-access/all-agents/Marcin_Bandel/daily/2015010400/2021100200']\n"
     ]
    },
    {
     "name": "stdout",
     "output_type": "stream",
     "text": [
      "ERROR while fetching and parsing ['https://wikimedia.org/api/rest_v1/metrics/pageviews/per-article/en.wikipedia/all-access/all-agents/Rong_Zhu/daily/2015010400/2021100200']\n",
      "Error for player Rong Zhu: The pageview API returned nothing useful at: ['https://wikimedia.org/api/rest_v1/metrics/pageviews/per-article/en.wikipedia/all-access/all-agents/Rong_Zhu/daily/2015010400/2021100200']\n"
     ]
    },
    {
     "name": "stderr",
     "output_type": "stream",
     "text": [
      "Traceback (most recent call last):\n",
      "  File \"C:\\Users\\Archie Stevens\\Documents\\Anaconda\\lib\\site-packages\\mwviews\\api\\pageviews.py\", line 146, in article_views\n",
      "    raise Exception(\n",
      "Exception: The pageview API returned nothing useful at: ['https://wikimedia.org/api/rest_v1/metrics/pageviews/per-article/en.wikipedia/all-access/all-agents/Rong_Zhu/daily/2015010400/2021100200']\n"
     ]
    },
    {
     "name": "stdout",
     "output_type": "stream",
     "text": [
      "ERROR while fetching and parsing ['https://wikimedia.org/api/rest_v1/metrics/pageviews/per-article/en.wikipedia/all-access/all-agents/Jeff_Molina/daily/2015010400/2021100200']\n",
      "Error for player Jeff Molina: The pageview API returned nothing useful at: ['https://wikimedia.org/api/rest_v1/metrics/pageviews/per-article/en.wikipedia/all-access/all-agents/Jeff_Molina/daily/2015010400/2021100200']\n"
     ]
    },
    {
     "name": "stderr",
     "output_type": "stream",
     "text": [
      "Traceback (most recent call last):\n",
      "  File \"C:\\Users\\Archie Stevens\\Documents\\Anaconda\\lib\\site-packages\\mwviews\\api\\pageviews.py\", line 146, in article_views\n",
      "    raise Exception(\n",
      "Exception: The pageview API returned nothing useful at: ['https://wikimedia.org/api/rest_v1/metrics/pageviews/per-article/en.wikipedia/all-access/all-agents/Jeff_Molina/daily/2015010400/2021100200']\n"
     ]
    },
    {
     "name": "stdout",
     "output_type": "stream",
     "text": [
      "ERROR while fetching and parsing ['https://wikimedia.org/api/rest_v1/metrics/pageviews/per-article/en.wikipedia/all-access/all-agents/Veronica_Hardy/daily/2015010400/2021100200']\n",
      "Error for player Veronica Hardy: The pageview API returned nothing useful at: ['https://wikimedia.org/api/rest_v1/metrics/pageviews/per-article/en.wikipedia/all-access/all-agents/Veronica_Hardy/daily/2015010400/2021100200']\n"
     ]
    },
    {
     "name": "stderr",
     "output_type": "stream",
     "text": [
      "Traceback (most recent call last):\n",
      "  File \"C:\\Users\\Archie Stevens\\Documents\\Anaconda\\lib\\site-packages\\mwviews\\api\\pageviews.py\", line 146, in article_views\n",
      "    raise Exception(\n",
      "Exception: The pageview API returned nothing useful at: ['https://wikimedia.org/api/rest_v1/metrics/pageviews/per-article/en.wikipedia/all-access/all-agents/Veronica_Hardy/daily/2015010400/2021100200']\n"
     ]
    },
    {
     "name": "stdout",
     "output_type": "stream",
     "text": [
      "ERROR while fetching and parsing ['https://wikimedia.org/api/rest_v1/metrics/pageviews/per-article/en.wikipedia/all-access/all-agents/Brianna_Fortino/daily/2015010400/2021100200']\n",
      "Error for player Brianna Fortino: The pageview API returned nothing useful at: ['https://wikimedia.org/api/rest_v1/metrics/pageviews/per-article/en.wikipedia/all-access/all-agents/Brianna_Fortino/daily/2015010400/2021100200']\n"
     ]
    },
    {
     "name": "stderr",
     "output_type": "stream",
     "text": [
      "Traceback (most recent call last):\n",
      "  File \"C:\\Users\\Archie Stevens\\Documents\\Anaconda\\lib\\site-packages\\mwviews\\api\\pageviews.py\", line 146, in article_views\n",
      "    raise Exception(\n",
      "Exception: The pageview API returned nothing useful at: ['https://wikimedia.org/api/rest_v1/metrics/pageviews/per-article/en.wikipedia/all-access/all-agents/Brianna_Fortino/daily/2015010400/2021100200']\n"
     ]
    },
    {
     "name": "stdout",
     "output_type": "stream",
     "text": [
      "ERROR while fetching and parsing ['https://wikimedia.org/api/rest_v1/metrics/pageviews/per-article/en.wikipedia/all-access/all-agents/Alan_Baudot/daily/2015010400/2021100200']\n",
      "Error for player Alan Baudot: The pageview API returned nothing useful at: ['https://wikimedia.org/api/rest_v1/metrics/pageviews/per-article/en.wikipedia/all-access/all-agents/Alan_Baudot/daily/2015010400/2021100200']\n"
     ]
    },
    {
     "name": "stderr",
     "output_type": "stream",
     "text": [
      "Traceback (most recent call last):\n",
      "  File \"C:\\Users\\Archie Stevens\\Documents\\Anaconda\\lib\\site-packages\\mwviews\\api\\pageviews.py\", line 146, in article_views\n",
      "    raise Exception(\n",
      "Exception: The pageview API returned nothing useful at: ['https://wikimedia.org/api/rest_v1/metrics/pageviews/per-article/en.wikipedia/all-access/all-agents/Alan_Baudot/daily/2015010400/2021100200']\n"
     ]
    },
    {
     "name": "stdout",
     "output_type": "stream",
     "text": [
      "ERROR while fetching and parsing ['https://wikimedia.org/api/rest_v1/metrics/pageviews/per-article/en.wikipedia/all-access/all-agents/Jumabek_Tursyn/daily/2015010400/2021100200']\n",
      "Error for player Jumabek Tursyn: The pageview API returned nothing useful at: ['https://wikimedia.org/api/rest_v1/metrics/pageviews/per-article/en.wikipedia/all-access/all-agents/Jumabek_Tursyn/daily/2015010400/2021100200']\n"
     ]
    },
    {
     "name": "stderr",
     "output_type": "stream",
     "text": [
      "Traceback (most recent call last):\n",
      "  File \"C:\\Users\\Archie Stevens\\Documents\\Anaconda\\lib\\site-packages\\mwviews\\api\\pageviews.py\", line 146, in article_views\n",
      "    raise Exception(\n",
      "Exception: The pageview API returned nothing useful at: ['https://wikimedia.org/api/rest_v1/metrics/pageviews/per-article/en.wikipedia/all-access/all-agents/Jumabek_Tursyn/daily/2015010400/2021100200']\n"
     ]
    },
    {
     "name": "stdout",
     "output_type": "stream",
     "text": [
      "ERROR while fetching and parsing ['https://wikimedia.org/api/rest_v1/metrics/pageviews/per-article/en.wikipedia/all-access/all-agents/Luis_Salda%C3%B1a/daily/2015010400/2021100200']\n",
      "Error for player Luis Saldaña: The pageview API returned nothing useful at: ['https://wikimedia.org/api/rest_v1/metrics/pageviews/per-article/en.wikipedia/all-access/all-agents/Luis_Salda%C3%B1a/daily/2015010400/2021100200']\n"
     ]
    },
    {
     "name": "stderr",
     "output_type": "stream",
     "text": [
      "Traceback (most recent call last):\n",
      "  File \"C:\\Users\\Archie Stevens\\Documents\\Anaconda\\lib\\site-packages\\mwviews\\api\\pageviews.py\", line 146, in article_views\n",
      "    raise Exception(\n",
      "Exception: The pageview API returned nothing useful at: ['https://wikimedia.org/api/rest_v1/metrics/pageviews/per-article/en.wikipedia/all-access/all-agents/Luis_Salda%C3%B1a/daily/2015010400/2021100200']\n"
     ]
    },
    {
     "name": "stdout",
     "output_type": "stream",
     "text": [
      "ERROR while fetching and parsing ['https://wikimedia.org/api/rest_v1/metrics/pageviews/per-article/en.wikipedia/all-access/all-agents/Aori_Qileng/daily/2015010400/2021100200']\n",
      "Error for player Aori Qileng: The pageview API returned nothing useful at: ['https://wikimedia.org/api/rest_v1/metrics/pageviews/per-article/en.wikipedia/all-access/all-agents/Aori_Qileng/daily/2015010400/2021100200']\n"
     ]
    },
    {
     "name": "stderr",
     "output_type": "stream",
     "text": [
      "Traceback (most recent call last):\n",
      "  File \"C:\\Users\\Archie Stevens\\Documents\\Anaconda\\lib\\site-packages\\mwviews\\api\\pageviews.py\", line 146, in article_views\n",
      "    raise Exception(\n",
      "Exception: The pageview API returned nothing useful at: ['https://wikimedia.org/api/rest_v1/metrics/pageviews/per-article/en.wikipedia/all-access/all-agents/Aori_Qileng/daily/2015010400/2021100200']\n"
     ]
    },
    {
     "name": "stdout",
     "output_type": "stream",
     "text": [
      "ERROR while fetching and parsing ['https://wikimedia.org/api/rest_v1/metrics/pageviews/per-article/en.wikipedia/all-access/all-agents/Ignacio_Bahamondes/daily/2015010400/2021100200']\n",
      "Error for player Ignacio Bahamondes: The pageview API returned nothing useful at: ['https://wikimedia.org/api/rest_v1/metrics/pageviews/per-article/en.wikipedia/all-access/all-agents/Ignacio_Bahamondes/daily/2015010400/2021100200']\n"
     ]
    },
    {
     "name": "stderr",
     "output_type": "stream",
     "text": [
      "Traceback (most recent call last):\n",
      "  File \"C:\\Users\\Archie Stevens\\Documents\\Anaconda\\lib\\site-packages\\mwviews\\api\\pageviews.py\", line 146, in article_views\n",
      "    raise Exception(\n",
      "Exception: The pageview API returned nothing useful at: ['https://wikimedia.org/api/rest_v1/metrics/pageviews/per-article/en.wikipedia/all-access/all-agents/Ignacio_Bahamondes/daily/2015010400/2021100200']\n"
     ]
    }
   ],
   "source": [
    "# initialize client\n",
    "client = PageviewsClient(user_agent=\"<jg19184@bristol.ac.uk> Buzz Factor Research\")\n",
    "\n",
    "# fetch wiki data\n",
    "results = get_player_data(players)"
   ]
  },
  {
   "cell_type": "code",
   "execution_count": 15,
   "id": "526a6c4e",
   "metadata": {},
   "outputs": [
    {
     "name": "stdout",
     "output_type": "stream",
     "text": [
      "There are this many null values: 588970\n",
      "These are the null values: ['No Wikipedia page' 'No Wikipedia page' 'No Wikipedia page' ...\n",
      " 'No Wikipedia page' 'No Wikipedia page' 'No Wikipedia page']\n"
     ]
    }
   ],
   "source": [
    "merged = players_df[['original_names', 'wiki_title']].merge\\\n",
    "  (results, left_on='wiki_title', right_on='Player',  how='left')\n",
    "merged.drop(columns=['Player'], inplace=True)\n",
    "\n",
    "print('There are this many null values:',merged.wiki.isnull().values.sum())\n",
    "print('These are the null values:', merged.loc[merged.wiki.isnull()==True].wiki_title.values)\n"
   ]
  },
  {
   "cell_type": "code",
   "execution_count": 20,
   "id": "f9eb5b8c",
   "metadata": {},
   "outputs": [
    {
     "name": "stdout",
     "output_type": "stream",
     "text": [
      "Dates with no views: DatetimeIndex(['2015-01-04', '2015-01-05', '2015-01-06', '2015-01-07',\n",
      "               '2015-01-08', '2015-01-09', '2015-01-10', '2015-01-11',\n",
      "               '2015-01-12', '2015-01-13',\n",
      "               ...\n",
      "               '2015-06-21', '2015-06-22', '2015-06-23', '2015-06-24',\n",
      "               '2015-06-25', '2015-06-26', '2015-06-27', '2015-06-28',\n",
      "               '2015-06-29', '2015-06-30'],\n",
      "              dtype='datetime64[ns]', name='Date', length=178, freq=None)\n"
     ]
    }
   ],
   "source": [
    "merged = merged[merged.wiki.notnull()] \n",
    "nulls = merged.groupby('Date')['wiki'].sum() == 0  \n",
    "null_dates = nulls[nulls == True].index.tolist()\n",
    "print('Dates with no views:', nulls.loc[nulls == True].index) \n",
    "merged = merged[~merged.Date.isin(null_dates)]"
   ]
  },
  {
   "cell_type": "code",
   "execution_count": 22,
   "id": "224abba4",
   "metadata": {},
   "outputs": [],
   "source": [
    "merged = combine_duplicate_players(merged)"
   ]
  },
  {
   "cell_type": "code",
   "execution_count": 24,
   "id": "2633304d",
   "metadata": {},
   "outputs": [],
   "source": [
    "merged.sort_values(['wiki_title', 'Date'], inplace=True)\n",
    "merged.to_csv('ufc_wikipedia.csv', encoding='utf8', index=False)"
   ]
  }
 ],
 "metadata": {
  "kernelspec": {
   "display_name": "Python 3 (ipykernel)",
   "language": "python",
   "name": "python3"
  },
  "language_info": {
   "codemirror_mode": {
    "name": "ipython",
    "version": 3
   },
   "file_extension": ".py",
   "mimetype": "text/x-python",
   "name": "python",
   "nbconvert_exporter": "python",
   "pygments_lexer": "ipython3",
   "version": "3.9.12"
  }
 },
 "nbformat": 4,
 "nbformat_minor": 5
}
