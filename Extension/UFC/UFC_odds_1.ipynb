{
 "cells": [
  {
   "cell_type": "code",
   "execution_count": 1,
   "id": "808f43b8",
   "metadata": {},
   "outputs": [],
   "source": [
    "import pandas as pd"
   ]
  },
  {
   "cell_type": "code",
   "execution_count": 2,
   "id": "62091a19",
   "metadata": {},
   "outputs": [],
   "source": [
    "def get_direct_link(shared_link):\n",
    "    return 'https://drive.google.com/uc?export=download&id=' + shared_link.split('/')[-2]\n",
    "\n",
    "link = \"https://drive.google.com/file/d/1Jmux9z4gk5XMPco5wLeWhtkgI3jD3DMn/view?usp=drive_link\"\n",
    "\n",
    "direct_link = get_direct_link(link)\n",
    "df = pd.read_csv(direct_link)"
   ]
  },
  {
   "cell_type": "code",
   "execution_count": 4,
   "id": "4821addb",
   "metadata": {},
   "outputs": [],
   "source": [
    "columns = ['R_fighter',\n",
    " 'B_fighter',\n",
    " 'R_odds',\n",
    " 'B_odds',\n",
    " 'date',\n",
    " 'location',\n",
    " 'country',\n",
    " 'Winner']"
   ]
  },
  {
   "cell_type": "code",
   "execution_count": 5,
   "id": "a2cf796e",
   "metadata": {},
   "outputs": [],
   "source": [
    "drop_columns = list(set(df.columns) - set(columns))"
   ]
  },
  {
   "cell_type": "code",
   "execution_count": 6,
   "id": "17eb65b9",
   "metadata": {},
   "outputs": [],
   "source": [
    "df = df.drop(columns = drop_columns)"
   ]
  },
  {
   "cell_type": "code",
   "execution_count": 8,
   "id": "ba882f8c",
   "metadata": {},
   "outputs": [],
   "source": [
    "def convert_to_decimal_odds(dataframe):\n",
    "    def american_to_decimal(american_odds):\n",
    "        if american_odds >= 0:\n",
    "            return (american_odds / 100) + 1\n",
    "        else:\n",
    "            return (100 / abs(american_odds)) + 1\n",
    "\n",
    "    dataframe['R_odds'] = dataframe['R_odds'].apply(american_to_decimal)\n",
    "    dataframe['B_odds'] = dataframe['B_odds'].apply(american_to_decimal)\n",
    "\n",
    "    return dataframe"
   ]
  },
  {
   "cell_type": "code",
   "execution_count": 9,
   "id": "e1818083",
   "metadata": {},
   "outputs": [],
   "source": [
    "df = convert_to_decimal_odds(df)"
   ]
  },
  {
   "cell_type": "code",
   "execution_count": 10,
   "id": "bfcd4c7c",
   "metadata": {},
   "outputs": [],
   "source": [
    "df.date = pd.to_datetime(df.date)"
   ]
  },
  {
   "cell_type": "code",
   "execution_count": 11,
   "id": "a4853490",
   "metadata": {},
   "outputs": [],
   "source": [
    "df = df.sort_values(by='date')"
   ]
  },
  {
   "cell_type": "code",
   "execution_count": 13,
   "id": "79e6119b",
   "metadata": {},
   "outputs": [
    {
     "data": {
      "text/html": [
       "<div>\n",
       "<style scoped>\n",
       "    .dataframe tbody tr th:only-of-type {\n",
       "        vertical-align: middle;\n",
       "    }\n",
       "\n",
       "    .dataframe tbody tr th {\n",
       "        vertical-align: top;\n",
       "    }\n",
       "\n",
       "    .dataframe thead th {\n",
       "        text-align: right;\n",
       "    }\n",
       "</style>\n",
       "<table border=\"1\" class=\"dataframe\">\n",
       "  <thead>\n",
       "    <tr style=\"text-align: right;\">\n",
       "      <th></th>\n",
       "      <th>R_fighter</th>\n",
       "      <th>B_fighter</th>\n",
       "      <th>R_odds</th>\n",
       "      <th>B_odds</th>\n",
       "      <th>date</th>\n",
       "      <th>location</th>\n",
       "      <th>country</th>\n",
       "      <th>Winner</th>\n",
       "    </tr>\n",
       "  </thead>\n",
       "  <tbody>\n",
       "    <tr>\n",
       "      <th>2990</th>\n",
       "      <td>Thiago Tavares</td>\n",
       "      <td>Brian Ortega</td>\n",
       "      <td>1.689655</td>\n",
       "      <td>2.250000</td>\n",
       "      <td>2015-06-06</td>\n",
       "      <td>New Orleans, Louisiana, USA</td>\n",
       "      <td>USA</td>\n",
       "      <td>Blue</td>\n",
       "    </tr>\n",
       "    <tr>\n",
       "      <th>2987</th>\n",
       "      <td>Tim Boetsch</td>\n",
       "      <td>Dan Henderson</td>\n",
       "      <td>1.540541</td>\n",
       "      <td>2.600000</td>\n",
       "      <td>2015-06-06</td>\n",
       "      <td>New Orleans, Louisiana, USA</td>\n",
       "      <td>USA</td>\n",
       "      <td>Blue</td>\n",
       "    </tr>\n",
       "    <tr>\n",
       "      <th>2988</th>\n",
       "      <td>Ben Rothwell</td>\n",
       "      <td>Matt Mitrione</td>\n",
       "      <td>2.450000</td>\n",
       "      <td>1.606061</td>\n",
       "      <td>2015-06-06</td>\n",
       "      <td>New Orleans, Louisiana, USA</td>\n",
       "      <td>USA</td>\n",
       "      <td>Red</td>\n",
       "    </tr>\n",
       "    <tr>\n",
       "      <th>2989</th>\n",
       "      <td>Dustin Poirier</td>\n",
       "      <td>Yancy Medeiros</td>\n",
       "      <td>1.400000</td>\n",
       "      <td>3.300000</td>\n",
       "      <td>2015-06-06</td>\n",
       "      <td>New Orleans, Louisiana, USA</td>\n",
       "      <td>USA</td>\n",
       "      <td>Red</td>\n",
       "    </tr>\n",
       "    <tr>\n",
       "      <th>2991</th>\n",
       "      <td>Joe Soto</td>\n",
       "      <td>Anthony Birchak</td>\n",
       "      <td>1.500000</td>\n",
       "      <td>2.700000</td>\n",
       "      <td>2015-06-06</td>\n",
       "      <td>New Orleans, Louisiana, USA</td>\n",
       "      <td>USA</td>\n",
       "      <td>Blue</td>\n",
       "    </tr>\n",
       "    <tr>\n",
       "      <th>...</th>\n",
       "      <td>...</td>\n",
       "      <td>...</td>\n",
       "      <td>...</td>\n",
       "      <td>...</td>\n",
       "      <td>...</td>\n",
       "      <td>...</td>\n",
       "      <td>...</td>\n",
       "      <td>...</td>\n",
       "    </tr>\n",
       "    <tr>\n",
       "      <th>8</th>\n",
       "      <td>Douglas Silva de Andrade</td>\n",
       "      <td>Gaetano Pirrello</td>\n",
       "      <td>1.357143</td>\n",
       "      <td>3.250000</td>\n",
       "      <td>2021-10-02</td>\n",
       "      <td>Las Vegas, Nevada, USA</td>\n",
       "      <td>USA</td>\n",
       "      <td>Red</td>\n",
       "    </tr>\n",
       "    <tr>\n",
       "      <th>9</th>\n",
       "      <td>Stephanie Egger</td>\n",
       "      <td>Shanna Young</td>\n",
       "      <td>1.645161</td>\n",
       "      <td>2.350000</td>\n",
       "      <td>2021-10-02</td>\n",
       "      <td>Las Vegas, Nevada, USA</td>\n",
       "      <td>USA</td>\n",
       "      <td>Red</td>\n",
       "    </tr>\n",
       "    <tr>\n",
       "      <th>10</th>\n",
       "      <td>Alejandro Perez</td>\n",
       "      <td>Johnny Eduardo</td>\n",
       "      <td>1.333333</td>\n",
       "      <td>3.350000</td>\n",
       "      <td>2021-10-02</td>\n",
       "      <td>Las Vegas, Nevada, USA</td>\n",
       "      <td>USA</td>\n",
       "      <td>Red</td>\n",
       "    </tr>\n",
       "    <tr>\n",
       "      <th>5</th>\n",
       "      <td>Antonina Shevchenko</td>\n",
       "      <td>Casey O'Neill</td>\n",
       "      <td>3.150000</td>\n",
       "      <td>1.377358</td>\n",
       "      <td>2021-10-02</td>\n",
       "      <td>Las Vegas, Nevada, USA</td>\n",
       "      <td>USA</td>\n",
       "      <td>Blue</td>\n",
       "    </tr>\n",
       "    <tr>\n",
       "      <th>0</th>\n",
       "      <td>Thiago Santos</td>\n",
       "      <td>Johnny Walker</td>\n",
       "      <td>1.666667</td>\n",
       "      <td>2.300000</td>\n",
       "      <td>2021-10-02</td>\n",
       "      <td>Las Vegas, Nevada, USA</td>\n",
       "      <td>USA</td>\n",
       "      <td>Red</td>\n",
       "    </tr>\n",
       "  </tbody>\n",
       "</table>\n",
       "<p>2999 rows × 8 columns</p>\n",
       "</div>"
      ],
      "text/plain": [
       "                     R_fighter         B_fighter    R_odds    B_odds  \\\n",
       "2990            Thiago Tavares      Brian Ortega  1.689655  2.250000   \n",
       "2987               Tim Boetsch     Dan Henderson  1.540541  2.600000   \n",
       "2988              Ben Rothwell     Matt Mitrione  2.450000  1.606061   \n",
       "2989            Dustin Poirier    Yancy Medeiros  1.400000  3.300000   \n",
       "2991                  Joe Soto   Anthony Birchak  1.500000  2.700000   \n",
       "...                        ...               ...       ...       ...   \n",
       "8     Douglas Silva de Andrade  Gaetano Pirrello  1.357143  3.250000   \n",
       "9              Stephanie Egger      Shanna Young  1.645161  2.350000   \n",
       "10             Alejandro Perez    Johnny Eduardo  1.333333  3.350000   \n",
       "5          Antonina Shevchenko     Casey O'Neill  3.150000  1.377358   \n",
       "0                Thiago Santos     Johnny Walker  1.666667  2.300000   \n",
       "\n",
       "           date                     location country Winner  \n",
       "2990 2015-06-06  New Orleans, Louisiana, USA     USA   Blue  \n",
       "2987 2015-06-06  New Orleans, Louisiana, USA     USA   Blue  \n",
       "2988 2015-06-06  New Orleans, Louisiana, USA     USA    Red  \n",
       "2989 2015-06-06  New Orleans, Louisiana, USA     USA    Red  \n",
       "2991 2015-06-06  New Orleans, Louisiana, USA     USA   Blue  \n",
       "...         ...                          ...     ...    ...  \n",
       "8    2021-10-02       Las Vegas, Nevada, USA     USA    Red  \n",
       "9    2021-10-02       Las Vegas, Nevada, USA     USA    Red  \n",
       "10   2021-10-02       Las Vegas, Nevada, USA     USA    Red  \n",
       "5    2021-10-02       Las Vegas, Nevada, USA     USA   Blue  \n",
       "0    2021-10-02       Las Vegas, Nevada, USA     USA    Red  \n",
       "\n",
       "[2999 rows x 8 columns]"
      ]
     },
     "execution_count": 13,
     "metadata": {},
     "output_type": "execute_result"
    }
   ],
   "source": [
    "df[df['date'] >= '2015-06-01']"
   ]
  },
  {
   "cell_type": "code",
   "execution_count": 14,
   "id": "72adf174",
   "metadata": {},
   "outputs": [],
   "source": [
    "fighters = set(df.R_fighter).union(set(df.B_fighter))"
   ]
  },
  {
   "cell_type": "code",
   "execution_count": 16,
   "id": "5b552e4e",
   "metadata": {},
   "outputs": [],
   "source": [
    "fighters = pd.DataFrame(fighters)"
   ]
  },
  {
   "cell_type": "code",
   "execution_count": 17,
   "id": "9ae94509",
   "metadata": {},
   "outputs": [],
   "source": [
    "fighters.to_csv('ufc_fighters.csv', encoding='utf-8', index=False)"
   ]
  },
  {
   "cell_type": "code",
   "execution_count": 18,
   "id": "4196f3a0",
   "metadata": {},
   "outputs": [],
   "source": [
    "df.to_csv('ufc_odds.csv', encoding='utf-8', index=False)"
   ]
  }
 ],
 "metadata": {
  "kernelspec": {
   "display_name": "Python 3 (ipykernel)",
   "language": "python",
   "name": "python3"
  },
  "language_info": {
   "codemirror_mode": {
    "name": "ipython",
    "version": 3
   },
   "file_extension": ".py",
   "mimetype": "text/x-python",
   "name": "python",
   "nbconvert_exporter": "python",
   "pygments_lexer": "ipython3",
   "version": "3.9.12"
  }
 },
 "nbformat": 4,
 "nbformat_minor": 5
}
