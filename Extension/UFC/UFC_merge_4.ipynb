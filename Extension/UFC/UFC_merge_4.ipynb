{
 "cells": [
  {
   "cell_type": "code",
   "execution_count": 1,
   "id": "aa76180b",
   "metadata": {},
   "outputs": [],
   "source": [
    "import pandas as pd\n",
    "from datetime import datetime\n",
    "\n",
    "def get_direct_link(shared_link):\n",
    "    return 'https://drive.google.com/uc?export=download&id=' + shared_link.split('/')[-2]\n",
    "\n",
    "link = \"https://drive.google.com/file/d/1gZiaXkkDin9VmEbpuuQa8Xv2Jt9MdrdL/view?usp=drive_link\"\n",
    "direct_link = get_direct_link(link)\n",
    "wiki_data = pd.read_csv(direct_link, encoding='UTF-8')\n",
    "\n",
    "link = \"https://drive.google.com/file/d/17Lr-Z508FDCLKJACnF5tDyNlXATXl_pk/view?usp=drive_link\"\n",
    "direct_link = get_direct_link(link)\n",
    "odds_data = pd.read_csv(direct_link, encoding='UTF-8')\n",
    "\n",
    "wiki_data['Date'] = pd.to_datetime(wiki_data['Date'])\n",
    "wiki_data['date'] = wiki_data['Date']\n",
    "wiki_data['pid'] = wiki_data.groupby('wiki_title').ngroup()\n",
    "\n",
    "duplicates = wiki_data.duplicated(subset=['pid', 'Date'])\n",
    "duplicates = duplicates[duplicates].index\n",
    "wiki_data = wiki_data.drop(duplicates)\n",
    "\n",
    "wiki_data = wiki_data.set_index(['pid', 'Date']).sort_index()"
   ]
  },
  {
   "cell_type": "code",
   "execution_count": 2,
   "id": "69719df4",
   "metadata": {},
   "outputs": [],
   "source": [
    "wiki_data.sort_values(by=['pid', 'date'], inplace=True)\n",
    "\n",
    "wiki_data['wiki_med365'] = wiki_data.groupby('pid')['wiki'].rolling(window=365, min_periods=0).median().reset_index(0, drop=True)\n",
    "wiki_data['wiki_yesterday'] = wiki_data.groupby('pid')['wiki'].shift()"
   ]
  },
  {
   "cell_type": "code",
   "execution_count": 3,
   "id": "a40ba78b",
   "metadata": {},
   "outputs": [],
   "source": [
    "wiki_data = wiki_data.dropna(subset=['month', 'year', 'day'])"
   ]
  },
  {
   "cell_type": "code",
   "execution_count": 4,
   "id": "bd93309a",
   "metadata": {},
   "outputs": [],
   "source": [
    "odds_data['date'] = pd.to_datetime(odds_data['date'], format='%Y-%m-%d')\n",
    "odds_data['year'] = odds_data['date'].dt.year\n",
    "odds_data['month'] = odds_data['date'].dt.month\n",
    "odds_data['day'] = odds_data['date'].dt.day\n",
    "\n",
    "wiki_data['date'] = pd.to_datetime(wiki_data['date'], format='%d/%m/%Y')\n",
    "wiki_data['year'] = wiki_data['date'].dt.year\n",
    "wiki_data['month'] = wiki_data['date'].dt.month\n",
    "wiki_data['day'] = wiki_data['date'].dt.day \n"
   ]
  },
  {
   "cell_type": "code",
   "execution_count": 5,
   "id": "b06c7eb0",
   "metadata": {},
   "outputs": [],
   "source": [
    "wiki_columns = ['date','wiki']+(list(wiki_data.columns[7:20]))"
   ]
  },
  {
   "cell_type": "code",
   "execution_count": 7,
   "id": "87846c30",
   "metadata": {},
   "outputs": [
    {
     "name": "stdout",
     "output_type": "stream",
     "text": [
      "3176150\n"
     ]
    }
   ],
   "source": [
    "count_non_null_rows = wiki_data[wiki_data[['wiki_med365', 'wiki_yesterday']].notna().all(axis=1)].shape[0]\n",
    "print(count_non_null_rows)"
   ]
  },
  {
   "cell_type": "code",
   "execution_count": 8,
   "id": "c8f0ebdc",
   "metadata": {},
   "outputs": [
    {
     "name": "stdout",
     "output_type": "stream",
     "text": [
      "0\n",
      "50\n",
      "100\n",
      "150\n",
      "200\n",
      "250\n",
      "300\n",
      "350\n",
      "400\n",
      "450\n",
      "500\n",
      "550\n",
      "600\n",
      "650\n",
      "700\n",
      "750\n",
      "800\n",
      "850\n",
      "900\n",
      "950\n",
      "1000\n",
      "1050\n",
      "1100\n",
      "1150\n",
      "1200\n",
      "1250\n",
      "1300\n",
      "1350\n"
     ]
    }
   ],
   "source": [
    "merged_data = pd.DataFrame()\n",
    "j = -1\n",
    "names = ''\n",
    "for i, row in wiki_data.iterrows():\n",
    "    names = row['original_names']\n",
    "    red_mask = odds_data['R_fighter'].apply(lambda x: x in names)\n",
    "    temp_data = odds_data[red_mask].copy()\n",
    "    temp_data['original_names'] = names\n",
    "    temp_data = temp_data.merge(pd.DataFrame([row[wiki_columns]]), on=['date'], how='inner')\n",
    "    merged_data = pd.concat([merged_data,temp_data], ignore_index=True)\n",
    "    if (i[0] % 50 ==0) & (i[0] > j):\n",
    "        print(i[0])\n",
    "        j = i[0]\n",
    "\n",
    "for column in merged_data.columns:\n",
    "    if column.startswith('wiki'):\n",
    "        merged_data = merged_data.rename(columns={column: column + '_r'})"
   ]
  },
  {
   "cell_type": "code",
   "execution_count": 9,
   "id": "48eeddd0",
   "metadata": {},
   "outputs": [
    {
     "name": "stdout",
     "output_type": "stream",
     "text": [
      "0\n",
      "50\n",
      "100\n",
      "150\n",
      "200\n",
      "250\n",
      "300\n",
      "350\n",
      "400\n",
      "450\n",
      "500\n",
      "550\n",
      "600\n",
      "650\n",
      "700\n",
      "750\n",
      "800\n",
      "850\n",
      "900\n",
      "950\n",
      "1000\n",
      "1050\n",
      "1100\n",
      "1150\n",
      "1200\n",
      "1250\n",
      "1300\n",
      "1350\n"
     ]
    }
   ],
   "source": [
    "j = -1\n",
    "names = ''\n",
    "for i, row in wiki_data.iterrows():\n",
    "    names = row['original_names']\n",
    "    blue_mask = odds_data['B_fighter'].apply(lambda x: x in names)\n",
    "    temp_data = odds_data[blue_mask].copy()\n",
    "    temp_data['original_names'] = names\n",
    "    temp_data = temp_data.merge(pd.DataFrame([row[wiki_columns]]), on=['date'], how='inner')\n",
    "    merged_data = pd.concat([merged_data,temp_data], ignore_index=True)\n",
    "    if (i[0] % 50 ==0) & (i[0] > j):\n",
    "        print(i[0])\n",
    "        j = i[0]\n",
    "    \n",
    "for column in merged_data.columns:\n",
    "    if (column.startswith('wiki')) and not column.endswith('_r'):\n",
    "        merged_data = merged_data.rename(columns={column: column + '_b'})"
   ]
  },
  {
   "cell_type": "code",
   "execution_count": 19,
   "id": "e8c7e2a8",
   "metadata": {},
   "outputs": [],
   "source": [
    "merged_data_r = merged_data[merged_data['wiki_b'].isnull()].reset_index()\n",
    "merged_data_b = merged_data[merged_data['wiki_r'].isnull()].reset_index()\n",
    "\n",
    "combined_df = merged_data_r.combine_first(merged_data_b)"
   ]
  },
  {
   "cell_type": "code",
   "execution_count": 21,
   "id": "5f40cb6c",
   "metadata": {},
   "outputs": [],
   "source": [
    "combined_df.to_csv('ufc_merged.csv', index=False)"
   ]
  }
 ],
 "metadata": {
  "kernelspec": {
   "display_name": "Python 3 (ipykernel)",
   "language": "python",
   "name": "python3"
  },
  "language_info": {
   "codemirror_mode": {
    "name": "ipython",
    "version": 3
   },
   "file_extension": ".py",
   "mimetype": "text/x-python",
   "name": "python",
   "nbconvert_exporter": "python",
   "pygments_lexer": "ipython3",
   "version": "3.9.12"
  }
 },
 "nbformat": 4,
 "nbformat_minor": 5
}
