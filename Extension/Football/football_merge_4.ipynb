{
 "cells": [
  {
   "cell_type": "code",
   "execution_count": 1,
   "id": "d9a96d27",
   "metadata": {},
   "outputs": [],
   "source": [
    "import pandas as pd\n",
    "from datetime import datetime\n",
    "\n",
    "\n",
    "def get_direct_link(shared_link):\n",
    "    return 'https://drive.google.com/uc?export=download&id=' + shared_link.split('/')[-2]\n",
    "\n",
    "link = \"https://drive.google.com/file/d/12oCN9BndrDNLWBLgPMZjbB4kHsqgd9XA/view?usp=drive_link\"\n",
    "direct_link = get_direct_link(link)\n",
    "wiki_data = pd.read_csv(direct_link, encoding='UTF-8')\n",
    "\n",
    "link = \"https://drive.google.com/file/d/125peVnvL3G7_hv_RGNIT0J416sGm6kMo/view?usp=drive_link\"\n",
    "direct_link = get_direct_link(link)\n",
    "odds_data = pd.read_csv(direct_link)\n",
    "\n",
    "wiki_data['Date'] = pd.to_datetime(wiki_data['Date'])\n",
    "wiki_data['date'] = wiki_data['Date']\n",
    "wiki_data['pid'] = wiki_data.groupby('wiki_title').ngroup()\n",
    "\n",
    "duplicates = wiki_data.duplicated(subset=['pid', 'Date'])\n",
    "duplicates = duplicates[duplicates].index\n",
    "wiki_data = wiki_data.drop(duplicates)\n",
    "\n",
    "wiki_data = wiki_data.set_index(['pid', 'Date']).sort_index()"
   ]
  },
  {
   "cell_type": "code",
   "execution_count": 2,
   "id": "9583cefd",
   "metadata": {},
   "outputs": [],
   "source": [
    "wiki_data.sort_values(by=['pid', 'date'], inplace=True)\n",
    "\n",
    "wiki_data['wiki_med365'] = wiki_data.groupby('pid')['wiki'].rolling(window=365, min_periods=0).median().reset_index(0, drop=True)\n",
    "wiki_data['wiki_yesterday'] = wiki_data.groupby('pid')['wiki'].shift()\n",
    "\n",
    "wiki_data = wiki_data.dropna(subset=['month', 'year', 'day'])"
   ]
  },
  {
   "cell_type": "code",
   "execution_count": 3,
   "id": "4a16ed61",
   "metadata": {},
   "outputs": [],
   "source": [
    "odds_data['parsed_date_1'] = pd.to_datetime(odds_data['Date'], format='%d/%m/%y', errors='coerce')\n",
    "odds_data['parsed_date_2'] = pd.to_datetime(odds_data['Date'], format='%d/%m/%Y', errors='coerce')\n",
    "odds_data['date'] = odds_data['parsed_date_1'].combine_first(odds_data['parsed_date_2'])\n",
    "odds_data.drop(columns=['parsed_date_1', 'parsed_date_2'], axis=1, inplace=True)\n",
    "odds_data['year'] = odds_data['date'].dt.year\n",
    "odds_data['month'] = odds_data['date'].dt.month\n",
    "odds_data['day'] = odds_data['date'].dt.day\n",
    "\n",
    "wiki_data['date'] = pd.to_datetime(wiki_data['date'], format='%d/%m/%Y')\n",
    "wiki_data['year'] = wiki_data['date'].dt.year\n",
    "wiki_data['month'] = wiki_data['date'].dt.month\n",
    "wiki_data['day'] = wiki_data['date'].dt.day "
   ]
  },
  {
   "cell_type": "code",
   "execution_count": 7,
   "id": "e389320b",
   "metadata": {},
   "outputs": [],
   "source": [
    "wiki_columns = ['date','wiki']+(list(wiki_data.columns[7:20]))"
   ]
  },
  {
   "cell_type": "code",
   "execution_count": 8,
   "id": "85e73947",
   "metadata": {},
   "outputs": [
    {
     "name": "stdout",
     "output_type": "stream",
     "text": [
      "0\n",
      "50\n",
      "100\n",
      "150\n"
     ]
    }
   ],
   "source": [
    "merged_data = pd.DataFrame()\n",
    "j = -1\n",
    "names = ''\n",
    "for i, row in wiki_data.iterrows():\n",
    "    names = row['original_names']\n",
    "    home_mask = odds_data['HomeTeam'].apply(lambda x: x in names)\n",
    "    temp_data = odds_data[home_mask].copy()\n",
    "    temp_data['original_names'] = names\n",
    "    temp_data = temp_data.merge(pd.DataFrame([row[wiki_columns]]), on=['date'], how='inner')\n",
    "    merged_data = pd.concat([merged_data,temp_data], ignore_index=True)\n",
    "    if (i[0] % 50 ==0) & (i[0] > j):\n",
    "        print(i[0])\n",
    "        j = i[0]\n",
    "        \n",
    "\n",
    "for column in merged_data.columns:\n",
    "    if column.startswith('wiki'):\n",
    "        merged_data = merged_data.rename(columns={column: column + '_h'})\n",
    "merged_data = merged_data.rename(columns={'original_names': 'original_names_h'})"
   ]
  },
  {
   "cell_type": "code",
   "execution_count": 9,
   "id": "56843352",
   "metadata": {},
   "outputs": [
    {
     "name": "stdout",
     "output_type": "stream",
     "text": [
      "0\n",
      "50\n",
      "100\n",
      "150\n"
     ]
    }
   ],
   "source": [
    "j = -1\n",
    "names = ''\n",
    "for i, row in wiki_data.iterrows():\n",
    "    names = row['original_names']\n",
    "    away_mask = odds_data['AwayTeam'].apply(lambda x: x in names)\n",
    "    temp_data = odds_data[away_mask].copy()\n",
    "    temp_data['original_names'] = names\n",
    "    temp_data = temp_data.merge(pd.DataFrame([row[wiki_columns]]), on=['date'], how='inner')\n",
    "    merged_data = pd.concat([merged_data,temp_data], ignore_index=True)\n",
    "    if (i[0] % 50 ==0) & (i[0] > j):\n",
    "        print(i[0])\n",
    "        j = i[0]\n",
    "    \n",
    "for column in merged_data.columns:\n",
    "    if column.startswith('wiki'):\n",
    "        merged_data = merged_data.rename(columns={column: column + '_a'})\n",
    "merged_data = merged_data.rename(columns={'original_names': 'original_names_a'})"
   ]
  },
  {
   "cell_type": "code",
   "execution_count": 11,
   "id": "0803dfeb",
   "metadata": {},
   "outputs": [],
   "source": [
    "merged_data_a = merged_data[merged_data['wiki_h_a'].isnull()].reset_index()\n",
    "merged_data_h = merged_data[merged_data['wiki_a'].isnull()]\n",
    "\n",
    "combined_df = merged_data_h.combine_first(merged_data_a)"
   ]
  },
  {
   "cell_type": "code",
   "execution_count": 13,
   "id": "439def2a",
   "metadata": {},
   "outputs": [],
   "source": [
    "combined_df.to_csv('football_merged.csv', index=False)"
   ]
  }
 ],
 "metadata": {
  "kernelspec": {
   "display_name": "Python 3 (ipykernel)",
   "language": "python",
   "name": "python3"
  },
  "language_info": {
   "codemirror_mode": {
    "name": "ipython",
    "version": 3
   },
   "file_extension": ".py",
   "mimetype": "text/x-python",
   "name": "python",
   "nbconvert_exporter": "python",
   "pygments_lexer": "ipython3",
   "version": "3.9.12"
  }
 },
 "nbformat": 4,
 "nbformat_minor": 5
}
