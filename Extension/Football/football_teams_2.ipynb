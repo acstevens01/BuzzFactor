{
 "cells": [
  {
   "cell_type": "code",
   "execution_count": 1,
   "id": "ada346d2",
   "metadata": {},
   "outputs": [],
   "source": [
    "import pandas as pd"
   ]
  },
  {
   "cell_type": "code",
   "execution_count": null,
   "id": "21512cbf",
   "metadata": {},
   "outputs": [],
   "source": [
    "def get_direct_link(shared_link):\n",
    "    return 'https://drive.google.com/uc?export=download&id=' + shared_link.split('/')[-2]\n",
    "\n",
    "link = \"https://drive.google.com/file/d/125peVnvL3G7_hv_RGNIT0J416sGm6kMo/view?usp=drive_link\"\n",
    "\n",
    "direct_link = get_direct_link(link)\n",
    "df = pd.read_csv(direct_link)"
   ]
  },
  {
   "cell_type": "code",
   "execution_count": 3,
   "id": "3f998416",
   "metadata": {},
   "outputs": [],
   "source": [
    "df.dropna(inplace=True)\n",
    "df.reset_index(drop=True, inplace=True)"
   ]
  },
  {
   "cell_type": "code",
   "execution_count": 4,
   "id": "40af5f98",
   "metadata": {},
   "outputs": [],
   "source": [
    "teams = pd.DataFrame(pd.concat([df['HomeTeam'],df['AwayTeam']]).unique())\n",
    "teams.columns = ['original_names']\n",
    "teams['search_query'] = teams['original_names'] + \" football club wikipedia\""
   ]
  },
  {
   "cell_type": "code",
   "execution_count": 5,
   "id": "bec4cfe8",
   "metadata": {},
   "outputs": [],
   "source": [
    "import requests\n",
    "from bs4 import BeautifulSoup\n",
    "import urllib.parse\n",
    "\n",
    "def get_first_search_result_title(query):\n",
    "    query = urllib.parse.quote_plus(query)\n",
    "    url = f\"https://www.google.com/search?q={query}\"\n",
    "\n",
    "    headers = {\n",
    "        \"User-Agent\": \"Mozilla/5.0 (Windows NT 10.0; Win64; x64) AppleWebKit/537.36 (KHTML, like Gecko) Chrome/91.0.4472.124 Safari/537.36\",\n",
    "        'Accept-Language': 'en-US,en;q=0.5'\n",
    "    }\n",
    "    \n",
    "    response = requests.get(url, headers=headers)\n",
    "    soup = BeautifulSoup(response.text, \"html.parser\")\n",
    "    first_result = soup.find(\"div\", {\"class\": \"yuRUbf\"})\n",
    "    if first_result:\n",
    "        title = first_result.find(\"h3\").text\n",
    "        return title.strip()\n",
    "\n",
    "    return None\n",
    "\n",
    "count = 0\n",
    "for index, row in teams.iterrows():\n",
    "    if index < count:\n",
    "        continue\n",
    "    query = row[\"search_query\"]\n",
    "    result_title = get_first_search_result_title(query)\n",
    "    if not result_title:\n",
    "        print(count,index,row['original_names'])\n",
    "        break\n",
    "    teams.at[index, \"wiki_title\"] = result_title if result_title else \"No search results found\""
   ]
  },
  {
   "cell_type": "code",
   "execution_count": 6,
   "id": "09f9ba37",
   "metadata": {},
   "outputs": [],
   "source": [
    "teams[\"wiki_title\"] = teams[\"wiki_title\"].str.replace(' - Wikipedia', '')"
   ]
  },
  {
   "cell_type": "code",
   "execution_count": 7,
   "id": "f19fb000",
   "metadata": {},
   "outputs": [],
   "source": [
    "teams.to_csv('teams.csv', index = False)"
   ]
  }
 ],
 "metadata": {
  "kernelspec": {
   "display_name": "Python 3 (ipykernel)",
   "language": "python",
   "name": "python3"
  },
  "language_info": {
   "codemirror_mode": {
    "name": "ipython",
    "version": 3
   },
   "file_extension": ".py",
   "mimetype": "text/x-python",
   "name": "python",
   "nbconvert_exporter": "python",
   "pygments_lexer": "ipython3",
   "version": "3.9.12"
  }
 },
 "nbformat": 4,
 "nbformat_minor": 5
}
