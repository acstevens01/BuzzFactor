{
 "cells": [
  {
   "cell_type": "code",
   "execution_count": 1,
   "id": "96edaef2",
   "metadata": {},
   "outputs": [],
   "source": [
    "import pandas as pd\n",
    "from mwviews.api import PageviewsClient\n",
    "import numpy as np\n",
    "import chardet\n",
    "\n",
    "def get_direct_link(shared_link):\n",
    "    return 'https://drive.google.com/uc?export=download&id=' + shared_link.split('/')[-2]\n",
    "\n",
    "link = \"https://drive.google.com/file/d/1ndN5kFHdH1yhblgRUWdaFYicwt3WtcTB/view?usp=drive_link\"\n",
    "\n",
    "direct_link = get_direct_link(link)\n",
    "teams_df = pd.read_csv(direct_link)\n",
    "\n",
    "end_date = '20230603'"
   ]
  },
  {
   "cell_type": "code",
   "execution_count": 2,
   "id": "15d06abb",
   "metadata": {},
   "outputs": [],
   "source": [
    "def get_team_data(team):\n",
    "    results = pd.DataFrame(columns=['Date', 'wiki', 'Team'])\n",
    "    for team in team:\n",
    "        try:\n",
    "            data = client.article_views('en.wikipedia', team,\n",
    "                                        granularity='daily',\n",
    "                                        start='20150104',\n",
    "                                        end=end_date)\n",
    "        except:\n",
    "            print(\"Kinda error\")\n",
    "            continue\n",
    "\n",
    "        data_df = pd.DataFrame.from_dict(data, orient='index')\n",
    "        column = data_df.columns[0]\n",
    "        data_df = data_df.reset_index()\n",
    "        data_df.rename(columns={'index' : 'Date',\n",
    "                                 column : 'wiki'}, inplace=True)\n",
    "        data_df['Team'] = team\n",
    "\n",
    "        date_mask = data_df['Date'].isin(results['Date'])\n",
    "        team_mask = data_df['Team'].isin(results['Team'])\n",
    "        dup_mask = date_mask & team_mask\n",
    "        new_data = data_df[~dup_mask]\n",
    "        if new_data.shape[0] == 0:\n",
    "            continue\n",
    "\n",
    "        new_data.fillna(0, inplace=True)\n",
    "        new_data['year'] = new_data['Date'].dt.year\n",
    "        new_data['month'] = new_data['Date'].dt.month\n",
    "        new_data['day'] = new_data['Date'].dt.day\n",
    "        results = pd.concat([results,new_data])\n",
    "\n",
    "    return results"
   ]
  },
  {
   "cell_type": "code",
   "execution_count": 3,
   "id": "f5ed0cc1",
   "metadata": {},
   "outputs": [],
   "source": [
    "def combine_duplicate_teams(df):\n",
    "    grouped_teams = df.groupby('wiki_title')['original_names'].apply(np.unique).reset_index()\n",
    "\n",
    "    grouped_teams['original_names'] = grouped_teams['original_names'].apply(tuple)\n",
    "\n",
    "    merged = df.merge(grouped_teams, on='wiki_title', how='left')\n",
    "\n",
    "    merged.drop(columns='original_names_x', inplace=True)\n",
    "    merged.rename(columns={'original_names_y': 'original_names'}, inplace=True)\n",
    "\n",
    "    merged.drop_duplicates(inplace=True)\n",
    "\n",
    "    return merged\n"
   ]
  },
  {
   "cell_type": "code",
   "execution_count": 4,
   "id": "eb8ab5ce",
   "metadata": {},
   "outputs": [
    {
     "name": "stdout",
     "output_type": "stream",
     "text": [
      "ERROR while fetching and parsing ['https://wikimedia.org/api/rest_v1/metrics/pageviews/per-article/en.wikipedia/all-access/all-agents/AC_Carpi/daily/2015010400/2023060300']\n",
      "Kinda error\n"
     ]
    },
    {
     "name": "stderr",
     "output_type": "stream",
     "text": [
      "Traceback (most recent call last):\n",
      "  File \"C:\\Users\\Archie Stevens\\Documents\\Anaconda\\lib\\site-packages\\mwviews\\api\\pageviews.py\", line 146, in article_views\n",
      "    raise Exception(\n",
      "Exception: The pageview API returned nothing useful at: ['https://wikimedia.org/api/rest_v1/metrics/pageviews/per-article/en.wikipedia/all-access/all-agents/AC_Carpi/daily/2015010400/2023060300']\n"
     ]
    },
    {
     "name": "stdout",
     "output_type": "stream",
     "text": [
      "ERROR while fetching and parsing ['https://wikimedia.org/api/rest_v1/metrics/pageviews/per-article/en.wikipedia/all-access/all-agents/US_Salernitana_1919/daily/2015010400/2023060300']\n",
      "Kinda error\n"
     ]
    },
    {
     "name": "stderr",
     "output_type": "stream",
     "text": [
      "Traceback (most recent call last):\n",
      "  File \"C:\\Users\\Archie Stevens\\Documents\\Anaconda\\lib\\site-packages\\mwviews\\api\\pageviews.py\", line 146, in article_views\n",
      "    raise Exception(\n",
      "Exception: The pageview API returned nothing useful at: ['https://wikimedia.org/api/rest_v1/metrics/pageviews/per-article/en.wikipedia/all-access/all-agents/US_Salernitana_1919/daily/2015010400/2023060300']\n"
     ]
    },
    {
     "name": "stdout",
     "output_type": "stream",
     "text": [
      "There are this many null values: 2\n",
      "These are the null values: ['AC Carpi' 'US Salernitana 1919']\n",
      "Dates with no views: DatetimeIndex(['2015-01-04', '2015-01-05', '2015-01-06', '2015-01-07',\n",
      "               '2015-01-08', '2015-01-09', '2015-01-10', '2015-01-11',\n",
      "               '2015-01-12', '2015-01-13',\n",
      "               ...\n",
      "               '2015-06-21', '2015-06-22', '2015-06-23', '2015-06-24',\n",
      "               '2015-06-25', '2015-06-26', '2015-06-27', '2015-06-28',\n",
      "               '2015-06-29', '2015-06-30'],\n",
      "              dtype='datetime64[ns]', name='Date', length=178, freq=None)\n"
     ]
    }
   ],
   "source": [
    "teams = list(teams_df['wiki_title'].dropna().unique())\n",
    "\n",
    "client = PageviewsClient(user_agent=\"<jg19184@bristol.ac.uk> Buzz Factor Research\")\n",
    "\n",
    "results = get_team_data(teams)\n",
    "\n",
    "merged = teams_df[['original_names', 'wiki_title']].merge\\\n",
    "  (results, left_on='wiki_title', right_on='Team',  how='left')\n",
    "merged.drop(columns=['Team'], inplace=True)\n",
    "\n",
    "print('There are this many null values:',merged.wiki.isnull().values.sum())\n",
    "print('These are the null values:', merged.loc[merged.wiki.isnull()==True].wiki_title.values)\n",
    "\n",
    "merged = merged[merged.wiki.notnull()]\n",
    "nulls = merged.groupby('Date')['wiki'].sum() == 0\n",
    "null_dates = nulls[nulls == True].index.tolist()\n",
    "print('Dates with no views:', nulls.loc[nulls == True].index)\n",
    "merged = merged[~merged.Date.isin(null_dates)]\n",
    "\n",
    "merged = combine_duplicate_teams(merged)\n",
    "\n",
    "merged.sort_values(['wiki_title', 'Date'], inplace=True)\n",
    "merged.to_csv('football_wikipedia.csv', encoding='utf8', index=False)"
   ]
  }
 ],
 "metadata": {
  "kernelspec": {
   "display_name": "Python 3 (ipykernel)",
   "language": "python",
   "name": "python3"
  },
  "language_info": {
   "codemirror_mode": {
    "name": "ipython",
    "version": 3
   },
   "file_extension": ".py",
   "mimetype": "text/x-python",
   "name": "python",
   "nbconvert_exporter": "python",
   "pygments_lexer": "ipython3",
   "version": "3.9.12"
  }
 },
 "nbformat": 4,
 "nbformat_minor": 5
}
