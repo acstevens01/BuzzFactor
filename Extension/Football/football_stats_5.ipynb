{
 "cells": [
  {
   "cell_type": "code",
   "execution_count": 1,
   "id": "4890e844",
   "metadata": {},
   "outputs": [],
   "source": [
    "import pandas as pd\n",
    "import numpy as np\n",
    "\n",
    "def get_direct_link(shared_link):\n",
    "    return 'https://drive.google.com/uc?export=download&id=' + shared_link.split('/')[-2]\n",
    "\n",
    "link = \"https://drive.google.com/file/d/1ArH8wifpOapYT8vw2dsEe3kuYeVqLVQP/view?usp=drive_link\"\n",
    "\n",
    "direct_link = get_direct_link(link)\n",
    "df = pd.read_csv(direct_link)"
   ]
  },
  {
   "cell_type": "code",
   "execution_count": 2,
   "id": "05255208",
   "metadata": {},
   "outputs": [],
   "source": [
    "df['date'] = pd.to_datetime(df.date)\n",
    "df = df.sort_values(by='Date')"
   ]
  },
  {
   "cell_type": "code",
   "execution_count": 5,
   "id": "a2af6ef1",
   "metadata": {},
   "outputs": [],
   "source": [
    "df.columns = [column[:-2] if column.endswith('_h_a') else column for column in df.columns]"
   ]
  },
  {
   "cell_type": "code",
   "execution_count": 6,
   "id": "531d1845",
   "metadata": {},
   "outputs": [
    {
     "name": "stderr",
     "output_type": "stream",
     "text": [
      "C:\\Users\\Archie Stevens\\AppData\\Local\\Temp\\ipykernel_31204\\3228255220.py:3: RuntimeWarning: divide by zero encountered in log\n",
      "  buzz = np.log(home_pageviews / home_median) - np.log(away_pageviews / away_median)\n",
      "C:\\Users\\Archie Stevens\\AppData\\Local\\Temp\\ipykernel_31204\\3228255220.py:3: RuntimeWarning: invalid value encountered in double_scalars\n",
      "  buzz = np.log(home_pageviews / home_median) - np.log(away_pageviews / away_median)\n",
      "C:\\Users\\Archie Stevens\\AppData\\Local\\Temp\\ipykernel_31204\\3228255220.py:3: RuntimeWarning: divide by zero encountered in log\n",
      "  buzz = np.log(home_pageviews / home_median) - np.log(away_pageviews / away_median)\n",
      "C:\\Users\\Archie Stevens\\AppData\\Local\\Temp\\ipykernel_31204\\3228255220.py:3: RuntimeWarning: invalid value encountered in double_scalars\n",
      "  buzz = np.log(home_pageviews / home_median) - np.log(away_pageviews / away_median)\n"
     ]
    }
   ],
   "source": [
    "def wikibuzz(home_pageviews, home_median, away_pageviews, away_median):\n",
    "    try:\n",
    "        buzz = np.log(home_pageviews / home_median) - np.log(away_pageviews / away_median)\n",
    "    except ZeroDivisionError:\n",
    "        buzz = 'ZeroDivisionError'\n",
    "    return buzz\n",
    "\n",
    "df['wikibuzz_h'] = [wikibuzz(row[0], row[1], row[2], row[3]) for row in zip(df['wiki_yesterday_h'], df['wiki_med365_h'],\n",
    "                                                                                df['wiki_yesterday_a'], df['wiki_med365_a'])]\n",
    "df['wikibuzz_a'] = [wikibuzz(row[0], row[1], row[2], row[3]) for row in zip(df['wiki_yesterday_a'], df['wiki_med365_a'],\n",
    "                                                                                df['wiki_yesterday_h'], df['wiki_med365_h'])]"
   ]
  },
  {
   "cell_type": "code",
   "execution_count": 7,
   "id": "458c4b60",
   "metadata": {},
   "outputs": [],
   "source": [
    "df['inverse_B365_h'] = [1/x for x in df['B365H']]\n",
    "df['inverse_B365_d'] = [1/x for x in df['B365D']]\n",
    "df['inverse_B365_a'] = [1/x for x in df['B365A']]"
   ]
  },
  {
   "cell_type": "code",
   "execution_count": 9,
   "id": "0ac8ca9b",
   "metadata": {},
   "outputs": [],
   "source": [
    "df['match_id'] = df.index\n",
    "\n",
    "df_home = df[['match_id', 'HomeTeam', 'date', 'year', 'wikibuzz_h', 'inverse_B365_h', 'inverse_B365_d', 'inverse_B365_a', 'FTR']].copy()\n",
    "df_away = df[['match_id', 'AwayTeam', 'date', 'year', 'wikibuzz_a', 'inverse_B365_a', 'inverse_B365_d', 'inverse_B365_h', 'FTR']].copy()"
   ]
  },
  {
   "cell_type": "code",
   "execution_count": 10,
   "id": "8af7494f",
   "metadata": {},
   "outputs": [],
   "source": [
    "outcome_mapping_h = {'H': 1, 'D': 0, 'A': 0}\n",
    "outcome_mapping_a = {'A': 1, 'D': 0, 'H': 0}"
   ]
  },
  {
   "cell_type": "code",
   "execution_count": 11,
   "id": "18259c5c",
   "metadata": {},
   "outputs": [],
   "source": [
    "df_home['outcome'] = df_home['FTR'].map(outcome_mapping_h)\n",
    "df_away['outcome'] = df_away['FTR'].map(outcome_mapping_a)"
   ]
  },
  {
   "cell_type": "code",
   "execution_count": 13,
   "id": "3750eb7e",
   "metadata": {},
   "outputs": [],
   "source": [
    "df_home.rename({'HomeTeam': 'team', 'wikibuzz_h': 'wikibuzz', 'inverse_B365_h': 'inverse_B365_w', 'inverse_B365_d': 'inverse_B365_d', 'inverse_B365_a': 'inverse_B365_l'}, axis=1, inplace=True)\n",
    "df_away.rename({'AwayTeam': 'team', 'wikibuzz_a': 'wikibuzz', 'inverse_B365_a': 'inverse_B365_w', 'inverse_B365_d': 'inverse_B365_d', 'inverse_B365_h': 'inverse_B365_l'}, axis=1, inplace=True)\n",
    "df = pd.concat([df_home, df_away], axis=0)"
   ]
  },
  {
   "cell_type": "code",
   "execution_count": 15,
   "id": "e67e585a",
   "metadata": {},
   "outputs": [],
   "source": [
    "df = df.loc[df[\"wikibuzz\"] != np.inf]\n",
    "df = df.loc[df[\"wikibuzz\"] != -np.inf]\n",
    "df = df.loc[df[\"wikibuzz\"] != 'ZeroDivisionError']\n",
    "\n",
    "df = df[df['wikibuzz'].notna()]\n",
    "df = df[df['inverse_B365_w'].notna()]\n",
    "df = df[df['inverse_B365_d'].notna()]\n",
    "df = df[df['inverse_B365_l'].notna()]\n",
    "\n",
    "df.sort_values(by='date', inplace = True)"
   ]
  },
  {
   "cell_type": "code",
   "execution_count": 17,
   "id": "6fce5a62",
   "metadata": {},
   "outputs": [],
   "source": [
    "df.to_csv('football_final.csv', index=False)"
   ]
  }
 ],
 "metadata": {
  "kernelspec": {
   "display_name": "Python 3 (ipykernel)",
   "language": "python",
   "name": "python3"
  },
  "language_info": {
   "codemirror_mode": {
    "name": "ipython",
    "version": 3
   },
   "file_extension": ".py",
   "mimetype": "text/x-python",
   "name": "python",
   "nbconvert_exporter": "python",
   "pygments_lexer": "ipython3",
   "version": "3.9.12"
  }
 },
 "nbformat": 4,
 "nbformat_minor": 5
}
