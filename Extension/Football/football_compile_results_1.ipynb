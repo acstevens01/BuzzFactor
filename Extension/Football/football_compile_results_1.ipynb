{
 "cells": [
  {
   "cell_type": "code",
   "execution_count": 1,
   "id": "396e6675",
   "metadata": {},
   "outputs": [],
   "source": [
    "import pandas as pd\n",
    "import numpy as np"
   ]
  },
  {
   "cell_type": "code",
   "execution_count": 2,
   "id": "0a48b7dd",
   "metadata": {},
   "outputs": [],
   "source": [
    "def get_direct_link(shared_link):\n",
    "    return 'https://drive.google.com/uc?export=download&id=' + shared_link.split('/')[-2]\n",
    "\n",
    "links = {\n",
    "    \"Serie A\": [\n",
    "        \"https://drive.google.com/file/d/13ZK9UWO0m2-kt1A8RYV2o0jkf-c_BTf1/view?usp=drive_link\",\n",
    "        \"https://drive.google.com/file/d/1F50cW58YafPorj83rh3Qav3q3kP7VsD5/view?usp=drive_link\",\n",
    "        \"https://drive.google.com/file/d/1j6YhY1I0H09-99sQzAi2XBfb_m4Zj61Z/view?usp=drive_link\",\n",
    "        \"https://drive.google.com/file/d/1_f4AQn-LiXuDklvr5ndihq9QDm5k7oo4/view?usp=drive_link\",\n",
    "        \"https://drive.google.com/file/d/16AgNG3VTDrPoFTc5NDGZ7iUsxfBPulLy/view?usp=drive_link\",\n",
    "        \"https://drive.google.com/file/d/1OJcetnF0Hmbz96wOGVvt9i9r_PHYsrZ3/view?usp=drive_link\",\n",
    "        \"https://drive.google.com/file/d/1Fw9p2GQx3PlqSZAD8CWdxfNpy3ICkFXm/view?usp=drive_link\",\n",
    "        \"https://drive.google.com/file/d/1Wi0TxpwdI9gcWxaYYr3B_CmzX7PD7x1o/view?usp=drive_link\",\n",
    "        \"https://drive.google.com/file/d/1froCYvYCMhxUYC1KvSIoZHf9wvdax3zO/view?usp=drive_link\"\n",
    "    ],\n",
    "    \"Prem\": [\n",
    "        \"https://drive.google.com/file/d/1bE1hw4gdl1Re4gw1JQ6ovzd47pRcUGgW/view?usp=drive_link\",\n",
    "        \"https://drive.google.com/file/d/1PkpnUoVUE_y-j3I7qw-YetVCf4lJbpcM/view?usp=drive_link\",\n",
    "        \"https://drive.google.com/file/d/1Gp82LolMk6u3yGCtyqhqzDD-O_8WHeOs/view?usp=drive_link\",\n",
    "        \"https://drive.google.com/file/d/1vjFv-3JnDxC1oP5T8T_TZRkFokVeY_mO/view?usp=drive_link\",\n",
    "        \"https://drive.google.com/file/d/1as_dY5wTcMeVdunNsU5o6Ez9V6E-ApX2/view?usp=drive_link\",\n",
    "        \"https://drive.google.com/file/d/1kykl4VKQu1K5z2rTcZT5FTd46jRZwcs_/view?usp=drive_link\",\n",
    "        \"https://drive.google.com/file/d/12k0qxZVbQb-LC9KqUChEsU31MeTEBtnP/view?usp=drive_link\",\n",
    "        \"https://drive.google.com/file/d/1ZN4lEWbCZveZvsMc86SibHqx2ofV_MHX/view?usp=drive_link\",\n",
    "        \"https://drive.google.com/file/d/1PuWT5OisQkoGwuODpVRWz4upZ3E81JzB/view?usp=drive_link\"\n",
    "    ],\n",
    "    \"Ligue 1\": [\n",
    "        \"https://drive.google.com/file/d/1PFRRN6rYaG-uEu0T4DKBPAtNJ2jS7j6c/view?usp=drive_link\",\n",
    "        \"https://drive.google.com/file/d/1DOz7jvSEcVjuv7uJNJ1QhWalNsjiBL0P/view?usp=drive_link\",\n",
    "        \"https://drive.google.com/file/d/19JNxynVsSDCYC7dSlqkIs7mIDuw22y4I/view?usp=drive_link\",\n",
    "        \"https://drive.google.com/file/d/1W9c9GiKHMWxbFU_vxJ0AiePZF_BKQLzD/view?usp=drive_link\",\n",
    "        \"https://drive.google.com/file/d/1qcg1Fyxi-ZksIeKNxc7FKglvvDWyxfra/view?usp=drive_link\",\n",
    "        \"https://drive.google.com/file/d/1uVxZ9yv8_q_m3CcMkTTpRlBlCOen9KEX/view?usp=drive_link\",\n",
    "        \"https://drive.google.com/file/d/12bU3MU7OYGDjZlh14jK3vTZH1A_EOpvi/view?usp=drive_link\",\n",
    "        \"https://drive.google.com/file/d/1T6cvDLt-opE_IfGzKgbKHogdNEbgp67z/view?usp=drive_link\",\n",
    "        \"https://drive.google.com/file/d/1jRat6Psp9F0VXwJFHaGSvqM5ma7fY2ix/view?usp=drive_link\"\n",
    "    ],\n",
    "    \"La Liga\": [\n",
    "        \"https://drive.google.com/file/d/1Kbks-nZYOr-zlQ3NaQGmrqMyr-ek2rzv/view?usp=drive_link\",\n",
    "        \"https://drive.google.com/file/d/1alVDq25J2GQt0y1dGQCDLkEKgPL6oLj3/view?usp=drive_link\",\n",
    "        \"https://drive.google.com/file/d/1TpAoObb1hHxHq0KIPthuLMe0ZPa1BtqZ/view?usp=drive_link\",\n",
    "        \"https://drive.google.com/file/d/1nZdeUEiUvGWc9UuJw13bmfExNP9fvytA/view?usp=drive_link\",\n",
    "        \"https://drive.google.com/file/d/1QfcDoXrigho1rbn5nXu83vsDGNR2FGYW/view?usp=drive_link\",\n",
    "        \"https://drive.google.com/file/d/15wGmy7PqblomJUcxmbockk_GSDURDscW/view?usp=drive_link\",\n",
    "        \"https://drive.google.com/file/d/1EOuUv7Q429rXWxBLW3KMMAllqBeYRGsp/view?usp=drive_link\",\n",
    "        \"https://drive.google.com/file/d/1jUf9tb-V8TFbntH7-gzUDIPImfm3AUdj/view?usp=drive_link\",\n",
    "        \"https://drive.google.com/file/d/10Vs5MgrR5fz7L28c79To9OpeiQquTdJ1/view?usp=drive_link\"\n",
    "    ],\n",
    "    \"Bundesliga\": [\n",
    "        \"https://drive.google.com/file/d/1uIEeS5EaGHy5SXiXt8yVlb31ywos7JIn/view?usp=drive_link\",\n",
    "        \"https://drive.google.com/file/d/1AtfpuVC_pgwA1PgBFEgR-HGlPYLtyTmF/view?usp=drive_link\",\n",
    "        \"https://drive.google.com/file/d/18JO3yFgsJQeIu4D4M2qjd8n5tbzwefP8/view?usp=drive_link\",\n",
    "        \"https://drive.google.com/file/d/1BSgcSBKFaENJBv2w0K0KtbYuieN-t5rC/view?usp=drive_link\",\n",
    "        \"https://drive.google.com/file/d/1Xi6_WuFeoJf-blIjfqbCE6CcndYa5YWf/view?usp=drive_link\",\n",
    "        \"https://drive.google.com/file/d/1Afv1vBfQ2348YzlsJftSUmDPof-tac9h/view?usp=drive_link\",\n",
    "        \"https://drive.google.com/file/d/1A3_SHE5uMzQiXyELjq4OERycK-5JrP1A/view?usp=drive_link\",\n",
    "        \"https://drive.google.com/file/d/1bqrKyembzsR9Cgn-07x4gK7EzrTHkHza/view?usp=drive_link\",\n",
    "        \"https://drive.google.com/file/d/1wU0M9hJ8MvgF8B9ZAbcym6TiHEzv5n6q/view?usp=drive_link\"\n",
    "    ]\n",
    "}\n",
    "\n",
    "dfs = []\n",
    "\n",
    "for league, league_links in links.items():\n",
    "    for i, link in enumerate(league_links):\n",
    "        year = 22 - i\n",
    "        direct_link = get_direct_link(link)\n",
    "        df = pd.read_csv(direct_link, encoding='utf-8')\n",
    "        dfs.append(df)\n",
    "\n",
    "combined_df = pd.concat(dfs, ignore_index = True)"
   ]
  },
  {
   "cell_type": "code",
   "execution_count": 5,
   "id": "fda8526e",
   "metadata": {},
   "outputs": [],
   "source": [
    "column_sets = [set(column_list) for column_list in columns]\n",
    "common_columns = set.intersection(*column_sets)"
   ]
  },
  {
   "cell_type": "code",
   "execution_count": 6,
   "id": "e4d9805c",
   "metadata": {},
   "outputs": [
    {
     "name": "stdout",
     "output_type": "stream",
     "text": [
      "Common columns: {'BWA', 'HTR', 'PSCH', 'HST', 'AwayTeam', 'HY', 'VCD', 'WHD', 'AY', 'AC', 'AS', 'HF', 'HS', 'AST', 'PSD', 'PSA', 'BWH', 'PSH', 'HomeTeam', 'IWH', 'B365H', 'AR', 'HTAG', 'BWD', 'HR', 'WHH', 'Div', 'PSCD', 'HC', 'VCH', 'B365D', 'Date', 'B365A', 'AF', 'IWD', 'VCA', 'HTHG', 'FTAG', 'FTHG', 'IWA', 'PSCA', 'FTR', 'WHA'}\n"
     ]
    }
   ],
   "source": [
    "print(\"Common columns:\", common_columns)"
   ]
  },
  {
   "cell_type": "code",
   "execution_count": 7,
   "id": "d36350eb",
   "metadata": {},
   "outputs": [],
   "source": [
    "columns_choice = ['Div', 'Date', 'HomeTeam', 'AwayTeam', 'FTHG', 'FTAG', 'FTR', 'B365H', 'B365D', 'B365A']"
   ]
  },
  {
   "cell_type": "code",
   "execution_count": 8,
   "id": "e3b50593",
   "metadata": {},
   "outputs": [],
   "source": [
    "columns_to_drop = [col for col in combined_df.columns if col not in columns_choice]\n",
    "combined_df = combined_df.drop(columns=columns_to_drop)"
   ]
  },
  {
   "cell_type": "code",
   "execution_count": 10,
   "id": "6a96082e",
   "metadata": {},
   "outputs": [],
   "source": [
    "combined_df.dropna(inplace=True)\n",
    "combined_df.reset_index(drop=True, inplace=True)"
   ]
  },
  {
   "cell_type": "code",
   "execution_count": 11,
   "id": "5efeade7",
   "metadata": {},
   "outputs": [],
   "source": [
    "combined_df.to_csv('football_odds.csv', index=False)"
   ]
  }
 ],
 "metadata": {
  "kernelspec": {
   "display_name": "Python 3 (ipykernel)",
   "language": "python",
   "name": "python3"
  },
  "language_info": {
   "codemirror_mode": {
    "name": "ipython",
    "version": 3
   },
   "file_extension": ".py",
   "mimetype": "text/x-python",
   "name": "python",
   "nbconvert_exporter": "python",
   "pygments_lexer": "ipython3",
   "version": "3.9.12"
  }
 },
 "nbformat": 4,
 "nbformat_minor": 5
}
