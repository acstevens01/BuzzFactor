{
 "cells": [
  {
   "cell_type": "code",
   "execution_count": 8,
   "id": "d35f63b8",
   "metadata": {},
   "outputs": [],
   "source": [
    "import pandas as pd\n",
    "def get_direct_link(shared_link):\n",
    "    return 'https://drive.google.com/uc?export=download&id=' + shared_link.split('/')[-2]\n",
    "\n",
    "link = \"https://drive.google.com/file/d/1QMgcwm1rUhY14xb1fEfGyJYJ94QUeUYy/view?usp=drive_link\"\n",
    "direct_link = get_direct_link(link)\n",
    "combined_df = pd.read_csv(direct_link)\n",
    "\n",
    "players = pd.DataFrame(pd.concat([combined_df['Winner'],combined_df['Loser']]).unique())\n",
    "players.columns = ['original_names']\n",
    "players['search_query'] = players['original_names'] + \" mens tennis wikipedia\""
   ]
  },
  {
   "cell_type": "code",
   "execution_count": 16,
   "id": "d645496a",
   "metadata": {},
   "outputs": [
    {
     "name": "stdout",
     "output_type": "stream",
     "text": [
      "684\n",
      "685\n",
      "686\n",
      "687\n",
      "688\n",
      "689\n",
      "690\n",
      "691\n",
      "692\n",
      "693\n",
      "694\n",
      "695\n",
      "696\n",
      "697\n",
      "698\n",
      "699\n",
      "700\n"
     ]
    }
   ],
   "source": [
    "import requests\n",
    "from bs4 import BeautifulSoup\n",
    "import urllib.parse\n",
    "\n",
    "def get_first_search_result_title(query):\n",
    "    query = urllib.parse.quote_plus(query)\n",
    "    url = f\"https://www.google.com/search?q={query}\"\n",
    "\n",
    "    headers = {\n",
    "        \"User-Agent\": \"Mozilla/5.0 (Windows NT 10.0; Win64; x64) AppleWebKit/537.36 (KHTML, like Gecko) Chrome/91.0.4472.124 Safari/537.36\",\n",
    "        'Accept-Language': 'en-US,en;q=0.5'\n",
    "    }\n",
    "    \n",
    "    response = requests.get(url, headers=headers)\n",
    "    soup = BeautifulSoup(response.text, \"html.parser\")\n",
    "    first_result = soup.find(\"div\", {\"class\": \"yuRUbf\"})\n",
    "    if first_result:\n",
    "        title = first_result.find(\"h3\").text\n",
    "        return title.strip()\n",
    "\n",
    "    return None\n",
    "\n",
    "count = 684\n",
    "for index, row in players.iterrows():\n",
    "    if index < count:\n",
    "        continue\n",
    "        \n",
    "    query = row[\"search_query\"]\n",
    "    done_player_row = done_players[done_players['search_query'] == query]\n",
    "    \n",
    "    if not done_player_row.empty:\n",
    "        players.at[index, \"wiki_title\"] = done_player_row.iloc[0]['wiki_title']\n",
    "    else:\n",
    "        result_title = get_first_search_result_title(query)\n",
    "        if not result_title:\n",
    "            print(count, index, row['original_names'])\n",
    "            break\n",
    "        players.at[index, \"wiki_title\"] = result_title if result_title else \"No search results found\"\n",
    "    \n",
    "    print(index)\n"
   ]
  },
  {
   "cell_type": "code",
   "execution_count": 18,
   "id": "5fb63291",
   "metadata": {},
   "outputs": [],
   "source": [
    "players[\"wiki_title\"] = players[\"wiki_title\"].str.replace(' - Wikipedia', '')"
   ]
  },
  {
   "cell_type": "code",
   "execution_count": 19,
   "id": "6c661013",
   "metadata": {},
   "outputs": [],
   "source": [
    "players.to_csv(\"mens_tennis_players.csv\", encoding='utf-8', index=False)"
   ]
  }
 ],
 "metadata": {
  "kernelspec": {
   "display_name": "Python 3 (ipykernel)",
   "language": "python",
   "name": "python3"
  },
  "language_info": {
   "codemirror_mode": {
    "name": "ipython",
    "version": 3
   },
   "file_extension": ".py",
   "mimetype": "text/x-python",
   "name": "python",
   "nbconvert_exporter": "python",
   "pygments_lexer": "ipython3",
   "version": "3.9.12"
  }
 },
 "nbformat": 4,
 "nbformat_minor": 5
}
