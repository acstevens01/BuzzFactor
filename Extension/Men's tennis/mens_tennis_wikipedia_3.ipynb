{
 "cells": [
  {
   "cell_type": "code",
   "execution_count": 1,
   "id": "6510ee3d",
   "metadata": {},
   "outputs": [],
   "source": [
    "import pandas as pd\n",
    "from mwviews.api import PageviewsClient\n",
    "import numpy as np\n",
    "\n",
    "def get_direct_link(shared_link):\n",
    "    return 'https://drive.google.com/uc?export=download&id=' + shared_link.split('/')[-2]\n",
    "\n",
    "link = \"https://drive.google.com/file/d/17Q2QEqe33LTyVMDTXcZj2K9IHU-kqkFY/view?usp=drive_link\"\n",
    "direct_link = get_direct_link(link)\n",
    "players_df = pd.read_csv(direct_link)\n",
    "\n",
    "end_date = '20230716'"
   ]
  },
  {
   "cell_type": "code",
   "execution_count": 2,
   "id": "8afc822f",
   "metadata": {},
   "outputs": [],
   "source": [
    "def get_player_data(players):\n",
    "\n",
    "    results = pd.DataFrame(columns=['Date', 'wiki', 'Player'])\n",
    "    for player in players:\n",
    "        try:\n",
    "            data = client.article_views('en.wikipedia', player,\n",
    "                                        granularity='daily',\n",
    "                                        start='20150104',\n",
    "                                        end=end_date)\n",
    "        except:\n",
    "            print(\"Kinda error\")\n",
    "            continue\n",
    "        data_df = pd.DataFrame.from_dict(data, orient='index')\n",
    "        column = data_df.columns[0]\n",
    "        data_df = data_df.reset_index()\n",
    "        data_df.rename(columns={'index' : 'Date',\n",
    "                                 column : 'wiki'}, inplace=True)\n",
    "        data_df['Player'] = player\n",
    "\n",
    "        date_mask = data_df['Date'].isin(results['Date'])\n",
    "        player_mask = data_df['Player'].isin(results['Player'])\n",
    "        dup_mask = date_mask & player_mask\n",
    "        new_data = data_df[~dup_mask]\n",
    "        if new_data.shape[0] == 0:\n",
    "            continue\n",
    "            \n",
    "        new_data.fillna(0, inplace=True)\n",
    "        new_data['year'] = new_data['Date'].dt.year\n",
    "        new_data['month'] = new_data['Date'].dt.month\n",
    "        new_data['day'] = new_data['Date'].dt.day\n",
    "        results = pd.concat([results,new_data])\n",
    "\n",
    "    return results"
   ]
  },
  {
   "cell_type": "code",
   "execution_count": 3,
   "id": "fcfd8b5f",
   "metadata": {},
   "outputs": [],
   "source": [
    "def combine_duplicate_players(df):\n",
    "    grouped_players = df.groupby('wiki_title')['original_names'].apply(np.unique).reset_index()\n",
    "    grouped_players['original_names'] = grouped_players['original_names'].apply(tuple)\n",
    "    merged = df.merge(grouped_players, on='wiki_title', how='left')\n",
    "    merged.drop(columns='original_names_x', inplace=True)\n",
    "    merged.rename(columns={'original_names_y': 'original_names'}, inplace=True)\n",
    "    merged.drop_duplicates(inplace=True)\n",
    "\n",
    "    return merged\n"
   ]
  },
  {
   "cell_type": "code",
   "execution_count": 4,
   "id": "bf44f7ea",
   "metadata": {},
   "outputs": [
    {
     "name": "stdout",
     "output_type": "stream",
     "text": [
      "There are this many null values: 0\n",
      "These are the null values: []\n",
      "Dates with no views: DatetimeIndex(['2015-01-04', '2015-01-05', '2015-01-06', '2015-01-07',\n",
      "               '2015-01-08', '2015-01-09', '2015-01-10', '2015-01-11',\n",
      "               '2015-01-12', '2015-01-13',\n",
      "               ...\n",
      "               '2015-06-21', '2015-06-22', '2015-06-23', '2015-06-24',\n",
      "               '2015-06-25', '2015-06-26', '2015-06-27', '2015-06-28',\n",
      "               '2015-06-29', '2015-06-30'],\n",
      "              dtype='datetime64[ns]', name='Date', length=178, freq=None)\n"
     ]
    }
   ],
   "source": [
    "players = list(players_df['wiki_title'].dropna().unique())\n",
    "\n",
    "client = PageviewsClient(user_agent=\"<jg19184@bristol.ac.uk> Buzz Factor Research\")\n",
    "\n",
    "results = get_player_data(players)\n",
    "\n",
    "merged = players_df[['original_names', 'wiki_title']].merge\\\n",
    "  (results, left_on='wiki_title', right_on='Player',  how='left')\n",
    "merged.drop(columns=['Player'], inplace=True)\n",
    "\n",
    "print('There are this many null values:',merged.wiki.isnull().values.sum())\n",
    "print('These are the null values:', merged.loc[merged.wiki.isnull()==True].wiki_title.values)\n",
    "\n",
    "merged = merged[merged.wiki.notnull()]\n",
    "nulls = merged.groupby('Date')['wiki'].sum() == 0\n",
    "null_dates = nulls[nulls == True].index.tolist()\n",
    "print('Dates with no views:', nulls.loc[nulls == True].index)\n",
    "merged = merged[~merged.Date.isin(null_dates)]\n",
    "\n",
    "merged = combine_duplicate_players(merged)\n",
    "\n",
    "merged.sort_values(['wiki_title', 'Date'], inplace=True)\n",
    "merged.to_csv(\"mens_tennis_wikipedia.csv\", encoding='utf8', index=False)"
   ]
  }
 ],
 "metadata": {
  "kernelspec": {
   "display_name": "Python 3 (ipykernel)",
   "language": "python",
   "name": "python3"
  },
  "language_info": {
   "codemirror_mode": {
    "name": "ipython",
    "version": 3
   },
   "file_extension": ".py",
   "mimetype": "text/x-python",
   "name": "python",
   "nbconvert_exporter": "python",
   "pygments_lexer": "ipython3",
   "version": "3.9.12"
  }
 },
 "nbformat": 4,
 "nbformat_minor": 5
}
