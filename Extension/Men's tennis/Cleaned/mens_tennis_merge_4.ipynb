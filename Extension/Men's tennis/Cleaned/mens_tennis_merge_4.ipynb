{
 "cells": [
  {
   "cell_type": "code",
   "execution_count": 11,
   "id": "fc5b7c05",
   "metadata": {},
   "outputs": [],
   "source": [
    "import pandas as pd\n",
    "from datetime import datetime\n",
    "\n",
    "def get_direct_link(shared_link):\n",
    "    return 'https://drive.google.com/uc?export=download&id=' + shared_link.split('/')[-2]\n",
    "\n",
    "link = \"https://drive.google.com/file/d/1FAmOiioTsOwuseMKLALDvGDKyVlhpocv/view?usp=drive_link\"\n",
    "direct_link = get_direct_link(link)\n",
    "wiki_data = pd.read_csv(direct_link, encoding='UTF-8')\n",
    "\n",
    "link = \"https://drive.google.com/file/d/1sZvenOQBsUwKqoinO_FBmUcvCbammn7n/view?usp=drive_link\"\n",
    "direct_link = get_direct_link(link)\n",
    "odds_data = pd.read_csv(direct_link)\n",
    "\n",
    "wiki_data['Date'] = pd.to_datetime(wiki_data['Date'])\n",
    "wiki_data['date'] = wiki_data['Date']\n",
    "wiki_data['pid'] = wiki_data.groupby('wiki_title').ngroup()\n",
    "\n",
    "duplicates = wiki_data.duplicated(subset=['pid', 'Date'])\n",
    "duplicates = duplicates[duplicates].index\n",
    "wiki_data = wiki_data.drop(duplicates)\n",
    "\n",
    "wiki_data = wiki_data.set_index(['pid', 'Date']).sort_index()\n"
   ]
  },
  {
   "cell_type": "code",
   "execution_count": 12,
   "id": "e526ef3b",
   "metadata": {},
   "outputs": [],
   "source": [
    "wiki_data.sort_values(by=['pid', 'date'], inplace=True)\n",
    "\n",
    "wiki_data['wiki_med365'] = wiki_data.groupby('pid')['wiki'].rolling(window=365, min_periods=0).median().reset_index(0, drop=True)\n",
    "wiki_data['wiki_yesterday'] = wiki_data.groupby('pid')['wiki'].shift()\n",
    "\n",
    "wiki_data = wiki_data.dropna(subset=['month', 'year', 'day'])"
   ]
  },
  {
   "cell_type": "code",
   "execution_count": 13,
   "id": "f96a45f5",
   "metadata": {},
   "outputs": [],
   "source": [
    "odds_data['date'] = pd.to_datetime(odds_data['Date'], format='%Y-%m-%d')\n",
    "odds_data['year'] = odds_data['date'].dt.year\n",
    "odds_data['month'] = odds_data['date'].dt.month\n",
    "odds_data['day'] = odds_data['date'].dt.day\n",
    "\n",
    "wiki_data['date'] = pd.to_datetime(wiki_data['date'], format='%d/%m/%Y')\n",
    "wiki_data['year'] = wiki_data['date'].dt.year\n",
    "wiki_data['month'] = wiki_data['date'].dt.month\n",
    "wiki_data['day'] = wiki_data['date'].dt.day "
   ]
  },
  {
   "cell_type": "code",
   "execution_count": 14,
   "id": "f8a4b694",
   "metadata": {},
   "outputs": [],
   "source": [
    "wiki_columns = ['date','wiki']+(list(wiki_data.columns[7:20]))"
   ]
  },
  {
   "cell_type": "code",
   "execution_count": 15,
   "id": "253a2b53",
   "metadata": {},
   "outputs": [
    {
     "name": "stdout",
     "output_type": "stream",
     "text": [
      "0\n",
      "50\n",
      "100\n",
      "150\n",
      "200\n",
      "250\n",
      "300\n",
      "350\n",
      "400\n",
      "450\n",
      "500\n",
      "550\n",
      "600\n"
     ]
    }
   ],
   "source": [
    "merged_data = pd.DataFrame()\n",
    "j = -1\n",
    "names = ''\n",
    "for i, row in wiki_data.iterrows():\n",
    "    names = row['original_names']\n",
    "    winner_mask = odds_data['Winner'].apply(lambda x: x in names)\n",
    "    temp_data = odds_data[winner_mask].copy()\n",
    "    temp_data['original_names'] = names\n",
    "    temp_data = temp_data.merge(pd.DataFrame([row[wiki_columns]]), on=['date'], how='inner')\n",
    "    merged_data = pd.concat([merged_data,temp_data], ignore_index=True)\n",
    "    if (i[0] % 50 ==0) & (i[0] > j):\n",
    "        print(i[0])\n",
    "        j = i[0]\n",
    "        \n",
    "\n",
    "for column in merged_data.columns:\n",
    "    if column.startswith('wiki'):\n",
    "        merged_data = merged_data.rename(columns={column: column + '_w'})"
   ]
  },
  {
   "cell_type": "code",
   "execution_count": 16,
   "id": "e3c58448",
   "metadata": {},
   "outputs": [
    {
     "name": "stdout",
     "output_type": "stream",
     "text": [
      "0\n",
      "50\n",
      "100\n",
      "150\n",
      "200\n",
      "250\n",
      "300\n",
      "350\n",
      "400\n",
      "450\n",
      "500\n",
      "550\n",
      "600\n"
     ]
    }
   ],
   "source": [
    "j = -1\n",
    "names = ''\n",
    "for i, row in wiki_data.iterrows():\n",
    "    names = row['original_names']\n",
    "    loser_mask = odds_data['Loser'].apply(lambda x: x in names)\n",
    "    temp_data = odds_data[loser_mask].copy()\n",
    "    temp_data['original_names'] = names\n",
    "    temp_data = temp_data.merge(pd.DataFrame([row[wiki_columns]]), on=['date'], how='inner')\n",
    "    merged_data = pd.concat([merged_data,temp_data], ignore_index=True)\n",
    "    if (i[0] % 50 ==0) & (i[0] > j):\n",
    "        print(i[0])\n",
    "        j = i[0]\n",
    "    \n",
    "for column in merged_data.columns:\n",
    "    if (column.startswith('wiki')) and not column.endswith('_w'):\n",
    "        merged_data = merged_data.rename(columns={column: column + '_l'})"
   ]
  },
  {
   "cell_type": "code",
   "execution_count": 17,
   "id": "f26007af",
   "metadata": {},
   "outputs": [],
   "source": [
    "merged_data_l = merged_data[merged_data['wiki_w'].isnull()].reset_index()\n",
    "merged_data_w = merged_data[merged_data['wiki_l'].isnull()]\n",
    "\n",
    "combined_df = merged_data_w.combine_first(merged_data_l)"
   ]
  },
  {
   "cell_type": "code",
   "execution_count": 18,
   "id": "9973180d",
   "metadata": {},
   "outputs": [],
   "source": [
    "combined_df.to_csv('mens_tennis_merged.csv', index=False)"
   ]
  }
 ],
 "metadata": {
  "kernelspec": {
   "display_name": "Python 3 (ipykernel)",
   "language": "python",
   "name": "python3"
  },
  "language_info": {
   "codemirror_mode": {
    "name": "ipython",
    "version": 3
   },
   "file_extension": ".py",
   "mimetype": "text/x-python",
   "name": "python",
   "nbconvert_exporter": "python",
   "pygments_lexer": "ipython3",
   "version": "3.9.12"
  }
 },
 "nbformat": 4,
 "nbformat_minor": 5
}
